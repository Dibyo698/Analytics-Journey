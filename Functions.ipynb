{
  "nbformat": 4,
  "nbformat_minor": 0,
  "metadata": {
    "colab": {
      "provenance": []
    },
    "kernelspec": {
      "name": "python3",
      "display_name": "Python 3"
    },
    "language_info": {
      "name": "python"
    }
  },
  "cells": [
    {
      "cell_type": "markdown",
      "source": [
        "#Functions Assignment:-\n"
      ],
      "metadata": {
        "id": "1zmLwNwizRXO"
      }
    },
    {
      "cell_type": "markdown",
      "source": [
        "1) What is the difference between a function and a method in Python?\n",
        "\n",
        " >> Function is a block of code that performs a specific repeatative task and is not tied to any object or class. Whereas Method is defined into a Class and associated with an Object.\n",
        "\n",
        "*   Function:\n",
        "              def greet(name):\n",
        "              return f\"Hello, {name}!\"\n",
        "*   Method:\n",
        "              class Greeter:\n",
        "              def greet_method(self, name):\n",
        "              return f\"Hello, {name}!\"\n",
        " >> Functions are called by their name, wheras Methods are called by the Object or Class name.\n",
        "\n",
        "2)  Explain the concept of function arguments and parameters in Python.\n",
        ">>  Parameters are variables declared inside the parentheses in the function definition, it acts as placeholders for the data that the function will use when it is called.\n",
        "\n",
        "*   Parameters:\n",
        "                def greet(name):  # 'name' is a parameter\n",
        "                print(f\"Hello, {name}!\")\n",
        ">>  Arguments are the actual values passed to the function when it's called.\n",
        "* Arguments:\n",
        "                greet(\"Dibyo\")  # \"Dibyo\" is an argument\n",
        "\n",
        "3) What are the different ways to define and call a function in Python?\n",
        "\n",
        ">> There are multiple ways to define & Call a function.\n",
        "\n",
        "* Def keyword:\n",
        "                def greet(name):\n",
        "                print(f\"Hello, {name}!\")\n",
        "* Recursive Functions:\n",
        "                def factorial(n):\n",
        "                    if n == 0 or n == 1:\n",
        "                      return 1\n",
        "                    else:\n",
        "                      return n * factorial(n - 1)\n",
        "                factorial(5)\n",
        "* Varibale length Arguments:\n",
        "                def func(**kwargs):\n",
        "                  print(kwargs)\n",
        "                func(a= 2, b=3, c=4)\n",
        "* Lambda Functions:\n",
        "                sq= lambda x: x**2\n",
        "                sq(2)\n",
        "\n",
        "4) What is the purpose of the `return` statement in a Python function?\n",
        "* > The return statement allows a function to pass the result of a computation—back to the part of the program that called the function.\n",
        "* >When a return statement is encountered, the function immediately stops running\n",
        "* >A function without a return statement will return `None` when it completes execution\n",
        "\n",
        "5) What are iterators in Python and how do they differ from iterables?\n",
        "* > Iterable is an object, that one can iterate over. We can traverse its elements one by one, such as lists, tuples, dictionaries, and strings. All Iterators can be Iterables, Iterators are special objects that let us go through the items of an iterable one by one.\n",
        "* > We take an iterable and use the iter() function to get an iterator & use the next() function on the iterator to get the next item.It remembers the place in the sequence.\n",
        "* > Iterables are not Iterators.If we try to use next() on a list or string directly, it won’t work—we need to turn it into an iterator first.\n",
        "* >> Iterables are like book((we can read it from start to finish, but we need a bookmark to remember our place).. whereas Iterators are like Bookmark (it keeps track of where we are in the book as we read page by page).\n",
        "\n",
        "6) Explain the concept of generators in Python and how they are defined.\n",
        "* >  Similar to defining a normal function, we can define a generator function using the `def` keyword, but instead of the `return` statement we use the `yield` statement.\n",
        "* >> When called, a generator function does not execute immediately; instead, it returns a generator object.\n",
        "* >>> Each time we request the next value (using next() or a loop), the function runs until it hits a yield statement, returns the value, and pauses execution.\n",
        "* >>>>The next time we ask for a value, the function resumes right after the last yield statement\n",
        "\n",
        "7) What are the advantages of using generators over regular functions?\n",
        "* >Regular functions finish all work and store everything before giving us results, which can use too much memory for big lists.\n",
        "* > Generators give us items one by one, so we don’t have to store everything at once\n",
        "\n",
        "8) What is a lambda function in Python and when is it typically used?\n",
        "> A lambda function in Python is a short hand, anonymous function defined using the keyword `lambda`. Lambda functions help keep code short and clear when the function logic is simple and not reused elsewhere.\n",
        "* Code:\n",
        "       lambda arguments: expression\n",
        "       double = lambda x: x * 2\n",
        "       print(double(5))  \n",
        "       # Output: 10\n",
        "\n",
        "9) Explain the purpose and usage of the `map()` function in Python.\n",
        "> The map() function in Python is used to apply a specified function to every item in an iterable (like a list, tuple, or set) and return an iterator containing the results. `map()` takes each element from the iterable, applies the function to it, and yields the result as an iterator. Its main purpose is to simplify and streamline repetitive operations that would otherwise require a loop.\n",
        ">> Suppose you have a list of numbers and you want to double each number:\n",
        "* Code:\n",
        "        numbers = [1, 2, 3, 4]\n",
        "        doubled = map(lambda x: x * 2, numbers)\n",
        "        print(list(doubled))\n",
        "        #output [2, 4, 6, 8]\n",
        "\n",
        "10) What is the difference between `map()`, `reduce()`, and `filter()` functions in Python?\n",
        "* map(): Runs a function on each item and returns a new iterator with the results\n",
        "        map(lambda x: x * 2, [1, 2, 3])  \n",
        "        # Returns iterator with [2, 4, 6]\n",
        "* filter(): Uses a function to test each item; keeps only those that pass (return True)\n",
        "        filter(lambda x: x % 2 == 0, [1, 2, 3, 4])  \n",
        "        # Returns iterator with [2, 4]\n",
        "* reduce(): Applies a function cumulatively to pairs of items, reducing them to a single value(requires from functools import reduce)\n",
        "        from functools import reduce\n",
        "        reduce(lambda x, y: x + y, [1, 2, 3, 4])  \n",
        "        # Returns 10\n",
        "\n",
        "11) write the internal mechanism for sum operation using  reduce function on this given list:[47,11,42,13];\n",
        ">"
      ],
      "metadata": {
        "id": "uNyOVSMrzWeu"
      }
    },
    {
      "cell_type": "markdown",
      "source": [
        "![Image description](https://drive.google.com/uc?export=view&id=1Wcsj40Al-Uzyg1_DSSwtxPMGDR_yLkIw/view?usp=sharing)\n"
      ],
      "metadata": {
        "id": "oJzmDsg-yJPm"
      }
    },
    {
      "cell_type": "markdown",
      "source": [
        "# Practical Questions:\n"
      ],
      "metadata": {
        "id": "_oaJGVAIxRvU"
      }
    },
    {
      "cell_type": "markdown",
      "source": [
        "1) Write a Python function that takes a list of numbers as input and returns the sum of all even numbers in\n",
        "the list."
      ],
      "metadata": {
        "id": "C56QO2P-yIIS"
      }
    },
    {
      "cell_type": "code",
      "source": [
        "def sum_even_numbers(numbers):\n",
        "    total = 0\n",
        "    for num in numbers:\n",
        "        if num % 2 == 0:  # Check if the number is even\n",
        "            total += num\n",
        "    return total\n",
        "\n",
        "numbers = [1, 2, 3, 4, 5, 6]\n",
        "result = sum_even_numbers(numbers)\n",
        "print(\"Sum of even numbers:\", result)\n"
      ],
      "metadata": {
        "colab": {
          "base_uri": "https://localhost:8080/"
        },
        "id": "5ams8QyHyYgh",
        "outputId": "40750d8d-12e8-4b3c-80aa-beb335722edf"
      },
      "execution_count": null,
      "outputs": [
        {
          "output_type": "stream",
          "name": "stdout",
          "text": [
            "Sum of even numbers: 12\n"
          ]
        }
      ]
    },
    {
      "cell_type": "markdown",
      "source": [
        "2)  Create a Python function that accepts a string and returns the reverse of that string."
      ],
      "metadata": {
        "id": "jQ02ZTqOzorX"
      }
    },
    {
      "cell_type": "code",
      "execution_count": null,
      "metadata": {
        "id": "PadyZUsyzNNL",
        "colab": {
          "base_uri": "https://localhost:8080/"
        },
        "outputId": "15f53df2-dfb1-4c2c-ce67-e9e530a91de8"
      },
      "outputs": [
        {
          "output_type": "stream",
          "name": "stdout",
          "text": [
            "!dlroW ,olleH\n"
          ]
        }
      ],
      "source": [
        "def reverse_string(s):\n",
        "    return s[::-1]\n",
        "input_string = \"Hello, World!\"\n",
        "print(reverse_string(input_string))"
      ]
    },
    {
      "cell_type": "markdown",
      "source": [
        "3) Implement a Python function that takes a list of integers and returns a new list containing the squares of\n",
        "each number"
      ],
      "metadata": {
        "id": "GlKGgWQzz4E3"
      }
    },
    {
      "cell_type": "code",
      "source": [
        "def square_numbers(numbers):\n",
        "    return [num ** 2 for num in numbers]\n",
        "my_list = [1, 2, 3, 4, 5]\n",
        "squared_list = square_numbers(my_list)\n",
        "print(squared_list)"
      ],
      "metadata": {
        "colab": {
          "base_uri": "https://localhost:8080/"
        },
        "id": "tpVDZB8Ez18C",
        "outputId": "ac5ed050-31a0-43af-ddd9-6e6eb0d1ee97"
      },
      "execution_count": null,
      "outputs": [
        {
          "output_type": "stream",
          "name": "stdout",
          "text": [
            "[1, 4, 9, 16, 25]\n"
          ]
        }
      ]
    },
    {
      "cell_type": "markdown",
      "source": [
        "4) Write a Python function that checks if a given number is prime or not from 1 to 200."
      ],
      "metadata": {
        "id": "7YLkYxBq0sRW"
      }
    },
    {
      "cell_type": "code",
      "source": [
        "def is_prime(n):\n",
        "    if n < 2:\n",
        "        return False\n",
        "    for i in range(2, n):\n",
        "        if n % i == 0:\n",
        "            return False\n",
        "    return True\n",
        "\n",
        "# Print all primes from 1 to 200\n",
        "for num in range(1, 201):\n",
        "    if is_prime(num):\n",
        "        print(num, end=' ')"
      ],
      "metadata": {
        "colab": {
          "base_uri": "https://localhost:8080/"
        },
        "id": "EjCc4hVG0pde",
        "outputId": "1568ce03-6b52-4933-925f-05d7081257fd"
      },
      "execution_count": null,
      "outputs": [
        {
          "output_type": "stream",
          "name": "stdout",
          "text": [
            "2 3 5 7 11 13 17 19 23 29 31 37 41 43 47 53 59 61 67 71 73 79 83 89 97 101 103 107 109 113 127 131 137 139 149 151 157 163 167 173 179 181 191 193 197 199 "
          ]
        }
      ]
    },
    {
      "cell_type": "markdown",
      "source": [
        "5) Create an iterator class in Python that generates the Fibonacci sequence up to a specified number of\n",
        "terms."
      ],
      "metadata": {
        "id": "OB4pGFFU1PlB"
      }
    },
    {
      "cell_type": "code",
      "source": [
        "def fibonacci(n):\n",
        "    a, b = 0, 1\n",
        "    for _ in range(n):\n",
        "        yield a\n",
        "        a, b = b, a + b\n",
        "\n",
        "# Example: Print first 10 Fibonacci numbers\n",
        "for num in fibonacci(10):\n",
        "    print(num, end=' ')"
      ],
      "metadata": {
        "colab": {
          "base_uri": "https://localhost:8080/"
        },
        "id": "_7OKWv_o1x1x",
        "outputId": "2f2e9efc-75ce-4ea1-a526-eda7c8c2fe61"
      },
      "execution_count": null,
      "outputs": [
        {
          "output_type": "stream",
          "name": "stdout",
          "text": [
            "0 1 1 2 3 5 8 13 21 34 "
          ]
        }
      ]
    },
    {
      "cell_type": "markdown",
      "source": [
        "6) Write a generator function in Python that yields the powers of 2 up to a given exponent."
      ],
      "metadata": {
        "id": "uh8HUvtz2IoN"
      }
    },
    {
      "cell_type": "code",
      "source": [
        "def powers_of_two(max_exponent):\n",
        "    for i in range(max_exponent + 1):\n",
        "        yield 2 ** i\n",
        "\n",
        "# Example: Print powers of 2 up to exponent 3\n",
        "for power in powers_of_two(3):\n",
        "    print(power, end=' ')"
      ],
      "metadata": {
        "colab": {
          "base_uri": "https://localhost:8080/"
        },
        "id": "0nf9Nkid2BbK",
        "outputId": "4c0d7ed7-bafb-4a8f-8013-bf1052b35b41"
      },
      "execution_count": null,
      "outputs": [
        {
          "output_type": "stream",
          "name": "stdout",
          "text": [
            "1 2 4 8 "
          ]
        }
      ]
    },
    {
      "cell_type": "markdown",
      "source": [
        "7) Implement a generator function that reads a file line by line and yields each line as a string."
      ],
      "metadata": {
        "id": "939hI4kk2hpz"
      }
    },
    {
      "cell_type": "code",
      "source": [],
      "metadata": {
        "id": "flgHPfGN2dmv"
      },
      "execution_count": null,
      "outputs": []
    },
    {
      "cell_type": "markdown",
      "source": [
        "8) Use a lambda function in Python to sort a list of tuples based on the second element of each tuple."
      ],
      "metadata": {
        "id": "21jYxT7x3NuA"
      }
    },
    {
      "cell_type": "code",
      "source": [
        "tuples = [('apple', 3), ('banana', 1), ('cherry', 2)]\n",
        "sorted_tuples = sorted(tuples, key=lambda x: x[1])\n",
        "\n",
        "print(sorted_tuples)"
      ],
      "metadata": {
        "colab": {
          "base_uri": "https://localhost:8080/"
        },
        "id": "9ZxUo1ct3QgJ",
        "outputId": "d8f0ed0b-9097-44a5-c25a-e67d4492ab75"
      },
      "execution_count": null,
      "outputs": [
        {
          "output_type": "stream",
          "name": "stdout",
          "text": [
            "[('banana', 1), ('cherry', 2), ('apple', 3)]\n"
          ]
        }
      ]
    },
    {
      "cell_type": "markdown",
      "source": [
        "9) Write a Python program that uses `map()` to convert a list of temperatures from Celsius to Fahrenheit."
      ],
      "metadata": {
        "id": "oKBxPYnR3fh6"
      }
    },
    {
      "cell_type": "code",
      "source": [
        "celsius_temps = [0, 10, 20, 30, 37, 100]\n",
        "fahrenheit_temps = list(map(lambda c: (c * 9/5) + 32, celsius_temps))\n",
        "\n",
        "print(\"Celsius:\", celsius_temps)\n",
        "print(\"Fahrenheit:\", fahrenheit_temps)"
      ],
      "metadata": {
        "colab": {
          "base_uri": "https://localhost:8080/"
        },
        "id": "eDJJFKIP3bG9",
        "outputId": "7df86319-7ac7-475f-995a-ee123320f941"
      },
      "execution_count": null,
      "outputs": [
        {
          "output_type": "stream",
          "name": "stdout",
          "text": [
            "Celsius: [0, 10, 20, 30, 37, 100]\n",
            "Fahrenheit: [32.0, 50.0, 68.0, 86.0, 98.6, 212.0]\n"
          ]
        }
      ]
    },
    {
      "cell_type": "markdown",
      "source": [
        "10)  Create a Python program that uses `filter()` to remove all the vowels from a given string."
      ],
      "metadata": {
        "id": "_tww7lYk3sje"
      }
    },
    {
      "cell_type": "code",
      "source": [
        "vowels = {'a', 'e', 'i', 'o', 'u', 'A', 'E', 'I', 'O', 'U'}\n",
        "text = \"Hello, World!\"\n",
        "\n",
        "# Use filter to get non-vowel characters as a list\n",
        "filtered_chars = list(filter(lambda c: c not in vowels, text))\n",
        "\n",
        "print(filtered_chars)"
      ],
      "metadata": {
        "colab": {
          "base_uri": "https://localhost:8080/"
        },
        "id": "ykm4mhkh3rWJ",
        "outputId": "a5c2bfab-93ed-40df-d3ec-a67e7e91ec23"
      },
      "execution_count": null,
      "outputs": [
        {
          "output_type": "stream",
          "name": "stdout",
          "text": [
            "['H', 'l', 'l', ',', ' ', 'W', 'r', 'l', 'd', '!']\n"
          ]
        }
      ]
    },
    {
      "cell_type": "code",
      "source": [],
      "metadata": {
        "id": "6jx7BTAt4Du5"
      },
      "execution_count": null,
      "outputs": []
    }
  ]
}