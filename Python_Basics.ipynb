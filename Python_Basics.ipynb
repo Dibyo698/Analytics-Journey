{
  "nbformat": 4,
  "nbformat_minor": 0,
  "metadata": {
    "colab": {
      "provenance": []
    },
    "kernelspec": {
      "name": "python3",
      "display_name": "Python 3"
    },
    "language_info": {
      "name": "python"
    }
  },
  "cells": [
    {
      "cell_type": "markdown",
      "source": [
        "#Python Basics Assignment"
      ],
      "metadata": {
        "id": "H3g6IX_f4T27"
      }
    },
    {
      "cell_type": "markdown",
      "source": [
        "1) What is Python, and why is it popular?\n",
        "  -Python is a Programming language to interact with Computer by giving some instructions to do work.\n",
        "  -a) Among others such languages,Python is accepted globally because of its collection of libraries by Python Community\n",
        "  -b) It is versatile ,can be used in Web development,ML , Analytics etc\n",
        "  -c) Cross platform connection with Databases are possible\n",
        "  -d) It has less computational time\n",
        "\n",
        "2) What is an interpreter in Python?\n",
        "  -Interpreter reads the codes line by line and interpret & translates High level language to Binary language what task is to be done & perform accordingly.\n",
        "\n",
        "3) What are pre-defined keywords in Python?\n",
        "  -There are total 35 Pre-defined keywords in python which we can't use during writing code as Variables, otherwise it will show an error,e.g- elif, in, try, else, is, while\n",
        "\n",
        "4) Can keywords be used as variable names?\n",
        "  -No,but we can use Help command to see all the Pre defined keywords\n",
        "\n",
        "5) What is mutability in Python?\n",
        "  -Mutability is a feature of Data Structure where one Data Structure once created can't be changed if it is Immutable, we use different Data Structures according to their Mutability features as per need.\n",
        "\n",
        "6)  Why are lists mutable, but tuples are immutable?\n",
        "  -Lists are ordered or indexed Data Structure, where we can find and replace any Indexed character as per need, whereas, Tuples are Unordered, we can't change the Data inside the Tuple which is once created.\n",
        "\n",
        "7) What is the difference between “==” and “is” operators in Python?\n",
        "  -These two are different kind of Operators, '==\" is relational Operator, which Compares the value of two Objects/ Variables, \"is\" is Indentity Operators, which also Compares the Value of two objects, but it compares by the Location of these two for two different memory Block\n",
        "\n",
        "8) What are logical operators in Python?\n",
        "  -depending on the Binary Logic this operators give output, e.g:- AND, NOT, OR\n",
        "\n",
        "9) What is type casting in Python?\n",
        "  -Type casting is a method by which the Data type of any Variable is converted to another Data type.\n",
        "\n",
        "10) What is the difference between implicit and explicit type casting?\n",
        "  -Implicit Type casting means , Python itself changes the Type of varibales when two different types are available to perform.\n",
        "  -Explicit type casting means, Programmer need to manually change the Type of varibale to perform the desired operation.\n",
        "  -e.g:- to Add one INT and one FLOAT type, Python can automatically coverts the Data type of INT into FLOAT , this is Implicit Type casting, however , we can manually covert the Type by using Float() function, then it is called Explicit type casting\n",
        "\n",
        "11) What is the purpose of conditional statements in Python?\n",
        "  -It helps to perform a specific task depending on the Condition is True or False.It helps to control the flow of code.\n",
        "\n",
        "12) How does the elif statement work?\n",
        "  -when multiple IF statements are required, then ELIF is used.\n",
        "\n",
        "13) What is the difference between for and while loops?\n",
        "  -FOR loop is used when the number of iteration is known, whereas, WHILE loop is used where the iteration number isn't known, and it won't stop till the Condition met.\n",
        "\n",
        "14) Describe a scenario where a while loop is more suitable than a for loop.\n",
        "  -In case of taking an User input where we dont know the exact number of iteration beforehand, there we should use WHILE loop."
      ],
      "metadata": {
        "id": "quntER_X4guL"
      }
    },
    {
      "cell_type": "markdown",
      "source": [
        "#Practical Questions:\n"
      ],
      "metadata": {
        "id": "2sYEMcV67a7R"
      }
    },
    {
      "cell_type": "markdown",
      "source": [
        "1)Write a Python program to print \"Hello, World!\""
      ],
      "metadata": {
        "id": "ryL3NCSF7eZc"
      }
    },
    {
      "cell_type": "code",
      "source": [
        "a=input(\"Hi dibyo, What to print?  \")\n",
        "print(\"Here is your input>>\",a)"
      ],
      "metadata": {
        "colab": {
          "base_uri": "https://localhost:8080/"
        },
        "id": "sq47gLq27vm4",
        "outputId": "0e1b1a7b-ef2b-4d12-b9fa-deb71420c2f2"
      },
      "execution_count": null,
      "outputs": [
        {
          "output_type": "stream",
          "name": "stdout",
          "text": [
            "Hi dibyo, What to print?  Hello, World!\n",
            "Here is your input>> Hello, World!\n"
          ]
        }
      ]
    },
    {
      "cell_type": "markdown",
      "source": [
        "2) Write a Python program that displays your name and age."
      ],
      "metadata": {
        "id": "vKRQeKD38Zv5"
      }
    },
    {
      "cell_type": "code",
      "source": [
        "Name=\"Dibyo\"\n",
        "Age=29\n",
        "print(\"My name is>>\",Name, \"<<Age is\",Age)"
      ],
      "metadata": {
        "id": "fTeKD--Ca3eT",
        "colab": {
          "base_uri": "https://localhost:8080/"
        },
        "outputId": "c08836dd-0d40-4f6e-a6b9-e1521a543064"
      },
      "execution_count": null,
      "outputs": [
        {
          "output_type": "stream",
          "name": "stdout",
          "text": [
            "My name is>> Dibyo <<Age is 29\n"
          ]
        }
      ]
    },
    {
      "cell_type": "markdown",
      "source": [
        "3) Write code to print all the pre-defined keywords in Python using the keyword library"
      ],
      "metadata": {
        "id": "RT8uKmjP8xyk"
      }
    },
    {
      "cell_type": "code",
      "source": [
        "help(\"keywords\")"
      ],
      "metadata": {
        "colab": {
          "base_uri": "https://localhost:8080/"
        },
        "id": "ypjaQbFR8lgO",
        "outputId": "8bd8e347-8d64-4bf8-f71e-183a50324108"
      },
      "execution_count": null,
      "outputs": [
        {
          "output_type": "stream",
          "name": "stdout",
          "text": [
            "\n",
            "Here is a list of the Python keywords.  Enter any keyword to get more help.\n",
            "\n",
            "False               class               from                or\n",
            "None                continue            global              pass\n",
            "True                def                 if                  raise\n",
            "and                 del                 import              return\n",
            "as                  elif                in                  try\n",
            "assert              else                is                  while\n",
            "async               except              lambda              with\n",
            "await               finally             nonlocal            yield\n",
            "break               for                 not                 \n",
            "\n"
          ]
        }
      ]
    },
    {
      "cell_type": "markdown",
      "source": [
        "4) Write a program that checks if a given word is a Python keyword."
      ],
      "metadata": {
        "id": "VAQIBe5x88Ow"
      }
    },
    {
      "cell_type": "code",
      "source": [
        "py_keywords = [\"False\", \"None\", \"True\", \"and\", \"as\", \"assert\", \"async\", \"await\", \"break\",\n",
        "\"class\", \"continue\", \"def\", \"del\", \"elif\", \"else\", \"except\", \"finally\",\n",
        "    \"for\", \"from\", \"global\", \"if\", \"import\", \"in\", \"is\", \"lambda\", \"nonlocal\",\n",
        "    \"not\", \"or\", \"pass\", \"raise\", \"return\", \"try\", \"while\", \"with\", \"yield\"]\n",
        "a=input(\"Enter your choice:  \")\n",
        "\n",
        "if a in py_keywords:\n",
        "  print(\"It is a Python Keyword\")\n",
        "else:\n",
        "  print(\"It is not a Python Keyword\")\n"
      ],
      "metadata": {
        "colab": {
          "base_uri": "https://localhost:8080/"
        },
        "id": "HH6SKaAq86I6",
        "outputId": "ba1d3032-f03d-4d0a-9875-f58cc53e9e91"
      },
      "execution_count": null,
      "outputs": [
        {
          "output_type": "stream",
          "name": "stdout",
          "text": [
            "Enter your choice:  if\n",
            "It is a Python Keyword\n"
          ]
        }
      ]
    },
    {
      "cell_type": "markdown",
      "source": [
        "5)Create a list and tuple in Python, and demonstrate how attempting to change an element works differently for each"
      ],
      "metadata": {
        "id": "BJLyqP7y-D2Y"
      }
    },
    {
      "cell_type": "code",
      "source": [
        "list1=[1,2,3,4,5]\n",
        "tup1=(1,2,3,4,5)\n",
        "print(\"old list\",list1)\n",
        "list1[1]=6\n",
        "print(\"modified list\",list1)\n",
        "print(\"old tuple\",tup1)\n",
        "tup1[1]=6\n",
        "print(\"modified tuple\",tup1)  #Tuple is Immutable.so can't be updated"
      ],
      "metadata": {
        "colab": {
          "base_uri": "https://localhost:8080/",
          "height": 245
        },
        "id": "wGnOkMpp9zLx",
        "outputId": "3e8ae2df-d89b-49c6-cf30-00ddc6a01c1d"
      },
      "execution_count": null,
      "outputs": [
        {
          "output_type": "stream",
          "name": "stdout",
          "text": [
            "old list [1, 2, 3, 4, 5]\n",
            "modified list [1, 6, 3, 4, 5]\n",
            "old tuple (1, 2, 3, 4, 5)\n"
          ]
        },
        {
          "output_type": "error",
          "ename": "TypeError",
          "evalue": "'tuple' object does not support item assignment",
          "traceback": [
            "\u001b[0;31m---------------------------------------------------------------------------\u001b[0m",
            "\u001b[0;31mTypeError\u001b[0m                                 Traceback (most recent call last)",
            "\u001b[0;32m<ipython-input-8-e72f9c6192f9>\u001b[0m in \u001b[0;36m<cell line: 0>\u001b[0;34m()\u001b[0m\n\u001b[1;32m      5\u001b[0m \u001b[0mprint\u001b[0m\u001b[0;34m(\u001b[0m\u001b[0;34m\"modified list\"\u001b[0m\u001b[0;34m,\u001b[0m\u001b[0mlist1\u001b[0m\u001b[0;34m)\u001b[0m\u001b[0;34m\u001b[0m\u001b[0;34m\u001b[0m\u001b[0m\n\u001b[1;32m      6\u001b[0m \u001b[0mprint\u001b[0m\u001b[0;34m(\u001b[0m\u001b[0;34m\"old tuple\"\u001b[0m\u001b[0;34m,\u001b[0m\u001b[0mtup1\u001b[0m\u001b[0;34m)\u001b[0m\u001b[0;34m\u001b[0m\u001b[0;34m\u001b[0m\u001b[0m\n\u001b[0;32m----> 7\u001b[0;31m \u001b[0mtup1\u001b[0m\u001b[0;34m[\u001b[0m\u001b[0;36m1\u001b[0m\u001b[0;34m]\u001b[0m\u001b[0;34m=\u001b[0m\u001b[0;36m6\u001b[0m\u001b[0;34m\u001b[0m\u001b[0;34m\u001b[0m\u001b[0m\n\u001b[0m\u001b[1;32m      8\u001b[0m \u001b[0mprint\u001b[0m\u001b[0;34m(\u001b[0m\u001b[0;34m\"modified tuple\"\u001b[0m\u001b[0;34m,\u001b[0m\u001b[0mtup1\u001b[0m\u001b[0;34m)\u001b[0m  \u001b[0;31m#Tuple is Immutable.so can't be updated\u001b[0m\u001b[0;34m\u001b[0m\u001b[0;34m\u001b[0m\u001b[0m\n",
            "\u001b[0;31mTypeError\u001b[0m: 'tuple' object does not support item assignment"
          ]
        }
      ]
    },
    {
      "cell_type": "markdown",
      "source": [
        "6)Write a function to demonstrate the behavior of mutable and immutable arguments."
      ],
      "metadata": {
        "id": "hAcpM7a6-uaX"
      }
    },
    {
      "cell_type": "code",
      "source": [
        "list1=[1,2,3,4,5]\n",
        "tup1=(1,2,3,4,5)\n",
        "print(\"old list\",list1)\n",
        "list1[1]=6\n",
        "print(\"modified list\",list1)\n",
        "print(\"old tuple\",tup1)\n",
        "tup1[1]=6\n",
        "print(\"modified tuple\",tup1)  #Tuple is Immutable.so can't be updated"
      ],
      "metadata": {
        "colab": {
          "base_uri": "https://localhost:8080/",
          "height": 245
        },
        "id": "AsUT55KE-iYA",
        "outputId": "efbd67f6-7db0-43b0-a9c4-477f9413208a"
      },
      "execution_count": null,
      "outputs": [
        {
          "output_type": "stream",
          "name": "stdout",
          "text": [
            "old list [1, 2, 3, 4, 5]\n",
            "modified list [1, 6, 3, 4, 5]\n",
            "old tuple (1, 2, 3, 4, 5)\n"
          ]
        },
        {
          "output_type": "error",
          "ename": "TypeError",
          "evalue": "'tuple' object does not support item assignment",
          "traceback": [
            "\u001b[0;31m---------------------------------------------------------------------------\u001b[0m",
            "\u001b[0;31mTypeError\u001b[0m                                 Traceback (most recent call last)",
            "\u001b[0;32m<ipython-input-9-e72f9c6192f9>\u001b[0m in \u001b[0;36m<cell line: 0>\u001b[0;34m()\u001b[0m\n\u001b[1;32m      5\u001b[0m \u001b[0mprint\u001b[0m\u001b[0;34m(\u001b[0m\u001b[0;34m\"modified list\"\u001b[0m\u001b[0;34m,\u001b[0m\u001b[0mlist1\u001b[0m\u001b[0;34m)\u001b[0m\u001b[0;34m\u001b[0m\u001b[0;34m\u001b[0m\u001b[0m\n\u001b[1;32m      6\u001b[0m \u001b[0mprint\u001b[0m\u001b[0;34m(\u001b[0m\u001b[0;34m\"old tuple\"\u001b[0m\u001b[0;34m,\u001b[0m\u001b[0mtup1\u001b[0m\u001b[0;34m)\u001b[0m\u001b[0;34m\u001b[0m\u001b[0;34m\u001b[0m\u001b[0m\n\u001b[0;32m----> 7\u001b[0;31m \u001b[0mtup1\u001b[0m\u001b[0;34m[\u001b[0m\u001b[0;36m1\u001b[0m\u001b[0;34m]\u001b[0m\u001b[0;34m=\u001b[0m\u001b[0;36m6\u001b[0m\u001b[0;34m\u001b[0m\u001b[0;34m\u001b[0m\u001b[0m\n\u001b[0m\u001b[1;32m      8\u001b[0m \u001b[0mprint\u001b[0m\u001b[0;34m(\u001b[0m\u001b[0;34m\"modified tuple\"\u001b[0m\u001b[0;34m,\u001b[0m\u001b[0mtup1\u001b[0m\u001b[0;34m)\u001b[0m  \u001b[0;31m#Tuple is Immutable.so can't be updated\u001b[0m\u001b[0;34m\u001b[0m\u001b[0;34m\u001b[0m\u001b[0m\n",
            "\u001b[0;31mTypeError\u001b[0m: 'tuple' object does not support item assignment"
          ]
        }
      ]
    },
    {
      "cell_type": "markdown",
      "source": [
        "7)Write a program that performs basic arithmetic operations on two user-input numbers."
      ],
      "metadata": {
        "id": "cvAQhpqA-4Vl"
      }
    },
    {
      "cell_type": "code",
      "source": [
        "num1 = float(input(\"Enter the first number: \"))\n",
        "num2 = float(input(\"Enter the second number: \"))\n",
        "add= num1 + num2\n",
        "print(f\"Addition: {num1} + {num2} = {add}\")"
      ],
      "metadata": {
        "colab": {
          "base_uri": "https://localhost:8080/"
        },
        "id": "GWDHo6qf-2pX",
        "outputId": "0730418f-1808-4a37-b6e4-6a003a207861"
      },
      "execution_count": null,
      "outputs": [
        {
          "output_type": "stream",
          "name": "stdout",
          "text": [
            "Enter the first number: 2\n",
            "Enter the second number: 2.5\n",
            "Addition: 2.0 + 2.5 = 4.5\n"
          ]
        }
      ]
    },
    {
      "cell_type": "markdown",
      "source": [
        "8) Write a program to demonstrate the use of logical operators."
      ],
      "metadata": {
        "id": "LnMp86ji_cSo"
      }
    },
    {
      "cell_type": "code",
      "source": [
        "num1 = int(input(\"Enter the first number: \"))\n",
        "num2 = int(input(\"Enter the second number: \"))\n",
        "\n",
        "if num1 > 0 and num2 > 0:   # AND operator\n",
        "    print(\"Both numbers are positive.\")\n",
        "\n",
        "if num1 > 0 or num2 > 0:   # OR operator\n",
        "    print(\"At least one number is positive.\")\n",
        "\n",
        "if not (num1 < 0 or num2 < 0):  # NOT operator\n",
        "    print(\"Neither number is negative.\")\n",
        "\n",
        "if num1 > 0 and not num2 > 0:  # Comparison with logical operators\n",
        "    print(\"The first number is positive, but the second is not.\")"
      ],
      "metadata": {
        "colab": {
          "base_uri": "https://localhost:8080/"
        },
        "id": "hJyCp-RT_J8k",
        "outputId": "559882fe-3747-45fe-9b62-4254e1f03480"
      },
      "execution_count": null,
      "outputs": [
        {
          "output_type": "stream",
          "name": "stdout",
          "text": [
            "Enter the first number: 9\n",
            "Enter the second number: -6\n",
            "At least one number is positive.\n",
            "The first number is positive, but the second is not.\n"
          ]
        }
      ]
    },
    {
      "cell_type": "markdown",
      "source": [
        "9)Write a Python program to convert user input from string to integer, float, and boolean types."
      ],
      "metadata": {
        "id": "dLAsko0UBTgL"
      }
    },
    {
      "cell_type": "code",
      "source": [
        "user_input = input(\"Enter a value: \")\n",
        "value= True\n",
        "if value == (user_input):\n",
        "    print(f\"Integer value: {value}\")\n",
        "else:\n",
        "    print(\"Cannot convert to integer.\")\n",
        "\n",
        "user_input = input(\"Enter True or False: \")\n",
        "boolean_value = \"True\"\n",
        "\n",
        "print(\"Boolean value:\", boolean_value)\n",
        "\n"
      ],
      "metadata": {
        "colab": {
          "base_uri": "https://localhost:8080/"
        },
        "id": "xYU9_shQ_les",
        "outputId": "4524b9c7-390d-484b-ee4f-aa69c11c15e9"
      },
      "execution_count": null,
      "outputs": [
        {
          "output_type": "stream",
          "name": "stdout",
          "text": [
            "Enter a value: true\n",
            "Cannot convert to integer.\n",
            "Enter True or False: true\n",
            "Boolean value: True\n"
          ]
        }
      ]
    },
    {
      "cell_type": "markdown",
      "source": [
        "10)Write code to demonstrate type casting with list elements."
      ],
      "metadata": {
        "id": "d8W3gRULHIHK"
      }
    },
    {
      "cell_type": "code",
      "source": [
        "my_list = ['10', '20', '30']\n",
        "print(\"Original list:\", my_list)\n",
        "print(\"Types before casting:\", [type(item) for item in my_list])\n",
        "for i in range(0,3):\n",
        "    my_list[i] = int(my_list[i])\n",
        "print(\"List after casting to integers:\", my_list)\n",
        "print(\"Types after casting:\", [type(item) for item in my_list])\n"
      ],
      "metadata": {
        "colab": {
          "base_uri": "https://localhost:8080/"
        },
        "id": "oTXDCyQKCzVA",
        "outputId": "946e6fdd-ac1d-4374-bedd-ce6800a7aef0"
      },
      "execution_count": null,
      "outputs": [
        {
          "output_type": "stream",
          "name": "stdout",
          "text": [
            "Original list: ['10', '20', '30']\n",
            "Types before casting: [<class 'str'>, <class 'str'>, <class 'str'>]\n",
            "List after casting to integers: [10, 20, 30]\n",
            "Types after casting: [<class 'int'>, <class 'int'>, <class 'int'>]\n"
          ]
        }
      ]
    },
    {
      "cell_type": "markdown",
      "source": [
        "11) Write a program that checks if a number is positive, negative, or zero"
      ],
      "metadata": {
        "id": "nct52V5NLMpH"
      }
    },
    {
      "cell_type": "code",
      "source": [
        "a=float(input(\"Enter a value: \"))\n",
        "if a>0:\n",
        "  print(\"Number is Positive\")\n",
        "elif a<0:\n",
        "  print(\"Number is Negative\")\n",
        "else:\n",
        "  print(\"Number is Zero\")"
      ],
      "metadata": {
        "colab": {
          "base_uri": "https://localhost:8080/"
        },
        "id": "ucWox2eeKOOE",
        "outputId": "ddaeb3f2-8b55-4a76-aea1-47212e604f7d"
      },
      "execution_count": null,
      "outputs": [
        {
          "output_type": "stream",
          "name": "stdout",
          "text": [
            "Enter a value: -5\n",
            "Number is Negative\n"
          ]
        }
      ]
    },
    {
      "cell_type": "markdown",
      "source": [
        "12)Write a for loop to print numbers from 1 to 10."
      ],
      "metadata": {
        "id": "YIYgtNDKLY1y"
      }
    },
    {
      "cell_type": "code",
      "source": [
        "for i in range(1, 11):\n",
        "    print(i)"
      ],
      "metadata": {
        "colab": {
          "base_uri": "https://localhost:8080/"
        },
        "id": "_A7kjFQELV6Z",
        "outputId": "8ce48f0a-1dbe-4cec-bb28-705b708a7cf1"
      },
      "execution_count": null,
      "outputs": [
        {
          "output_type": "stream",
          "name": "stdout",
          "text": [
            "1\n",
            "2\n",
            "3\n",
            "4\n",
            "5\n",
            "6\n",
            "7\n",
            "8\n",
            "9\n",
            "10\n"
          ]
        }
      ]
    },
    {
      "cell_type": "markdown",
      "source": [
        "\n",
        "13)Write a Python program to find the sum of all even numbers between 1 and 50."
      ],
      "metadata": {
        "id": "RADlBDKoMAiv"
      }
    },
    {
      "cell_type": "code",
      "source": [
        "sum_even=0\n",
        "for i in range(1,51):\n",
        "  if i % 2 == 0:\n",
        "    sum_even = sum_even + i\n",
        "print(\"Sum of even numbers upto 50 is\",sum_even)"
      ],
      "metadata": {
        "colab": {
          "base_uri": "https://localhost:8080/"
        },
        "id": "JWyKYHymL8V0",
        "outputId": "4a58550e-78db-4f11-aab3-ea7147d82252"
      },
      "execution_count": null,
      "outputs": [
        {
          "output_type": "stream",
          "name": "stdout",
          "text": [
            "Sum of even numbers upto 50 is 650\n"
          ]
        }
      ]
    },
    {
      "cell_type": "markdown",
      "source": [
        "14) Write a program to reverse a string using a while loop"
      ],
      "metadata": {
        "id": "A3qEbV1OMbAA"
      }
    },
    {
      "cell_type": "code",
      "source": [
        "string= input(\"Enter a string: \")\n",
        "reversed_string = \"\"\n",
        "index = len(string) - 1\n",
        "while index >= 0:\n",
        "    reversed_string += string[index]\n",
        "    index -= 1\n",
        "print(\"Reversed string:\", reversed_string)"
      ],
      "metadata": {
        "colab": {
          "base_uri": "https://localhost:8080/"
        },
        "id": "bMqfZrnAMSGh",
        "outputId": "32ec2b7a-58cd-47a4-b408-964d239eaddf"
      },
      "execution_count": null,
      "outputs": [
        {
          "output_type": "stream",
          "name": "stdout",
          "text": [
            "Enter a string: Ram\n",
            "Reversed string: maR\n"
          ]
        }
      ]
    },
    {
      "cell_type": "markdown",
      "source": [
        "\n",
        "15) Write a Python program to calculate the factorial of a number provided by the user using a while loop."
      ],
      "metadata": {
        "id": "cx8dD-vvQJva"
      }
    },
    {
      "cell_type": "code",
      "source": [
        "num = int(input(\"Enter integer: \"))\n",
        "if num < 0:\n",
        "    print(\"Factorial is not defined for negative numbers.\")\n",
        "else:\n",
        "    factorial = 1\n",
        "    i = 1\n",
        "\n",
        "    while i <= num:\n",
        "        factorial *= i\n",
        "        i += 1\n",
        "    print(f\"The factorial of {num} is {factorial}.\")"
      ],
      "metadata": {
        "colab": {
          "base_uri": "https://localhost:8080/"
        },
        "id": "tPO_jZ1pNrzY",
        "outputId": "992edb4e-5482-4301-8db4-86095d6eb6b9"
      },
      "execution_count": null,
      "outputs": [
        {
          "output_type": "stream",
          "name": "stdout",
          "text": [
            "Enter integer: 7\n",
            "The factorial of 7 is 5040.\n"
          ]
        }
      ]
    },
    {
      "cell_type": "code",
      "source": [],
      "metadata": {
        "id": "0aWZGjpNSFcz"
      },
      "execution_count": null,
      "outputs": []
    }
  ]
}