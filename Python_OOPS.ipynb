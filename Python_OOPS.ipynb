{
  "nbformat": 4,
  "nbformat_minor": 0,
  "metadata": {
    "colab": {
      "provenance": []
    },
    "kernelspec": {
      "name": "python3",
      "display_name": "Python 3"
    },
    "language_info": {
      "name": "python"
    }
  },
  "cells": [
    {
      "cell_type": "markdown",
      "source": [
        "#Python OOPS Assignment:"
      ],
      "metadata": {
        "id": "EeeG_Iqighnl"
      }
    },
    {
      "cell_type": "markdown",
      "source": [
        "1)What is Object-Oriented Programming (OOP)?\n",
        "> Object-oriented programming is about creating objects that contain both data and methods. A class is like a template for objects, and an object is an instance of a class.\n",
        "\n",
        "2)What is a class in OOP?\n",
        "> A class is a user-defined Template. It consists of data (Attributes) and member (methods), which can be accessed and used by creating an instance of that class.\n",
        ">> Consider the Class of Cars. There may be many cars with different names and brands but all of them will share some common properties like all of them will have 4 wheels, Speed Limit, Mileage range, etc. So here, Car is the class, and wheels, speed limits, mileage are their properties.\n",
        "\n",
        "3)What is an object in OOP?\n",
        "> An Object is an instance of a Class. An object has an identity, state, and behavior.\n",
        "* Example:-\n",
        "      class Dog:\n",
        "          def __init__(self, name, age):\n",
        "            self.name = name\n",
        "            self.age = age\n",
        "          def bark(self):\n",
        "            print(f\"{self.name} says woof!\")\n",
        "\n",
        "> * Creating an object of the Dog class\n",
        "      dog1 = Dog(\"Buddy\", 3)\n",
        "\n",
        "> * Accessing attributes and methods\n",
        "      print(dog1.name)   # Output: Buddy\n",
        "      print(dog1.age)    # Output: 3\n",
        "      dog1.bark()        # Output: Buddy says woof!\n",
        "\n",
        "4) What is the difference between abstraction and encapsulation?\n",
        "> Abstraction:-\n",
        ">> Hides complex implementation details, showing only essential features. Achieved using abstract classes, interfaces, or methods that hide details.\n",
        ">>> Example: you use a TV remote without knowing how the circuits inside work—you only care about changing channels or volume\n",
        "\n",
        "> Encapsulation:\n",
        ">> Bundles data and methods into a single unit and restricts direct access to some components. Achieved using access modifiers (private, protected, public) and methods like getters/setters\n",
        ">>> Example: the TV’s internal circuits are hidden inside the case, and you interact only through buttons or the remote\n",
        "\n",
        "5) What are dunder methods in Python?\n",
        "> Dunder methods in Python, short for \"double underscore\" methods, are special methods whose names start and end with two underscores (e.g., __init__, __str__, __add__). These methods allow our custom classes to interact seamlessly with Python's built-in functions and operators.\n",
        ">> Example: When we use `+` on objects, Python looks for the `__add__` dunder method.\n",
        "\n",
        "6)Explain the concept of inheritance in OOP.\n",
        "> Inheritance in OOP is like creating a family tree for our classes. It allows us to make a new class (called a child or subclass) that automatically gets the features (attributes and methods) of an existing class (called a parent or superclass\n",
        ">> Think of a video game with many types of vehicles: cars, trucks, and airplanes. Instead of writing all the details for each vehicle from scratch, we can create a general Vehicle class with common features (like move and stop). Then, we make a Car class and a Truck class that inherit everything from Vehicle—they automatically have move and stop, and we can add or change features just for cars or trucks\n",
        "\n",
        "7) What is polymorphism in OOP?\n",
        "> It means \"many forms\". it describes the ability of objects, variables, or functions to take on multiple forms depending on context.\n",
        "> Operator Polymorphism:\n",
        "* Example:-\n",
        "\n",
        "     print(1 + 2)                # Output: 3 (addition)\n",
        "     print(\"Hello\" + \"World\")    # Output: HelloWorld (concatenation)\n",
        "\n",
        "> Polymorphism with Inheritance:\n",
        "* Exanple:-\n",
        "      class Animal:\n",
        "         def make_sound(self):\n",
        "          print(\"Some generic animal sound\")\n",
        "      class Dog(Animal):\n",
        "         def make_sound(self):\n",
        "          print(\"Bark\")\n",
        "      class Cat(Animal):\n",
        "          def make_sound(self):\n",
        "           print(\"Meow\")\n",
        "\n",
        "      dog = Dog()\n",
        "      cat = Cat()\n",
        "\n",
        "      dog.make_sound()  # Output: Bark\n",
        "      cat.make_sound()  # Output: Meow\n",
        ">  Class Polymorphism: Inheritance and Method Overriding:-\n",
        "* Example:-\n",
        "      class Car:\n",
        "       def move(self):\n",
        "        print(\"Drive!\")\n",
        "      class Boat:\n",
        "       def move(self):\n",
        "        print(\"Sail!\")\n",
        "      class Plane:\n",
        "        def move(self):\n",
        "        print(\"Fly!\")\n",
        "\n",
        "      car = Car()\n",
        "      boat = Boat()\n",
        "      plane = Plane()\n",
        "\n",
        "      for vehicle in (car, boat, plane):\n",
        "      vehicle.move()\n",
        "      #Output:-Drive!\n",
        "              Sail!\n",
        "              Fly!\n",
        "\n",
        "8) How is encapsulation achieved in Python?\n",
        "> Encapsulation in Python is achieved by restricting direct access to an object's data and methods, and instead, controlling access through getter and setter methods.\n",
        "* Example:-\n",
        "      class BankAccount:\n",
        "        def __init__(self, balance):\n",
        "          self.__balance = balance  # Private variable\n",
        "        def get_balance(self):\n",
        "          return self.__balance  # Getter method\n",
        "        def set_balance(self, amount):\n",
        "          if amount >= 0:\n",
        "            self.__balance = amount  # Setter method\n",
        "           else:\n",
        "              print(\"Invalid balance amount!\")\n",
        "\n",
        "      # Creating an object\n",
        "      account = BankAccount(1000)\n",
        "        print(account.get_balance())  # Accessing private attribute through getter\n",
        "      account.set_balance(1500)  # Modifying value safely\n",
        "      print(account.get_balance())\n",
        "\n",
        "9) What is a constructor in Python?\n",
        "> A constructor in Python is a special method used to initialize objects when they are created. It allows us to set up the initial state of an object,The constructor method in Python is called `__init__()`.It takes `self` as its first parameter.We don’t need to call `__init__()` explicitly—it runs automatically when the object is instantiated.\n",
        "* Example:-\n",
        "      class Person:\n",
        "        def __init__(self, name, age):  # Constructor\n",
        "          self.name = name  # Instance variable\n",
        "          self.age = age\n",
        "        def display(self):\n",
        "          print(f\"Name: {self.name}, Age: {self.age}\")\n",
        "        # Creating an object\n",
        "        p1 = Person(\"Dibyo\", 29)\n",
        "        p1.display()\n",
        "\n",
        "10) What are class and static methods in Python?\n",
        "> Class methods and static methods are special types of methods that are associated with a class rather than its instances.\n",
        ">>Class Method:- A class method takes the class itself `(cls)` as the first argument instead of `self`.It can access and modify class-level attributes, but not instance-specific attributes.It is declared using the `@classmethod` decorator\n",
        "* Exanple:-\n",
        "      class Student:\n",
        "      school_name = \"ABC High School\"  # Class attribute\n",
        "      @classmethod\n",
        "      def change_school(cls, new_name):\n",
        "        cls.school_name = new_name\n",
        "      # Using the class method\n",
        "      Student.change_school(\"XYZ Academy\")\n",
        "      print(Student.school_name)  # Output: XYZ Academy\n",
        ">>Static Method:- A static method doesn’t take self or cls as its first parameter,it behaves like a normal function inside the class. it is declared using the `@staticmethod` decorator.\n",
        "* Example:-\n",
        "      class MathOperations:\n",
        "       @staticmethod\n",
        "       def add(x, y):\n",
        "        return x + y\n",
        "      # Using the static method\n",
        "      result = MathOperations.add(5, 3)\n",
        "      print(result)  # Output: 8\n",
        "\n",
        "11)What is method overloading in Python?\n",
        "> Method overloading is a concept where multiple methods in the same class share the same name but differ in the number or type of parameters.Python handles method overloading using default arguments or the *args and **kwargs mechanisms.\n",
        "\n",
        "12) What is method overriding in OOP?\n",
        "> Method overriding in object-oriented programming (OOP) is a feature that allows a child class to provide a specific implementation for a method that is already defined in its parent class\n",
        "\n",
        "13) What is a property decorator in Python?\n",
        "> The @property decorator in Python is a simple way to make a method in a class act like an attribute. This means we can access the value by writing object.attribute instead of calling a method like object.get_attribute().It's useful for making attributes read-only\n",
        "* Example:-\n",
        "      class Person:\n",
        "       def __init__(self, name):\n",
        "          self._name = name    #Private Attributes\n",
        "        @property\n",
        "        def name(self):\n",
        "          return self._name\n",
        "\n",
        "      person = Person(\"Dibyo\")\n",
        "      print(person.name)  # You can access it like an attribute\n",
        "      person.name = \"Bob\" # This will cause an error because there's no setter\n",
        "\n",
        "\n",
        "14) Why is polymorphism important in OOP?\n",
        "> Polymorphism is important because it allows the same method name to work with different types of objects, each providing its own behavior.\n",
        "\n",
        "15) What is an abstract class in Python?\n",
        "> An abstract class in Python is a class that cannot be instantiated on its own and is meant to be a blueprint for other classes.\n",
        "* Example:-\n",
        "      from abc import ABC, abstractmethod\n",
        "\n",
        "      class Animal(ABC):\n",
        "      @abstractmethod\n",
        "      def speak(self):\n",
        "        pass\n",
        "      class Dog(Animal):\n",
        "        def speak(self):\n",
        "         print(\"Woof!\")\n",
        "\n",
        "      # animal = Animal()  # This will raise an error\n",
        "      dog = Dog()\n",
        "      dog.speak()  # Prints: Woof!\n",
        "\n",
        "> We cannot create an object of Animal directly, but we can create an object of Dog, which provides its own version of the speak method. This ensures all subclasses of Animal will have a speak method.\n",
        "\n",
        "16) What are the advantages of OOP?\n",
        "> OOP makes software development more efficient, secure, maintainable, and scalable by organizing code into reusable, modular, and self-contained objects\n",
        ">> Encapsulation: Data and functions are bundled together in objects, protecting the integrity of the code\n",
        ">> Abstraction: Unnecessary details are hidden, allowing developers to focus on essential functionalities while simplifying complex systems.\n",
        ">> Polymorphism: This enables objects to take multiple forms, providing flexibility in code implementation and enhancing extensibility.\n",
        ">> Reusability: Code can be reused across different applications through inheritance, reducing redundancy and saving time\n",
        "\n",
        "17) What is the difference between a class variable and an instance variable?\n",
        "> A class variable is shared by every object of the class—changing it in one place changes it for all.\n",
        "\n",
        "> An instance variable is unique to each object—changing it affects only that specific object\n",
        "\n",
        "18) What is multiple inheritance in Python?\n",
        "> Multiple inheritance in Python allows a class to inherit attributes and methods from more than one parent class.When a child class inherits from multiple parent classes, it gains access to their properties and behaviors.\n",
        "* Example:-\n",
        "      class Parent1:\n",
        "       def func1(self):\n",
        "        return \"Function from Parent1\"\n",
        "      class Parent2:\n",
        "        def func2(self):\n",
        "         return \"Function from Parent2\"\n",
        "      class Child(Parent1, Parent2):\n",
        "      pass\n",
        "      obj = Child()\n",
        "      print(obj.func1())  # Output: Function from Parent1\n",
        "      print(obj.func2())  # Output: Function from Parent2\n",
        ">> If parent classes have methods with the same name, Python will prioritize based on the MRO(Method Resolution order).Also proper use of `super()` ensures predictable method resolution in complex hierarchies.\n",
        "\n",
        "19) Explain the purpose of ‘’__str__’ and ‘__repr__’ ‘ methods in Python\n",
        "> In Python, `__str__` and `__repr__` are special methods used to define string representations for objects.\n",
        "> Use __str__ for a user-friendly description of the object.\n",
        "Use __repr__ for a detailed,often useful for debugging or recreating the object\n",
        "\n",
        "20) What is the significance of the ‘super()’ function in Python?\n",
        "> super() is a built-in Python function that lets subclasses access and extend the functionality of their parent classes in a clean, maintainable, and reliable way—especially useful when working with inheritance and multiple inheritance.\n",
        "* Example:-\n",
        "      class A:\n",
        "        def show(self):\n",
        "        return \"Class A\"\n",
        "      class B(A):\n",
        "        def show(self):\n",
        "        return f\"{super().show()} → Class B\"\n",
        "      class C(B):\n",
        "       def show(self):\n",
        "        return f\"{super().show()} → Class C\"\n",
        "      obj = C()\n",
        "      print(obj.show())  # Output: Class A → Class B → Class C\n",
        "\n",
        "21) What is the significance of the __del__ method in Python?\n",
        "> The `__del__` method in Python is a destructor that gets called when an object is about to be destroyed (garbage collected). Its primary significance lies in cleanup operations, such as releasing resources like files, network connections, or memory when an object is no longer needed.\n",
        "\n",
        "22) What is the difference between @staticmethod and @classmethod in Python?\n",
        "> @staticmethod when method doesn’t need to know anything about the class or its instances—just a regular function inside a class.\n",
        "\n",
        "> @classmethod when method needs to work with the class itself (for example, to change class variables or create new instances)\n",
        "\n",
        "23) How does polymorphism work in Python with inheritance?\n",
        "> Polymorphism with inheritance in Python means we can use a shared interface (like a method name) across different classes, and each class can have its own specific behavior for that method.\n",
        ">> Method Overriding (Inheritance-based polymorphism)- A child class provides a specific implementation of a method defined in its parent class.\n",
        "\n",
        "24) What is method chaining in Python OOP?\n",
        "> Method chaining is a technique used in (OOP) where multiple methods are called on the same object in a single statement. Each method returns `self` (the instance of the class), allowing subsequent method calls to chain together\n",
        "* Example:-\n",
        "      class Calculator:\n",
        "        def __init__(self, value=0):\n",
        "         self.value = value\n",
        "        def add(self, num):\n",
        "         self.value += num\n",
        "          return self  # Returns self for chaining\n",
        "        def multiply(self, num):\n",
        "         self.value *= num\n",
        "          return self  # Returns self for chaining\n",
        "        def subtract(self, num):\n",
        "         self.value -= num\n",
        "           return self  # Returns self for chaining\n",
        "        def result(self):\n",
        "         return self.value\n",
        "        # Using method chaining\n",
        "        calc = Calculator()\n",
        "        final_result = calc.add(5).multiply(3).subtract(2).result()\n",
        "        print(final_result)  # Output: 13\n",
        "\n",
        "25) What is the purpose of the __call__ method in Python?\n",
        "> The `__call__` method in Python allows us to make instances of a class behave like functions. When we define `__call__` inside a class, we can \"call\" an object of that class using parentheses, just like we would call a function. This means that the object becomes callable and can accept arguments when called\n",
        "\n",
        "* Example:-\n",
        "      class Counter:\n",
        "        def __init__(self):\n",
        "         self.count = 0\n",
        "        def __call__(self):\n",
        "          self.count += 1\n",
        "          return self.count\n",
        "        c = Counter()\n",
        "        print(c())  # Output: 1\n",
        "        print(c())  # Output: 2\n",
        "\n",
        "\n",
        "\n",
        "\n",
        "\n",
        "\n",
        "\n",
        "\n",
        "\n",
        "\n",
        "\n",
        "\n",
        "\n"
      ],
      "metadata": {
        "id": "0PACwFS3gqb-"
      }
    },
    {
      "cell_type": "markdown",
      "source": [
        "#Practical Questions:"
      ],
      "metadata": {
        "id": "DmJVOiekJcD4"
      }
    },
    {
      "cell_type": "markdown",
      "source": [
        "1)Create a parent class Animal with a method speak() that prints a generic message. Create a child class Dog\n",
        "that overrides the speak() method to print \"Bark!\""
      ],
      "metadata": {
        "id": "9SxXAAjLJnrJ"
      }
    },
    {
      "cell_type": "code",
      "execution_count": 1,
      "metadata": {
        "id": "0z4BjZJ9gcPt",
        "colab": {
          "base_uri": "https://localhost:8080/"
        },
        "outputId": "bc7c6cba-c74b-48aa-b935-cbd7a18162d2"
      },
      "outputs": [
        {
          "output_type": "stream",
          "name": "stdout",
          "text": [
            "This animal makes a sound.\n",
            "Bark!\n"
          ]
        }
      ],
      "source": [
        "class Animal:\n",
        "    def speak(self):\n",
        "        print(\"This animal makes a sound.\")\n",
        "\n",
        "class Dog(Animal):\n",
        "    def speak(self):\n",
        "        print(\"Bark!\")\n",
        "\n",
        "animal = Animal()\n",
        "animal.speak()\n",
        "dog = Dog()\n",
        "dog.speak()\n"
      ]
    },
    {
      "cell_type": "markdown",
      "source": [
        "2) Write a program to create an abstract class Shape with a method area(). Derive classes Circle and Rectangle\n",
        "from it and implement the area() method in both"
      ],
      "metadata": {
        "id": "ROxL7rfLDNyC"
      }
    },
    {
      "cell_type": "code",
      "source": [
        "from abc import ABC, abstractmethod\n",
        "import math\n",
        "\n",
        "class Shape(ABC):\n",
        "    @abstractmethod\n",
        "    def area(self):\n",
        "        pass\n",
        "\n",
        "class Circle(Shape):\n",
        "    def __init__(self, radius):\n",
        "        self.radius = radius\n",
        "\n",
        "    def area(self):\n",
        "        return math.pi * self.radius ** 2\n",
        "\n",
        "class Rectangle(Shape):\n",
        "    def __init__(self, width, height):\n",
        "        self.width = width\n",
        "        self.height = height\n",
        "\n",
        "    def area(self):\n",
        "        return self.width * self.height\n",
        "\n",
        "circle = Circle(5)\n",
        "print(\"Circle Area:\", circle.area())\n",
        "\n",
        "rectangle = Rectangle(4, 6)\n",
        "print(\"Rectangle Area:\", rectangle.area())"
      ],
      "metadata": {
        "colab": {
          "base_uri": "https://localhost:8080/"
        },
        "id": "-L-p48ifDJGP",
        "outputId": "38eab4df-62bc-4c52-bd43-bdd1572b0c1b"
      },
      "execution_count": 2,
      "outputs": [
        {
          "output_type": "stream",
          "name": "stdout",
          "text": [
            "Circle Area: 78.53981633974483\n",
            "Rectangle Area: 24\n"
          ]
        }
      ]
    },
    {
      "cell_type": "markdown",
      "source": [
        "3)Implement a multi-level inheritance scenario where a class Vehicle has an attribute type. Derive a class Car\n",
        "and further derive a class ElectricCar that adds a battery attribute."
      ],
      "metadata": {
        "id": "zdZn_c8iFDff"
      }
    },
    {
      "cell_type": "code",
      "source": [
        "class Vehicle:\n",
        "    def __init__(self, type):\n",
        "        self.type = type\n",
        "\n",
        "class Car(Vehicle):\n",
        "    def __init__(self, type, brand):\n",
        "        super().__init__(type)\n",
        "        self.brand = brand\n",
        "\n",
        "class ElectricCar(Car):\n",
        "    def __init__(self, type, brand, battery):\n",
        "        super().__init__(type, brand)\n",
        "        self.battery = battery\n",
        "\n",
        "ecar = ElectricCar('Four-wheeler', 'Tesla', '100 kWh')\n",
        "print(\"Type:\", ecar.type)\n",
        "print(\"Brand:\", ecar.brand)\n",
        "print(\"Battery:\", ecar.battery)"
      ],
      "metadata": {
        "colab": {
          "base_uri": "https://localhost:8080/"
        },
        "id": "181Z3C3BE4WT",
        "outputId": "0ad1ed6d-2991-4b40-da51-8c30b3ad9873"
      },
      "execution_count": 3,
      "outputs": [
        {
          "output_type": "stream",
          "name": "stdout",
          "text": [
            "Type: Four-wheeler\n",
            "Brand: Tesla\n",
            "Battery: 100 kWh\n"
          ]
        }
      ]
    },
    {
      "cell_type": "markdown",
      "source": [
        "4)Demonstrate polymorphism by creating a base class Bird with a method fly(). Create two derived classes\n",
        "Sparrow and Penguin that override the fly() method."
      ],
      "metadata": {
        "id": "KgFHsv8dGI76"
      }
    },
    {
      "cell_type": "code",
      "source": [
        "class Bird:\n",
        "    def fly(self):\n",
        "        print(\"Bird is flying\")\n",
        "\n",
        "class Sparrow(Bird):\n",
        "    def fly(self):\n",
        "        print(\"Sparrow can fly!\")\n",
        "\n",
        "class Penguin(Bird):\n",
        "    def fly(self):\n",
        "        print(\"Penguins can't fly\")\n",
        "\n",
        "birds = [Sparrow(), Penguin(), Bird()]    #creates a list containing two objects\n",
        "\n",
        "for bird in birds:\n",
        "    bird.fly()"
      ],
      "metadata": {
        "colab": {
          "base_uri": "https://localhost:8080/"
        },
        "id": "SqhPp9KLGC5L",
        "outputId": "efca527c-aa64-45be-cca5-8f9cf8566074"
      },
      "execution_count": 5,
      "outputs": [
        {
          "output_type": "stream",
          "name": "stdout",
          "text": [
            "Sparrow can fly!\n",
            "Penguins can't fly\n",
            "Bird is flying\n"
          ]
        }
      ]
    },
    {
      "cell_type": "markdown",
      "source": [
        "5)Write a program to demonstrate encapsulation by creating a class BankAccount with private attributes\n",
        "balance and methods to deposit, withdraw, and check balance"
      ],
      "metadata": {
        "id": "SvNNuflyIOin"
      }
    },
    {
      "cell_type": "code",
      "source": [
        "class BankAccount:\n",
        "    def __init__(self, initial_balance=0):\n",
        "        self.__balance = initial_balance  # Private attribute\n",
        "\n",
        "    def deposit(self, amount):\n",
        "        if amount > 0:\n",
        "            self.__balance += amount\n",
        "            print(f\"Deposited: {amount}\")\n",
        "        else:\n",
        "            print(\"Deposit amount must be positive.\")\n",
        "\n",
        "    def withdraw(self, amount):\n",
        "        if 0 < amount <= self.__balance:\n",
        "            self.__balance -= amount\n",
        "            print(f\"Withdrawn: {amount}\")\n",
        "        else:\n",
        "            print(\"Insufficient balance or invalid amount.\")\n",
        "\n",
        "    def check_balance(self):\n",
        "        print(f\"Current balance: {self.__balance}\")\n",
        "\n",
        "account = BankAccount(100)\n",
        "account.deposit(50)        # Deposited: 50\n",
        "account.withdraw(30)       # Withdrawn: 30\n",
        "account.check_balance()    # Current balance: 120\n",
        "\n",
        "account.withdraw(150)      # Insufficient balance or invalid amount.\n",
        "account.check_balance()    # Current balance: 120"
      ],
      "metadata": {
        "colab": {
          "base_uri": "https://localhost:8080/"
        },
        "id": "LmCnOFKWH5ZL",
        "outputId": "3cbbf87c-3875-4a02-ea1e-9a2441943082"
      },
      "execution_count": 7,
      "outputs": [
        {
          "output_type": "stream",
          "name": "stdout",
          "text": [
            "Deposited: 50\n",
            "Withdrawn: 30\n",
            "Current balance: 120\n",
            "Insufficient balance or invalid amount.\n",
            "Current balance: 120\n"
          ]
        }
      ]
    },
    {
      "cell_type": "markdown",
      "source": [
        "6)Demonstrate runtime polymorphism using a method play() in a base class Instrument. Derive classes Guitar\n",
        "and Piano that implement their own version of play()."
      ],
      "metadata": {
        "id": "NM0L2C95JhyW"
      }
    },
    {
      "cell_type": "code",
      "source": [
        "class Instrument:\n",
        "    def play(self):\n",
        "        print(\"Playing an instrument\")\n",
        "\n",
        "class Guitar(Instrument):\n",
        "    def play(self):\n",
        "        print(\"Strumming the guitar\")\n",
        "\n",
        "class Piano(Instrument):\n",
        "    def play(self):\n",
        "        print(\"Playing the piano\")\n",
        "\n",
        "instruments = [Guitar(), Piano()]\n",
        "\n",
        "for instrument in instruments:\n",
        "    instrument.play()\n"
      ],
      "metadata": {
        "colab": {
          "base_uri": "https://localhost:8080/"
        },
        "id": "_TbZEPEUJT3b",
        "outputId": "75e62b63-9c2a-4c05-902e-af4d554168f4"
      },
      "execution_count": 8,
      "outputs": [
        {
          "output_type": "stream",
          "name": "stdout",
          "text": [
            "Strumming the guitar\n",
            "Playing the piano\n"
          ]
        }
      ]
    },
    {
      "cell_type": "markdown",
      "source": [
        "7)Create a class MathOperations with a class method add_numbers() to add two numbers and a static\n",
        "method subtract_numbers() to subtract two numbers."
      ],
      "metadata": {
        "id": "QTwSBqcVewnE"
      }
    },
    {
      "cell_type": "code",
      "source": [
        "class MathOperations:\n",
        "    @classmethod\n",
        "    def add_numbers(cls, a, b):\n",
        "        return a + b\n",
        "\n",
        "    @staticmethod\n",
        "    def subtract_numbers(a, b):\n",
        "        return a - b\n",
        "print(\"Addition:\", MathOperations.add_numbers(5, 3))\n",
        "print(\"Subtraction:\", MathOperations.subtract_numbers(5, 3))"
      ],
      "metadata": {
        "colab": {
          "base_uri": "https://localhost:8080/"
        },
        "id": "DrvFXzehevDw",
        "outputId": "f6423e7a-0c0c-46cc-f410-0a6b3b9c730b"
      },
      "execution_count": 9,
      "outputs": [
        {
          "output_type": "stream",
          "name": "stdout",
          "text": [
            "Addition: 8\n",
            "Subtraction: 2\n"
          ]
        }
      ]
    },
    {
      "cell_type": "markdown",
      "source": [
        "8) Implement a class Person with a class method to count the total number of persons created."
      ],
      "metadata": {
        "id": "cC6PGXphfbV_"
      }
    },
    {
      "cell_type": "code",
      "source": [
        "class Person:\n",
        "    count = 0\n",
        "    def __init__(self, name):\n",
        "        self.name = name\n",
        "        Person.count += 1\n",
        "\n",
        "    @classmethod\n",
        "    def total_persons(cls):\n",
        "        return cls.count\n",
        "\n",
        "p1 = Person(\"Dibyo\")\n",
        "p2 = Person(\"Pom\")\n",
        "p3 = Person(\"Jiko\")\n",
        "\n",
        "print(\"Total persons created:\", Person.total_persons())\n"
      ],
      "metadata": {
        "colab": {
          "base_uri": "https://localhost:8080/"
        },
        "id": "4EfRaoAefTwX",
        "outputId": "13f4e61b-0881-46c5-f0be-2e59e5b620aa"
      },
      "execution_count": 11,
      "outputs": [
        {
          "output_type": "stream",
          "name": "stdout",
          "text": [
            "Total persons created: 3\n"
          ]
        }
      ]
    },
    {
      "cell_type": "markdown",
      "source": [
        "9)Write a class Fraction with attributes numerator and denominator. Override the str method to display the\n",
        "fraction as \"numerator/denominator\""
      ],
      "metadata": {
        "id": "PfRFMUhhgYuE"
      }
    },
    {
      "cell_type": "code",
      "source": [
        "class Fraction:\n",
        "    def __init__(self, numerator, denominator):\n",
        "        self.numerator = numerator\n",
        "        self.denominator = denominator\n",
        "\n",
        "    def __str__(self):\n",
        "        return f\"{self.numerator}/{self.denominator}\"\n",
        "\n",
        "frac = Fraction(3, 4)\n",
        "print(frac)"
      ],
      "metadata": {
        "colab": {
          "base_uri": "https://localhost:8080/"
        },
        "id": "OzxDeBLYgQVm",
        "outputId": "b2d23046-6486-4918-db23-107ce42ac031"
      },
      "execution_count": 12,
      "outputs": [
        {
          "output_type": "stream",
          "name": "stdout",
          "text": [
            "3/4\n"
          ]
        }
      ]
    },
    {
      "cell_type": "markdown",
      "source": [
        "10) Demonstrate operator overloading by creating a class Vector and overriding the add method to add two\n",
        "vectors."
      ],
      "metadata": {
        "id": "Yn8EIBdwg4Kt"
      }
    },
    {
      "cell_type": "code",
      "source": [
        "class Vector:\n",
        "    def __init__(self, x, y):\n",
        "        self.x = x\n",
        "        self.y = y\n",
        "\n",
        "    def __add__(self, other):\n",
        "        return Vector(self.x + other.x, self.y + other.y)\n",
        "\n",
        "    def __str__(self):\n",
        "        return f\"({self.x}, {self.y})\"\n",
        "\n",
        "v1 = Vector(2, 3)\n",
        "v2 = Vector(4, 5)\n",
        "v3 = v1 + v2  # Uses the overloaded + operator\n",
        "\n",
        "print(\"v1:\", v1)\n",
        "print(\"v2:\", v2)\n",
        "print(\"v1 + v2:\", v3)\n"
      ],
      "metadata": {
        "colab": {
          "base_uri": "https://localhost:8080/"
        },
        "id": "7Ojkb2veg221",
        "outputId": "5c9ca35d-26aa-458c-8676-0f9407292b74"
      },
      "execution_count": 13,
      "outputs": [
        {
          "output_type": "stream",
          "name": "stdout",
          "text": [
            "v1: (2, 3)\n",
            "v2: (4, 5)\n",
            "v1 + v2: (6, 8)\n"
          ]
        }
      ]
    },
    {
      "cell_type": "markdown",
      "source": [
        "11) Create a class Person with attributes name and age. Add a method greet() that prints \"Hello, my name is\n",
        "{name} and I am {age} years old."
      ],
      "metadata": {
        "id": "Dz2yyyowiZQo"
      }
    },
    {
      "cell_type": "code",
      "source": [
        "class Person:\n",
        "    def __init__(self, name, age):\n",
        "        self.name = name\n",
        "        self.age = age\n",
        "\n",
        "    def greet(self):\n",
        "        print(f\"Hello, my name is {self.name} and I am {self.age} years old.\")\n",
        "\n",
        "person1 = Person(\"Dibyo\", 29)\n",
        "person1.greet()"
      ],
      "metadata": {
        "colab": {
          "base_uri": "https://localhost:8080/"
        },
        "id": "qPseqC-diXZa",
        "outputId": "6f7d842d-9b65-4a03-e4b5-11a58e06b6a9"
      },
      "execution_count": 14,
      "outputs": [
        {
          "output_type": "stream",
          "name": "stdout",
          "text": [
            "Hello, my name is Dibyo and I am 29 years old.\n"
          ]
        }
      ]
    },
    {
      "cell_type": "markdown",
      "source": [
        "12)Implement a class Student with attributes name and grades. Create a method average_grade() to compute\n",
        "the average of the grades."
      ],
      "metadata": {
        "id": "Ftng_XfgiuVB"
      }
    },
    {
      "cell_type": "code",
      "source": [
        "class Student:\n",
        "    def __init__(self, name, grades):\n",
        "        self.name = name\n",
        "        self.grades = grades\n",
        "\n",
        "    def average_grade(self):\n",
        "        if not self.grades:\n",
        "            return 0\n",
        "        return sum(self.grades) / len(self.grades)\n",
        "\n",
        "student1 = Student(\"Dibyo\", [85, 90, 78, 92])\n",
        "print(f\"{student1.name}'s average grade: {student1.average_grade():}\")\n"
      ],
      "metadata": {
        "colab": {
          "base_uri": "https://localhost:8080/"
        },
        "id": "1lSCqdzuipiH",
        "outputId": "bd90fd18-c9b4-4fcd-9679-c5085e3aa846"
      },
      "execution_count": 15,
      "outputs": [
        {
          "output_type": "stream",
          "name": "stdout",
          "text": [
            "Dibyo's average grade: 86.25\n"
          ]
        }
      ]
    },
    {
      "cell_type": "markdown",
      "source": [
        "13)Create a class Rectangle with methods set_dimensions() to set the dimensions and area() to calculate the\n",
        "area."
      ],
      "metadata": {
        "id": "jdnlebimjy4r"
      }
    },
    {
      "cell_type": "code",
      "source": [
        "class Rectangle:\n",
        "    def set_dimensions(self, width, height):\n",
        "        self.width = width\n",
        "        self.height = height\n",
        "\n",
        "    def area(self):\n",
        "        return self.width * self.height\n",
        "\n",
        "rect = Rectangle()\n",
        "rect.set_dimensions(5, 8)\n",
        "print(\"Area of rectangle:\", rect.area())\n"
      ],
      "metadata": {
        "colab": {
          "base_uri": "https://localhost:8080/"
        },
        "id": "WexY94WdjoiB",
        "outputId": "6b2c3cdb-712c-44a5-e7c3-633269674ba1"
      },
      "execution_count": 16,
      "outputs": [
        {
          "output_type": "stream",
          "name": "stdout",
          "text": [
            "Area of rectangle: 40\n"
          ]
        }
      ]
    },
    {
      "cell_type": "markdown",
      "source": [
        "14)Create a class Employee with a method calculate_salary() that computes the salary based on hours worked\n",
        "and hourly rate. Create a derived class Manager that adds a bonus to the salary"
      ],
      "metadata": {
        "id": "MTbHHuGTkbQe"
      }
    },
    {
      "cell_type": "code",
      "source": [
        "class Employee:\n",
        "    def __init__(self, hours_worked, hourly_rate):\n",
        "        self.hours_worked = hours_worked\n",
        "        self.hourly_rate = hourly_rate\n",
        "\n",
        "    def calculate_salary(self):\n",
        "        return self.hours_worked * self.hourly_rate\n",
        "\n",
        "class Manager(Employee):\n",
        "    def __init__(self, hours_worked, hourly_rate, bonus):\n",
        "        super().__init__(hours_worked, hourly_rate)\n",
        "        self.bonus = bonus\n",
        "\n",
        "    def calculate_salary(self):\n",
        "        base_salary = super().calculate_salary()\n",
        "        return base_salary + self.bonus\n",
        "\n",
        "emp = Employee(40, 20)\n",
        "print(\"Employee salary:\", emp.calculate_salary())\n",
        "\n",
        "mgr = Manager(40, 20, 500)\n",
        "print(\"Manager salary:\", mgr.calculate_salary())\n"
      ],
      "metadata": {
        "colab": {
          "base_uri": "https://localhost:8080/"
        },
        "id": "3DRUHImLkaI9",
        "outputId": "3b244ce3-0972-4916-f84f-82fdbe8b1264"
      },
      "execution_count": 17,
      "outputs": [
        {
          "output_type": "stream",
          "name": "stdout",
          "text": [
            "Employee salary: 800\n",
            "Manager salary: 1300\n"
          ]
        }
      ]
    },
    {
      "cell_type": "markdown",
      "source": [
        "15)Create a class Product with attributes name, price, and quantity. Implement a method total_price() that\n",
        "calculates the total price of the product"
      ],
      "metadata": {
        "id": "7q-enOZZlkHd"
      }
    },
    {
      "cell_type": "code",
      "source": [
        "class Product:\n",
        "    def __init__(self, name, price, quantity):\n",
        "        self.name = name\n",
        "        self.price = price\n",
        "        self.quantity = quantity\n",
        "\n",
        "    def total_price(self):\n",
        "        return self.price * self.quantity\n",
        "product1 = Product(\"Pen\", 10, 5)\n",
        "print(f\"Total price of {product1.name}: {product1.total_price()}\")"
      ],
      "metadata": {
        "colab": {
          "base_uri": "https://localhost:8080/"
        },
        "id": "sHWTD9BtlisW",
        "outputId": "3a7971b0-97e3-450d-8c8e-115007c2d36f"
      },
      "execution_count": 18,
      "outputs": [
        {
          "output_type": "stream",
          "name": "stdout",
          "text": [
            "Total price of Pen: 50\n"
          ]
        }
      ]
    },
    {
      "cell_type": "markdown",
      "source": [
        "16)Create a class Animal with an abstract method sound(). Create two derived classes Cow and Sheep that\n",
        "implement the sound() method."
      ],
      "metadata": {
        "id": "_QioeHNQmBgE"
      }
    },
    {
      "cell_type": "code",
      "source": [
        "from abc import ABC, abstractmethod\n",
        "\n",
        "class Animal(ABC):\n",
        "    @abstractmethod\n",
        "    def sound(self):\n",
        "        pass\n",
        "\n",
        "class Cow(Animal):\n",
        "    def sound(self):\n",
        "        print(\"Moo\")\n",
        "\n",
        "class Sheep(Animal):\n",
        "    def sound(self):\n",
        "        print(\"Baa\")\n",
        "\n",
        "cow = Cow()\n",
        "sheep = Sheep()\n",
        "\n",
        "cow.sound()\n",
        "sheep.sound()"
      ],
      "metadata": {
        "colab": {
          "base_uri": "https://localhost:8080/"
        },
        "id": "Fjitk4G5l9O9",
        "outputId": "87bd1eda-d545-4751-af5a-0f1b7c5c1bc1"
      },
      "execution_count": 19,
      "outputs": [
        {
          "output_type": "stream",
          "name": "stdout",
          "text": [
            "Moo\n",
            "Baa\n"
          ]
        }
      ]
    },
    {
      "cell_type": "markdown",
      "source": [
        "17)Create a class Book with attributes title, author, and year_published. Add a method get_book_info() that\n",
        "returns a formatted string with the book's details."
      ],
      "metadata": {
        "id": "3Ys_CWVomaZ_"
      }
    },
    {
      "cell_type": "code",
      "source": [
        "class Book:\n",
        "    def __init__(self, title, author, year_published):\n",
        "        self.title = title\n",
        "        self.author = author\n",
        "        self.year_published = year_published\n",
        "\n",
        "    def get_book_info(self):\n",
        "        return f\"'{self.title}' by {self.author} (Published: {self.year_published})\"\n",
        "\n",
        "book1 = Book(\"To Kill a Mockingbird\", \"Harper Lee\", 1960)\n",
        "print(book1.get_book_info())"
      ],
      "metadata": {
        "colab": {
          "base_uri": "https://localhost:8080/"
        },
        "id": "z926fz1ymYNx",
        "outputId": "3d626eb4-01df-431d-b70b-d610685bf661"
      },
      "execution_count": 20,
      "outputs": [
        {
          "output_type": "stream",
          "name": "stdout",
          "text": [
            "'To Kill a Mockingbird' by Harper Lee (Published: 1960)\n"
          ]
        }
      ]
    },
    {
      "cell_type": "markdown",
      "source": [
        "18)Create a class House with attributes address and price. Create a derived class Mansion that adds an\n",
        "attribute number_of_rooms."
      ],
      "metadata": {
        "id": "P4Bs0MH0nPnC"
      }
    },
    {
      "cell_type": "code",
      "source": [
        "class House:\n",
        "    def __init__(self, address, price):\n",
        "        self.address = address\n",
        "        self.price = price\n",
        "\n",
        "class Mansion(House):\n",
        "    def __init__(self, address, price, number_of_rooms):\n",
        "        super().__init__(address, price)\n",
        "        self.number_of_rooms = number_of_rooms\n",
        "\n",
        "mansion = Mansion(\"AI 17, Action Area 1\", 5000000, 10)\n",
        "print(\"Address:\", mansion.address)\n",
        "print(\"Price:\", mansion.price)\n",
        "print(\"Number of rooms:\", mansion.number_of_rooms)"
      ],
      "metadata": {
        "colab": {
          "base_uri": "https://localhost:8080/"
        },
        "id": "O2Ya7GZ7nM1x",
        "outputId": "477b34a5-44d9-4f32-81a3-05bdf419710d"
      },
      "execution_count": 21,
      "outputs": [
        {
          "output_type": "stream",
          "name": "stdout",
          "text": [
            "Address: AI 17, Action Area 1\n",
            "Price: 5000000\n",
            "Number of rooms: 10\n"
          ]
        }
      ]
    }
  ]
}