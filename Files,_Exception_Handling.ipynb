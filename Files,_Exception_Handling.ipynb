{
  "nbformat": 4,
  "nbformat_minor": 0,
  "metadata": {
    "colab": {
      "provenance": []
    },
    "kernelspec": {
      "name": "python3",
      "display_name": "Python 3"
    },
    "language_info": {
      "name": "python"
    }
  },
  "cells": [
    {
      "cell_type": "markdown",
      "source": [
        "#Files, exceptional handling,logging and memory management"
      ],
      "metadata": {
        "id": "-1AODt_gUlW_"
      }
    },
    {
      "cell_type": "markdown",
      "source": [
        "1)What is the difference between interpreted and compiled languages?\n",
        "> Compiled languages: The source code is translated into machine code before execution using a compiler. This machine code is then directly executed by the computer.\n",
        "\n",
        "> Interpreted languages: The source code is executed line by line by an interpreter at runtime, without a prior compilation step.\n",
        "\n",
        "2)What is exception handling in Python?\n",
        "> When an error (known as an exception) arises, Python normally stops execution and displays an error message. Code that might cause an error is placed inside a try block. If an exception occurs, the rest of the code in the try block is skipped, and the except block is executed.\n",
        "\n",
        "3)What is the purpose of the finally block in exception handling?\n",
        ">The finally block in Python exception handling ensures that certain code always executes, whether an exception occurs or not. It’s commonly used for cleanup operations like closing files, releasing resources, or disconnecting from databases.\n",
        "\n",
        "4)What is logging in Python?\n",
        ">Logging in Python refers to the process of recording events, errors, warnings, and informational messages that occur during the execution of a program. Can store logs in files for later analysis.\n",
        "\n",
        "5)What is the significance of the __del__ method in Python?\n",
        ">The `__del__` method is used when an object is about to be deleted. It helps clean up resources like closing files or disconnecting from databases.\n",
        "\n",
        "6)What is the difference between import and from ... import in Python?\n",
        ">In Python, both `import` and `from ... import` are used to bring external modules.\n",
        "> `import` module imports the entire module.`from ... import`imports only specific functions or variables from a module.\n",
        "\n",
        "7) How can you handle multiple exceptions in Python?\n",
        ">Handling multiple exceptions in Python means catching different types of errors in one try-except block.\n",
        "* Example:-\n",
        "      try:\n",
        "      # Code that may raise multiple exceptions\n",
        "      except (TypeError, ValueError) as e:\n",
        "      # Handle both TypeError and ValueError here\n",
        "      print(e)\n",
        "\n",
        "8)What is the purpose of the with statement when handling files in Python?\n",
        ">The with statement in Python is used for handling files efficiently, ensuring they are properly opened and closed. It simplifies file management by automatically closing the file after the block of code is executed, even if an error occurs\n",
        "\n",
        "9) What is the difference between multithreading and multiprocessing?\n",
        "> Multithreading: Many small workers share the same workspace. They work together but can sometimes slow each other down.\n",
        "\n",
        "> Multiprocessing: Each worker has their own workspace and can work at full speed independently.\n",
        "\n",
        "10)What are the advantages of using logging in a program?\n",
        "> Logs show what happened and when, making it easier to spot problems.\n",
        "Get alerts when something goes wrong\n",
        " Helps detect unusual behavior\n",
        "\n",
        "11)What is memory management in Python??\n",
        "> Memory management in Python is the process by which Python automatically allocates and frees up memory for storing objects and data during program execution.\n",
        "\n",
        "12)What are the basic steps involved in exception handling in Python?\n",
        "> `try` to test for errors.\n",
        " `except` to handle errors.\n",
        " `else` for code that runs if there are no errors\n",
        "`finally` for code that must always run\n",
        "\n",
        "13) Why is memory management important in Python?\n",
        ">It frees up memory for storing objects and data during program execution.\n",
        "\n",
        "14)What is the role of try and except in exception handling?\n",
        ">The `try` block is used to wrap code that might raise an exception.The `except` block is used to handle exceptions that occur in the try block. If an error occurs, Python immediately stops executing the rest of the try block and transfers control to the except block.\n",
        "\n",
        "15)How does Python's garbage collection system work?\n",
        ">When we write a Python program, we create lots of objects—like numbers, strings, and lists. These use up our computer’s memory. When we’re done with something (for example, a list we don’t need anymore), Python has to clean it up to free that memory. This is called garbage collection.\n",
        "\n",
        "16) What is the purpose of the else block in exception handling?\n",
        "> We use `else` for code that runs if there are no errors in the `try` block.The else block never runs if an exception is raised.\n",
        "\n",
        "17) What are the common logging levels in Python?\n",
        ">The common logging levels-\n",
        "DEBUG: Detailed information for diagnosing issues\n",
        "INFO: Confirmation that things are working as expected.\n",
        "WARNING: An indication of a possible issue.(but the software is still working as expected)\n",
        "ERROR: Something went wrong, but the program can continue\n",
        "CRITICAL:A serious error—program may stop running\n",
        "\n",
        "* Example:-\n",
        "      import logging\n",
        "\n",
        "      logging.basicConfig(level=logging.DEBUG)\n",
        "      logging.debug(\"This is a debug message.\")\n",
        "      logging.info(\"This is an info message.\")\n",
        "      logging.warning(\"This is a warning message.\")\n",
        "      logging.error(\"This is an error message.\")\n",
        "      logging.critical(\"This is a critical message.\")\n",
        "\n",
        "18)What is the difference between os.fork() and multiprocessing in Python?\n",
        ">`os.fork()` is only available on Unix-like systems (Linux, macOS) and is not supported on Window, whereas multiprocessing is supported on both,\n",
        "os.fork() is a low-level system call that directly creates a child process ,multiprocessing abstracts process creation\n",
        "\n",
        "19)What is the importance of closing a file in Python?\n",
        "> It frees up system resources (file handles).It ensures all data is written to disk (prevents data loss/corruption).It avoids file locking issues.\n",
        "\n",
        "20)What is the difference between file.read() and file.readline() in Python?\n",
        ">file.read() reads the entire contents of the file (or a specified number of bytes) as a single string. If no argument is given, it returns the whole file at once.\n",
        "\n",
        ">file.readline() reads only one line from the file at a time. Each call returns the next line, including the newline character, or an empty string if the end of the file is reached\n",
        "\n",
        "21) What is the logging module in Python used for?\n",
        ">The logging module in Python is used to record events that happen during program execution, such as errors, warnings, and informational messages. It helps developers debug, monitor, and analyze their applications by capturing logs with different severity levels and sending them to various destinations.\n",
        "\n",
        "22) What is the os module in Python used for in file handling?\n",
        ">The `os` module in Python is used for file handling tasks such as creating, deleting, renaming, and modifying files and directories.\n",
        "\n",
        "23) What are the challenges associated with memory management in Python?\n",
        ">Python automates memory management, but developers still face challenges like memory leaks, inefficient garbage collection, and uncontrolled data growth. Monitoring, profiling, and using memory-efficient coding practices are essential for robust Python applications.\n",
        "\n",
        "24) How do you raise an exception manually in Python?\n",
        "> We can manually raise an exception in Python using the `raise` keyword followed by an exception type. This interrupts normal program flow and signals an error, which can be caught and handled using exception handling\n",
        "* Example:-\n",
        "      raise ValueError(\"Invalid input\")\n",
        "\n",
        "25)Why is it important to use multithreading in certain applications?\n",
        ">Multithreading is important in certain applications because it allows multiple tasks to run concurrently within the same program.\n",
        "\n",
        "\n",
        "\n",
        "\n",
        "\n",
        "\n",
        "\n"
      ],
      "metadata": {
        "id": "6D4M21AJUvh4"
      }
    },
    {
      "cell_type": "markdown",
      "source": [
        "#Practical Questions:-"
      ],
      "metadata": {
        "id": "-UGVaw7z1P-D"
      }
    },
    {
      "cell_type": "markdown",
      "source": [
        "1) How can you open a file for writing in Python and write a string to it?"
      ],
      "metadata": {
        "id": "VSyBCxjKHSjF"
      }
    },
    {
      "cell_type": "code",
      "execution_count": null,
      "metadata": {
        "id": "u5NxK69sUYX9"
      },
      "outputs": [],
      "source": [
        "file = open(\"example.txt\", \"w\")\n",
        "file.write(\"Hello, Python!\")\n",
        "file.close()"
      ]
    },
    {
      "cell_type": "markdown",
      "source": [
        "2)Write a Python program to read the contents of a file and print each line."
      ],
      "metadata": {
        "id": "oAkZz_yQHwr6"
      }
    },
    {
      "cell_type": "code",
      "source": [
        "file = open(\"example.txt\", \"r\")\n",
        "for line in file:\n",
        "    print(line)\n",
        "file.close()\n"
      ],
      "metadata": {
        "colab": {
          "base_uri": "https://localhost:8080/"
        },
        "id": "SRXPo61jHudm",
        "outputId": "9e203b3b-067e-4dc3-b347-2cb4d67d579c"
      },
      "execution_count": null,
      "outputs": [
        {
          "output_type": "stream",
          "name": "stdout",
          "text": [
            "Hello, Python!\n"
          ]
        }
      ]
    },
    {
      "cell_type": "markdown",
      "source": [
        "3)How would you handle a case where the file doesn't exist while trying to open it for reading?"
      ],
      "metadata": {
        "id": "Dmp_CAVLITTy"
      }
    },
    {
      "cell_type": "code",
      "source": [
        "try:\n",
        "    file = open(\"myfile.txt\", \"r\")\n",
        "    print(file.read())\n",
        "    file.close()\n",
        "except FileNotFoundError:\n",
        "    print(\"File not found!\")"
      ],
      "metadata": {
        "colab": {
          "base_uri": "https://localhost:8080/"
        },
        "id": "cMLEt7hYIPSv",
        "outputId": "783f685c-017b-4389-dd01-363cedb5559b"
      },
      "execution_count": null,
      "outputs": [
        {
          "output_type": "stream",
          "name": "stdout",
          "text": [
            "File not found!\n"
          ]
        }
      ]
    },
    {
      "cell_type": "markdown",
      "source": [
        "4)Write a Python script that reads from one file and writes its content to another file"
      ],
      "metadata": {
        "id": "5aj1-6tII-Eg"
      }
    },
    {
      "cell_type": "code",
      "source": [
        "source_file = open(\"example.txt\", \"r\")\n",
        "destination_file = open(\"destination.txt\", \"a\")\n",
        "\n",
        "for line in source_file:\n",
        "    destination_file.write(line)\n",
        "\n",
        "source_file.close()\n",
        "destination_file.close()\n",
        "f=open(\"destination.txt\",\"r\")\n",
        "print(f.read())"
      ],
      "metadata": {
        "colab": {
          "base_uri": "https://localhost:8080/"
        },
        "id": "Zbyf5CHsI8Nu",
        "outputId": "696d52ab-2723-47d6-e637-e8210a8e7d54"
      },
      "execution_count": null,
      "outputs": [
        {
          "output_type": "stream",
          "name": "stdout",
          "text": [
            "Hello, Python!Hello, Python!Hello, Python!Hello, Python!Hello, Python!\n"
          ]
        }
      ]
    },
    {
      "cell_type": "markdown",
      "source": [
        "5)How would you catch and handle division by zero error in Python?"
      ],
      "metadata": {
        "id": "NgWjZcYKLms-"
      }
    },
    {
      "cell_type": "code",
      "source": [
        "try:\n",
        "    result = 10 / 0  # This will cause ZeroDivisionError\n",
        "    print(\"Result:\", result)\n",
        "except ZeroDivisionError:\n",
        "    print(\"Error: Division by zero is not allowed.\")"
      ],
      "metadata": {
        "colab": {
          "base_uri": "https://localhost:8080/"
        },
        "id": "DP4lRxffKIFW",
        "outputId": "67f28092-b0f1-464f-9e61-ee8921eccda3"
      },
      "execution_count": null,
      "outputs": [
        {
          "output_type": "stream",
          "name": "stdout",
          "text": [
            "Error: Division by zero is not allowed.\n"
          ]
        }
      ]
    },
    {
      "cell_type": "markdown",
      "source": [
        "6)Write a Python program that logs an error message to a log file when a division by zero exception occurs"
      ],
      "metadata": {
        "id": "JvqaurObMJuw"
      }
    },
    {
      "cell_type": "code",
      "source": [
        "import logging\n",
        "logging.basicConfig(filename='error.log', level=logging.ERROR)\n",
        "\n",
        "try:\n",
        "    x = 10\n",
        "    y = 0\n",
        "    result = x / y\n",
        "except ZeroDivisionError:\n",
        "    logging.error(\"Attempted to divide by zero!\")"
      ],
      "metadata": {
        "colab": {
          "base_uri": "https://localhost:8080/"
        },
        "id": "Ru8gZcdIL9Rr",
        "outputId": "e5709e6d-acb5-48ae-98f5-ddcd0114006e"
      },
      "execution_count": null,
      "outputs": [
        {
          "output_type": "stream",
          "name": "stderr",
          "text": [
            "ERROR:root:Attempted to divide by zero!\n"
          ]
        }
      ]
    },
    {
      "cell_type": "markdown",
      "source": [
        "7) How do you log information at different levels (INFO, ERROR, WARNING) in Python using the logging module?"
      ],
      "metadata": {
        "id": "N6oLYbICNFNo"
      }
    },
    {
      "cell_type": "code",
      "source": [
        "import logging\n",
        "\n",
        "logging.debug(\"This is a debug message\")\n",
        "logging.info(\"This is an info message\")\n",
        "logging.warning(\"This is a warning message\")\n",
        "logging.error(\"This is an error message\")\n",
        "logging.critical(\"This is a critical message\")"
      ],
      "metadata": {
        "id": "7Bc2DaSANCe4",
        "colab": {
          "base_uri": "https://localhost:8080/"
        },
        "outputId": "10e30596-32ab-4cb1-948b-d50e0440e645"
      },
      "execution_count": null,
      "outputs": [
        {
          "output_type": "stream",
          "name": "stderr",
          "text": [
            "WARNING:root:This is a warning message\n",
            "ERROR:root:This is an error message\n",
            "CRITICAL:root:This is a critical message\n"
          ]
        }
      ]
    },
    {
      "cell_type": "code",
      "source": [
        "import logging\n",
        "\n",
        "logger = logging.getLogger('my_logger')\n",
        "logger.setLevel(logging.INFO)  #to see INFO , we need to lower & set the logging level\n",
        "\n",
        "logger.info(\"Info message\")\n",
        "logger.warning(\"Warning message\")\n",
        "logger.error(\"Error message\")"
      ],
      "metadata": {
        "colab": {
          "base_uri": "https://localhost:8080/"
        },
        "id": "V85yq5Po_lL3",
        "outputId": "a2a88cab-e3b2-42af-b7a3-f57465ec6a6c"
      },
      "execution_count": null,
      "outputs": [
        {
          "output_type": "stream",
          "name": "stderr",
          "text": [
            "INFO:my_logger:Info message\n",
            "WARNING:my_logger:Warning message\n",
            "ERROR:my_logger:Error message\n"
          ]
        }
      ]
    },
    {
      "cell_type": "markdown",
      "source": [
        "8) Write a program to handle a file opening error using exception handling"
      ],
      "metadata": {
        "id": "KKIiJyPgAddd"
      }
    },
    {
      "cell_type": "code",
      "source": [
        "filename = input(\"Enter the file name: \")\n",
        "\n",
        "try:\n",
        "    file = open(filename, \"r\")\n",
        "    content = file.read()\n",
        "    print(\"File contents:\")\n",
        "    print(content)\n",
        "    file.close()\n",
        "except FileNotFoundError:\n",
        "    print(f\"Error: The file '{filename}' was not found.\")\n",
        "except Exception as e:\n",
        "    print(f\"An unexpected error occurred: {e}\")"
      ],
      "metadata": {
        "colab": {
          "base_uri": "https://localhost:8080/"
        },
        "id": "indJ_6G2_JPN",
        "outputId": "e88351ba-1f11-4225-f43b-53d249d5ca53"
      },
      "execution_count": null,
      "outputs": [
        {
          "output_type": "stream",
          "name": "stdout",
          "text": [
            "Enter the file name: Readme\n",
            "Error: The file 'Readme' was not found.\n"
          ]
        }
      ]
    },
    {
      "cell_type": "markdown",
      "source": [
        "9) How can you read a file line by line and store its content in a list in Python?"
      ],
      "metadata": {
        "id": "UTQ-73g3BnKv"
      }
    },
    {
      "cell_type": "code",
      "source": [
        "file=open(\"pw.txt\",\"w\")\n",
        "file.write(\"Bat :100\\n\")\n",
        "file.write(\"Ball :50\\n\")\n",
        "file.close()\n",
        "\n",
        "file = open('pw.txt', 'r')\n",
        "lines = file.readlines()\n",
        "file.close()\n",
        "print(lines)"
      ],
      "metadata": {
        "colab": {
          "base_uri": "https://localhost:8080/"
        },
        "id": "YOJ6UIRO_0hU",
        "outputId": "b6b72829-99af-4233-f507-650d5798f100"
      },
      "execution_count": null,
      "outputs": [
        {
          "output_type": "stream",
          "name": "stdout",
          "text": [
            "['Bat :100\\n', 'Ball :50\\n']\n"
          ]
        }
      ]
    },
    {
      "cell_type": "markdown",
      "source": [
        "10)How can you append data to an existing file in Python?"
      ],
      "metadata": {
        "id": "BPwV-ZaqCvFE"
      }
    },
    {
      "cell_type": "code",
      "source": [
        "file=open(\"pw.txt\",\"a\")\n",
        "file.write(\"This is my Second line\\n\")\n",
        "file.write(\"This is my Third line\\n\")\n",
        "file.close()\n",
        "file=open(\"pw.txt\",\"r\")\n",
        "print(file.read())"
      ],
      "metadata": {
        "colab": {
          "base_uri": "https://localhost:8080/"
        },
        "id": "YZomlrHrCdF3",
        "outputId": "b44a1b0b-7e17-4e52-e4a2-975b17f5fc2e"
      },
      "execution_count": null,
      "outputs": [
        {
          "output_type": "stream",
          "name": "stdout",
          "text": [
            "Bat :100\n",
            "Ball :50\n",
            "This is my Second line\n",
            "This is my Third line\n",
            "\n"
          ]
        }
      ]
    },
    {
      "cell_type": "markdown",
      "source": [
        "11)Write a Python program that uses a try-except block to handle an error when attempting to access a\n",
        "dictionary key that doesn't exist"
      ],
      "metadata": {
        "id": "cN9h3WDVDBmt"
      }
    },
    {
      "cell_type": "code",
      "source": [
        "my_dict = {'name': 'Dibyo'}\n",
        "\n",
        "try:\n",
        "    print(my_dict['age'])\n",
        "except KeyError:\n",
        "    print(\"That key does not exist!\")"
      ],
      "metadata": {
        "id": "rcy-cecJDAQe",
        "colab": {
          "base_uri": "https://localhost:8080/"
        },
        "outputId": "b617e7c1-0aea-4552-e0ee-0ab44c3eec0e"
      },
      "execution_count": 1,
      "outputs": [
        {
          "output_type": "stream",
          "name": "stdout",
          "text": [
            "That key does not exist!\n"
          ]
        }
      ]
    },
    {
      "cell_type": "markdown",
      "source": [
        "12)Write a program that demonstrates using multiple except blocks to handle different types of exceptions"
      ],
      "metadata": {
        "id": "8_6EhMjwwpn5"
      }
    },
    {
      "cell_type": "code",
      "source": [
        "try:\n",
        "    num = int(input(\"Enter a number: \"))\n",
        "    result = 10 / num\n",
        "    print(\"Result:\", result)\n",
        "except ZeroDivisionError:\n",
        "    print(\"You cannot divide by zero!\")\n",
        "except ValueError:\n",
        "    print(\"Please enter a valid integer!\")"
      ],
      "metadata": {
        "colab": {
          "base_uri": "https://localhost:8080/"
        },
        "id": "c3ZWnazjwkIf",
        "outputId": "60203d11-86f7-49ea-9587-ad9ffa90a5bf"
      },
      "execution_count": 2,
      "outputs": [
        {
          "output_type": "stream",
          "name": "stdout",
          "text": [
            "Enter a number: 0\n",
            "You cannot divide by zero!\n"
          ]
        }
      ]
    },
    {
      "cell_type": "markdown",
      "source": [
        "13) How would you check if a file exists before attempting to read it in Python?"
      ],
      "metadata": {
        "id": "qqVK_uI1xc51"
      }
    },
    {
      "cell_type": "code",
      "source": [
        "import os\n",
        "\n",
        "if os.path.exists('pw.txt'):\n",
        "    print(\"File exists\")\n",
        "else:\n",
        "    print(\"File does not exist\")"
      ],
      "metadata": {
        "colab": {
          "base_uri": "https://localhost:8080/"
        },
        "id": "myk9qC2qxa3B",
        "outputId": "eac2eb5b-8a81-4dbd-8e77-e30e6c28ad57"
      },
      "execution_count": 3,
      "outputs": [
        {
          "output_type": "stream",
          "name": "stdout",
          "text": [
            "File does not exist\n"
          ]
        }
      ]
    },
    {
      "cell_type": "markdown",
      "source": [
        "14)Write a program that uses the logging module to log both informational and error messages."
      ],
      "metadata": {
        "id": "mVNCJfvEyz53"
      }
    },
    {
      "cell_type": "code",
      "source": [
        "import logging\n",
        "\n",
        "logging.basicConfig(level=logging.INFO)\n",
        "\n",
        "logging.info(\"Program started!\")  # Informational message\n",
        "\n",
        "try:\n",
        "    result = 5 / 0\n",
        "except ZeroDivisionError:\n",
        "    logging.error(\"ERROR.\")"
      ],
      "metadata": {
        "colab": {
          "base_uri": "https://localhost:8080/"
        },
        "id": "4sXBYBryxwWq",
        "outputId": "4cc34118-592f-41fe-b371-0dbeb1222477"
      },
      "execution_count": 7,
      "outputs": [
        {
          "output_type": "stream",
          "name": "stderr",
          "text": [
            "ERROR:root:ERROR.\n"
          ]
        }
      ]
    },
    {
      "cell_type": "markdown",
      "source": [
        "15) Write a Python program that prints the content of a file and handles the case when the file is empty"
      ],
      "metadata": {
        "id": "P1Ka988azrr2"
      }
    },
    {
      "cell_type": "code",
      "source": [
        "file=open(\"pw.txt\",\"w\")\n",
        "file.write(\"This is my Second line\\n\")\n",
        "file.write(\"This is my Third line\")\n",
        "file.close()\n",
        "f = open(\"pw.txt\", \"r\")\n",
        "content = f.read()\n",
        "if content:\n",
        "    print(content)\n",
        "else:\n",
        "    print(\"The file is empty.\")\n",
        "f.close()"
      ],
      "metadata": {
        "colab": {
          "base_uri": "https://localhost:8080/"
        },
        "id": "FgJSvBM-zgET",
        "outputId": "7e614be9-c8ff-4d0b-9c74-efb5f190d309"
      },
      "execution_count": 11,
      "outputs": [
        {
          "output_type": "stream",
          "name": "stdout",
          "text": [
            "This is my Second line\n",
            "This is my Third line\n"
          ]
        }
      ]
    },
    {
      "cell_type": "markdown",
      "source": [
        "16)Demonstrate how to use memory profiling to check the memory usage of a small program"
      ],
      "metadata": {
        "id": "pfxHmviB095z"
      }
    },
    {
      "cell_type": "markdown",
      "source": [
        "17) Write a Python program to create and write a list of numbers to a file, one number per line"
      ],
      "metadata": {
        "id": "MKVFWAq124qE"
      }
    },
    {
      "cell_type": "code",
      "source": [
        "numbers = [1, 2, 3, 4, 5]\n",
        "file = open(\"numbers.txt\", \"w\")\n",
        "for num in numbers:\n",
        "    file.write(str(num) + \"\\n\")\n",
        "\n",
        "file = open(\"numbers.txt\", \"r\")\n",
        "print(file.read())"
      ],
      "metadata": {
        "colab": {
          "base_uri": "https://localhost:8080/"
        },
        "id": "P3vvmFaj0dWn",
        "outputId": "c4f15486-6312-48f6-c526-bec43aac90c6"
      },
      "execution_count": 18,
      "outputs": [
        {
          "output_type": "stream",
          "name": "stdout",
          "text": [
            "1\n",
            "2\n",
            "3\n",
            "4\n",
            "5\n",
            "\n"
          ]
        }
      ]
    },
    {
      "cell_type": "markdown",
      "source": [
        "18)How would you implement a basic logging setup that logs to a file with rotation after 1MB?"
      ],
      "metadata": {
        "id": "a72V8bz830B-"
      }
    },
    {
      "cell_type": "markdown",
      "source": [
        "19)Write a program that handles both IndexError and KeyError using a try-except block."
      ],
      "metadata": {
        "id": "OJNWS8_X37Rq"
      }
    },
    {
      "cell_type": "code",
      "source": [
        "my_list = [10, 20, 30]\n",
        "my_dict = {'a': 1, 'b': 2}\n",
        "\n",
        "errors = []\n",
        "\n",
        "try:\n",
        "    print(my_list[5])\n",
        "except IndexError:\n",
        "    errors.append(\"List index is out of range!\")\n",
        "\n",
        "try:\n",
        "    print(my_dict['c'])\n",
        "except KeyError:\n",
        "    errors.append(\"Dictionary key not found!\")\n",
        "\n",
        "for error in errors:\n",
        "    print(error)\n"
      ],
      "metadata": {
        "colab": {
          "base_uri": "https://localhost:8080/"
        },
        "id": "B5A5cgaw3O9_",
        "outputId": "3f8571b2-1b7d-4d75-d974-9ada3f8a7d8f"
      },
      "execution_count": 20,
      "outputs": [
        {
          "output_type": "stream",
          "name": "stdout",
          "text": [
            "List index is out of range!\n",
            "Dictionary key not found!\n"
          ]
        }
      ]
    },
    {
      "cell_type": "markdown",
      "source": [
        "20) How would you open a file and read its contents using a context manager in Python?"
      ],
      "metadata": {
        "id": "eP-mS74z5PFB"
      }
    },
    {
      "cell_type": "code",
      "source": [
        "with open('pw.txt', 'r') as file:\n",
        "    content = file.read()\n",
        "    print(content)"
      ],
      "metadata": {
        "colab": {
          "base_uri": "https://localhost:8080/"
        },
        "id": "p0bncDsZ4JAZ",
        "outputId": "72ec1f9d-f08f-48d2-f6e8-e578fc3ab27e"
      },
      "execution_count": 21,
      "outputs": [
        {
          "output_type": "stream",
          "name": "stdout",
          "text": [
            "This is my Second line\n",
            "This is my Third line\n"
          ]
        }
      ]
    },
    {
      "cell_type": "markdown",
      "source": [
        "21)Write a Python program that reads a file and prints the number of occurrences of a specific word"
      ],
      "metadata": {
        "id": "ML4C5oXg6KCE"
      }
    },
    {
      "cell_type": "code",
      "source": [
        "filename = \"pw.txt\"\n",
        "word = \"line\"\n",
        "\n",
        "f = open(filename, \"r\")\n",
        "text = f.read()\n",
        "f.close()\n",
        "\n",
        "count = text.count(word)\n",
        "print(f\"'{word}' appears {count} times in the file.\")"
      ],
      "metadata": {
        "colab": {
          "base_uri": "https://localhost:8080/"
        },
        "id": "jqnra63O6Iu0",
        "outputId": "cc628455-98cc-4ab2-e12d-6c057e1c7c73"
      },
      "execution_count": 22,
      "outputs": [
        {
          "output_type": "stream",
          "name": "stdout",
          "text": [
            "'line' appears 2 times in the file.\n"
          ]
        }
      ]
    },
    {
      "cell_type": "markdown",
      "source": [
        "22)How can you check if a file is empty before attempting to read its contents"
      ],
      "metadata": {
        "id": "mzUahLlG8uRi"
      }
    },
    {
      "cell_type": "code",
      "source": [
        "import os\n",
        "\n",
        "filename = \"pw.txt\"\n",
        "if os.path.getsize(filename) == 0:\n",
        "    print(\"The file is empty.\")\n",
        "else:\n",
        "    print(\"The file is not empty.\")"
      ],
      "metadata": {
        "colab": {
          "base_uri": "https://localhost:8080/"
        },
        "id": "bWd3pIIJ8s4Q",
        "outputId": "1804e77e-f16b-4669-ed16-319cd2b434f5"
      },
      "execution_count": 23,
      "outputs": [
        {
          "output_type": "stream",
          "name": "stdout",
          "text": [
            "The file is not empty.\n"
          ]
        }
      ]
    },
    {
      "cell_type": "markdown",
      "source": [
        "23)Write a Python program that writes to a log file when an error occurs during file handling"
      ],
      "metadata": {
        "id": "bv-58Z0x9EUY"
      }
    },
    {
      "cell_type": "code",
      "source": [
        "try:\n",
        "    f = open(\"pw1.txt\", \"r\")\n",
        "    content = f.read()\n",
        "    print(content)\n",
        "    f.close()\n",
        "except Exception as e:\n",
        "    log = open(\"error.log\", \"a\")\n",
        "    log.write(str(e) + \"\\n\")\n",
        "    log.close()\n",
        "    print(\"An error occurred. Check 'error.log'.\")"
      ],
      "metadata": {
        "colab": {
          "base_uri": "https://localhost:8080/"
        },
        "id": "a3OsHnbt9Dgh",
        "outputId": "41d38e7e-cfd1-4713-c7ed-1b648d31cd72"
      },
      "execution_count": 25,
      "outputs": [
        {
          "output_type": "stream",
          "name": "stdout",
          "text": [
            "An error occurred. Check 'error.log'.\n"
          ]
        }
      ]
    }
  ]
}