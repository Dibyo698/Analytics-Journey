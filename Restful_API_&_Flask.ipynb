{
  "nbformat": 4,
  "nbformat_minor": 0,
  "metadata": {
    "colab": {
      "provenance": []
    },
    "kernelspec": {
      "name": "python3",
      "display_name": "Python 3"
    },
    "language_info": {
      "name": "python"
    }
  },
  "cells": [
    {
      "cell_type": "markdown",
      "source": [
        "#Restful API & Flask"
      ],
      "metadata": {
        "id": "m6-1taE1qzPo"
      }
    },
    {
      "cell_type": "markdown",
      "source": [
        "1)What is a RESTful API?\n",
        "> API is an application Interface/Function which takes Request , brings it to the Server, and returns with Response. REST(Representational State Transfer API) is an architectutal API which typically is Stateless, means it doesn't store sessions. e,g- Authenticators, Netbanking websites etc.\n",
        "\n",
        "2)Explain the concept of API specification.\n",
        ">  An API specification is like a blueprint for how two systems talk to each other using an API. Specification defines:-\n",
        "\n",
        "*   Available end points(URL's that client can call)\n",
        "*   Methods( e.g- GET, PUT, POST, DELETE)\n",
        "*   Request formats\n",
        "*   Response formats  etc.\n",
        "\n",
        "3)What is Flask, and why is it popular for building APIs?\n",
        ">Flask is a framework or a passage through which two systems communicate using @app.route.\n",
        "> Flask especially popular for building APIs because of simplicity, flexibility, and control\n",
        "\n",
        "4)What is routing in Flask?\n",
        ">In Flask, routing refers to how we connect a URL (what the user types in a browser or what an app calls) to a specific function in our Python code. when someone visits /home, /about, or /api/data.\n",
        "from flask import Flask\n",
        "\n",
        "* Example:-   \n",
        "      app = Flask(__name__)\n",
        "      @app.route('/')\n",
        "      def home():\n",
        "        return \"Welcome to the homepage!\"\n",
        "\n",
        "      @app.route('/hello')\n",
        "      def hello():\n",
        "       return \"Hello there!\"\n",
        "\n",
        "- The @app.route('/') is a route decorator. It tells Flask: “When someone visits this URL, run the function below.”\n",
        "\n",
        "5)How do you create a simple Flask application?\n",
        "> * Example:\n",
        "      pip install flask\n",
        "      from flask import Flask\n",
        "      app = Flask(__name__)\n",
        "\n",
        "      @app.route('/')\n",
        "      def home():\n",
        "        return \"Hello, Flask!\"\n",
        "\n",
        "      if __name__ == '__main__':\n",
        "        app.run(debug=True)\n",
        "\n",
        "6)What are HTTP methods used in RESTful APIs?\n",
        ">RESTful APIs rely on these HTTP methods to map CRUD (Create, Read, Update, Delete) operations to web resources,\n",
        "POST(Create)\n",
        "GET(Read)\n",
        "PUT(Update)\n",
        "DELETE(Delete)\n",
        "\n",
        "7)What is the purpose of the @app.route() decorator in Flask?\n",
        "* Example:-   \n",
        "      app = Flask(__name__)\n",
        "      @app.route('/')\n",
        "      def home():\n",
        "        return \"Welcome to the homepage!\"\n",
        "\n",
        "      @app.route('/hello')\n",
        "      def hello():\n",
        "       return \"Hello there!\"\n",
        "\n",
        "- The @app.route('/') is a route decorator. It tells Flask: “When someone visits this URL, run the function below.”\n",
        "\n",
        "8) What is the difference between GET and POST HTTP methods?\n",
        ">GET\n",
        "- Purpose: Retrieve data from the server.\n",
        "- Data Location: Sent in the URL as query parameters (e.g., ?name=Alex&age=25).\n",
        "- Visibility: Data is visible in the browser’s address bar.\n",
        "- Use Case: Safe operations like searching or fetching public info.\n",
        "- Limitations: URL length is limited; not ideal for sensitive or large data.\n",
        "\n",
        "> POST\n",
        "- Purpose: Send data to the server to create or update a resource.\n",
        "- Data Location: Sent in the body of the request—not visible in the URL.\n",
        "- Visibility: Hidden from the address bar and browser history.\n",
        "- Use Case: Submitting forms, uploading files, or sending sensitive info.\n",
        "- Limitations: No size limit on data; more secure when used with HTTPS.\n",
        "\n",
        "GET like asking a librarian for a book title— just reading. POST is like handing in a form to request a new book— changing something\n",
        "\n",
        "9)How do you handle errors in Flask APIs?\n",
        ">Flask APIs handle errors by defining custom error handlers, using abort() for programmatic errors, creating custom exception classes, mapping exceptions to responses (especially with Flask-RESTful), and wrapping logic in try-except blocks.\n",
        "\n",
        "10)How do you connect Flask to a SQL database?\n",
        ">Application Layer-Flask application, functioning as the interface between the user and the server by handling HTTP requests.\n",
        "-ORM Layer (e.g., SQLAlchemy)- To bridge the gap between Python objects and SQL tables, Translates Python class definitions into database schemas\n",
        "-Configuration and Binding- The application must establish a contract with the ORM, typically through a URI specifying the database driver, credentials, and target location.The database connection.\n",
        "-Database Layer-It stores structured data in tabular form, governed by a schema.\n",
        "-Execution Flow Summary\n",
        "- User triggers an action (e.g., submits a form).\n",
        "- Flask receives and routes the request.\n",
        "- The handler function interacts with the ORM, which abstracts data access.\n",
        "- The ORM translates this into SQL and interacts with the database.\n",
        "- The result is passed back through Flask to the user.\n",
        "\n",
        "11)What is the role of Flask-SQLAlchemy?\n",
        "> Translates Python class definitions into database schemas.\n",
        "Converts method calls and object manipulations into SQL statements.\n",
        "\n",
        "12)What are Flask blueprints, and how are they useful?\n",
        ">Without cluttering the main file, Blueprint,a reusable set of operations,help to organize Flask application into smaller, modular components.\n",
        "\n",
        "13)What is the purpose of Flask's request object?\n",
        ">- Access Client Data: It captures data sent via GET, POST, or other HTTP methods.\n",
        "- Read Query Parameters: Use request.args to get values from the URL (e.g., /search?q=flask).\n",
        "- Handle Form Submissions: Use request.form to retrieve data from HTML forms.\n",
        "- Work with JSON: Use request.get_json() to parse JSON payloads in API requests.\n",
        "\n",
        "14)How do you create a RESTful API endpoint using Flask?\n",
        ">Creating a RESTful API endpoint in Flask is defining a route that responds to HTTP methods like GET, POST, PUT, or DELETE, and returns data—typically in JSON format\n",
        "* Example:-\n",
        "      from flask import Flask, request, jsonify\n",
        "      app = Flask(__name__)\n",
        "\n",
        "      @app.route('/api/greet', methods=['GET'])\n",
        "      def greet():\n",
        "      name = request.args.get('name', 'Guest')\n",
        "      return jsonify({'message': f'Hello, {name}!'})\n",
        "\n",
        "here the Endpoint: /api/greet\n",
        "\n",
        "15)What is the purpose of Flask's jsonify() function?\n",
        ">purpose of Flask’s jsonify() function is to convert Python data structures into a proper JSON response that can be sent back to the client\n",
        "\n",
        "16)Explain Flask’s url_for() function.\n",
        ">Flask’s url_for() function is a dynamic URL builder—it generates URLs for our application based on the name of a view function rather than hardcoding paths.\n",
        "\n",
        "17)How does Flask handle static files (CSS, JavaScript, etc.)?\n",
        ">Flask handles static files—like CSS, JavaScript, images, and fonts—through a built-in mechanism that serves them from a special folder named `static/`. This allows our web app to deliver styling and interactivity alongside our HTML content\n",
        "\n",
        "18)What is an API specification, and how does it help in building a Flask API?\n",
        ">An API specification is like a blueprint or contract that defines exactly how a client and server should communicate through an API. It outlines the structure, behavior, and rules of the API in a standardized, machine-readable format.\n",
        "\n",
        "19) What are HTTP status codes, and why are they important in a Flask API?\n",
        ">HTTP status codes are three-digit numbers returned by a server to indicate the outcome of a client's request. They’re like traffic signals for web communication—telling the client whether things went smoothly, if something went wrong, or if further action is needed.\n",
        "- Signal success (e.g., 200 OK, 201 Created)\n",
        "- Indicate client errors (e.g., 400 Bad Request, 404 Not Found)\n",
        "- Report server issues (e.g., 500 Internal Server Error)\n",
        "\n",
        "20)How do you handle POST requests in Flask?\n",
        ">Handling POST requests in Flask involves setting up a route that accepts the POST method and then accessing the data sent by the client\n",
        "* Example:-\n",
        "      from flask import Flask, request, jsonify\n",
        "      app = Flask(__name__)\n",
        "\n",
        "      @app.route('/submit', methods=['POST'])\n",
        "      def submit():\n",
        "      data = request.get_json()\n",
        "      name = data.get('name', 'Guest')\n",
        "      return jsonify({'message': f'Hello, {name}!'}), 200\n",
        "- The client sends a JSON payload like {\"name\": \"Dibyo\"}\n",
        "- Flask reads it using request.get_json()\n",
        "- The server responds with a personalized message\n",
        "   \n",
        "21)How would you secure a Flask API?\n",
        "> Authentication and Authorization\n",
        "- Authentication verifies who the user is.\n",
        "- Authorization determines what the user is allowed to do.\n",
        "> Input Validation and Sanitization\n",
        "- Always validate incoming data to prevent injection attacks.\n",
        "- Use libraries like `marshmallow` or `pydantic` to enforce schemas.\n",
        "> HTTPS and Secure Headers\n",
        "- Serve API over HTTPS to encrypt data in transit.\n",
        "\n",
        "22)What is the significance of the Flask-RESTful extension?\n",
        ">Flask-RESTful is an add-on for Flask that makes it easier to build APIs. Instead of writing a bunch of code for each route, we can organize our API using classes. This helps us keep things tidy and easier to manage\n",
        "\n",
        "23)What is the role of Flask’s session object?\n",
        ">The `session` object in Flask is used to store information about a user across multiple requests—like keeping someone logged in as they navigate the site. It acts like a temporary memory that remembers data between page visits.\n",
        "\n",
        "\n",
        "\n",
        "\n",
        "\n",
        "\n",
        "\n",
        "\n",
        "\n",
        "\n",
        "\n",
        "\n"
      ],
      "metadata": {
        "id": "-CVsbcx1q79U"
      }
    },
    {
      "cell_type": "markdown",
      "source": [
        "#Practical Questions:-"
      ],
      "metadata": {
        "id": "t-bHtpuCJ6cZ"
      }
    },
    {
      "cell_type": "markdown",
      "source": [
        "1)How do you create a basic Flask application?"
      ],
      "metadata": {
        "id": "0v7d74baJ-5e"
      }
    },
    {
      "cell_type": "code",
      "source": [
        "pip install Flask\n",
        "from flask import Flask\n",
        "app = Flask(__name__)\n",
        "\n",
        "@app.route(\"/\")\n",
        "def hello_world():\n",
        "    return \"Hello, World!\"\n",
        "if __name__== '__main__':\n",
        "    app.run(debug=True)"
      ],
      "metadata": {
        "id": "kjwtXjpGpUAp"
      },
      "execution_count": null,
      "outputs": []
    },
    {
      "cell_type": "markdown",
      "source": [
        "2)How do you serve static files like images or CSS in Flask?"
      ],
      "metadata": {
        "id": "bcQ1iRz0sqkq"
      }
    },
    {
      "cell_type": "code",
      "source": [
        "# CSS code\n",
        "body {\n",
        "    background-color: lightblue;\n",
        "    text-align: center;\n",
        "}\n",
        "\n",
        "# Html code\n",
        "<!DOCTYPE html>\n",
        "<html>\n",
        "<head>\n",
        "    <title>Simple Flask Static</title>\n",
        "    <link rel=\"stylesheet\" href=\"{{ url_for('static', filename='css/style.css') }}\">\n",
        "</head>\n",
        "<body>\n",
        "    <h1>Hello from Flask!</h1>\n",
        "    <img src=\"{{ url_for('static', filename='images/Error.jpg') }}\" alt=\"Logo\" width=\"200\">\n",
        "</body>\n",
        "</html>\n",
        "\n",
        "#Python code\n",
        "from flask import Flask, render_template\n",
        "\n",
        "app = Flask(__name__)\n",
        "\n",
        "@app.route('/')\n",
        "def home():\n",
        "    return render_template('index.html')\n",
        "\n",
        "if __name__ == '__main__':\n",
        "    app.run(debug=True)\n",
        "\n",
        "#Output-\n",
        "http://127.0.0.1:5000/"
      ],
      "metadata": {
        "id": "OnI1I9xIzSxE"
      },
      "execution_count": null,
      "outputs": []
    },
    {
      "cell_type": "markdown",
      "source": [
        "3)How do you define different routes with different HTTP methods in Flask?"
      ],
      "metadata": {
        "id": "unb1-MEx0G5j"
      }
    },
    {
      "cell_type": "code",
      "source": [
        "from flask import Flask\n",
        "\n",
        "app = Flask(__name__)\n",
        "\n",
        "@app.route('/get-data', methods=['GET'])\n",
        "def get_data():\n",
        "    return 'This is a GET request.'\n",
        "\n",
        "@app.route('/update-data', methods=['PUT'])\n",
        "def update_data():\n",
        "    return 'This is a PUT request.'\n"
      ],
      "metadata": {
        "id": "FUY4SWXA0SUj"
      },
      "execution_count": null,
      "outputs": []
    },
    {
      "cell_type": "markdown",
      "source": [
        "4)How do you render HTML templates in Flask?"
      ],
      "metadata": {
        "id": "DKkrPg_51-Te"
      }
    },
    {
      "cell_type": "code",
      "source": [
        "#html code\n",
        "<!DOCTYPE html>\n",
        "<html>\n",
        "<head>\n",
        "    <title>Flask Template</title>\n",
        "</head>\n",
        "<body>\n",
        "    <h1>Hello, Dibyo!</h1>\n",
        "</body>\n",
        "</html>\n",
        "\n",
        "#Python code\n",
        "from flask import Flask, render_template\n",
        "\n",
        "app = Flask(__name__)\n",
        "\n",
        "@app.route('/')\n",
        "def home():\n",
        "    return render_template('index.html', name='Flask User')\n",
        "\n",
        "if __name__ == '__main__':\n",
        "    app.run(debug=True)"
      ],
      "metadata": {
        "id": "ea7zUcCt9_-W"
      },
      "execution_count": null,
      "outputs": []
    },
    {
      "cell_type": "markdown",
      "source": [
        "5)How can you generate URLs for routes in Flask using url_for?"
      ],
      "metadata": {
        "id": "2nw3cP59-O8V"
      }
    },
    {
      "cell_type": "code",
      "source": [
        "from flask import Flask, url_for\n",
        "app = Flask(__name__)\n",
        "\n",
        "@app.route('/about')\n",
        "def about():\n",
        "    return 'This is the About Page'"
      ],
      "metadata": {
        "id": "gCeMOy88-VOI"
      },
      "execution_count": null,
      "outputs": []
    },
    {
      "cell_type": "markdown",
      "source": [
        "6)How do you handle forms in Flask?"
      ],
      "metadata": {
        "id": "-m0_1q6F-z9M"
      }
    },
    {
      "cell_type": "code",
      "source": [
        "#html form\n",
        "<!DOCTYPE html>\n",
        "<html>\n",
        "<head>\n",
        "    <title>Say Hello</title>\n",
        "</head>\n",
        "<body>\n",
        "    <form method=\"POST\">\n",
        "        <input type=\"text\" name=\"username\" placeholder=\"Enter your name\">\n",
        "        <input type=\"submit\" value=\"Say Hello\">\n",
        "    </form>\n",
        "</body>\n",
        "</html>\n",
        "\n",
        "#Python code\n",
        "from flask import Flask, request, render_template\n",
        "\n",
        "app = Flask(__name__)\n",
        "\n",
        "@app.route('/', methods=['GET', 'POST'])\n",
        "def hello():\n",
        "    if request.method == 'POST':\n",
        "        name = request.form['username']\n",
        "        return f'<h1>Hello, {name}!</h1>'\n",
        "    return render_template('form.html')\n",
        "\n",
        "if __name__ == '__main__':\n",
        "    app.run(debug=True)"
      ],
      "metadata": {
        "id": "osDQk0vS-3Cp"
      },
      "execution_count": null,
      "outputs": []
    },
    {
      "cell_type": "markdown",
      "source": [
        "7)How can you validate form data in Flask?"
      ],
      "metadata": {
        "id": "g6SfvOKW_hmK"
      }
    },
    {
      "cell_type": "code",
      "source": [
        "from flask import Flask, request, render_template\n",
        "\n",
        "app = Flask(__name__)\n",
        "\n",
        "@app.route('/', methods=['GET', 'POST'])\n",
        "def form():\n",
        "    if request.method == 'POST':\n",
        "        name = request.form.get('username')\n",
        "        if not name:\n",
        "            return 'Name is required!'\n",
        "        return f'Hello, {name}!'\n",
        "    return render_template('form.html')"
      ],
      "metadata": {
        "id": "sUCJFeId_nK0"
      },
      "execution_count": null,
      "outputs": []
    },
    {
      "cell_type": "markdown",
      "source": [
        "8)How do you manage sessions in Flask?"
      ],
      "metadata": {
        "id": "kQ6K1R8Z__oU"
      }
    },
    {
      "cell_type": "code",
      "source": [
        "from flask import Flask, session, request\n",
        "\n",
        "app = Flask(__name__)\n",
        "app.secret_key = 'secret'\n",
        "\n",
        "@app.route('/')\n",
        "def home():\n",
        "    return f\"Hello, {session.get('name', 'Guest')}!\"\n",
        "\n",
        "@app.route('/set')\n",
        "def set_name():\n",
        "    session['name'] = request.args.get('name', 'Guest')\n",
        "    return 'Name saved in session!'\n",
        "\n",
        "@app.route('/clear')\n",
        "def clear():\n",
        "    session.clear()\n",
        "    return 'Session cleared!'"
      ],
      "metadata": {
        "id": "grLgu3-DACPD"
      },
      "execution_count": null,
      "outputs": []
    },
    {
      "cell_type": "markdown",
      "source": [
        "9) How do you redirect to a different route in Flask?"
      ],
      "metadata": {
        "id": "1dmIYNWaBDEb"
      }
    },
    {
      "cell_type": "code",
      "source": [
        "from flask import Flask, redirect, url_for\n",
        "\n",
        "app = Flask(__name__)\n",
        "\n",
        "@app.route('/')\n",
        "def home():\n",
        "    return 'Welcome to the Home Page!'\n",
        "\n",
        "@app.route('/go-to-about')\n",
        "def go_to_about():\n",
        "    return redirect(url_for('about'))\n",
        "\n",
        "@app.route('/about')\n",
        "def about():\n",
        "    return 'This is the About Page.'"
      ],
      "metadata": {
        "id": "xddTf3thBFji"
      },
      "execution_count": null,
      "outputs": []
    },
    {
      "cell_type": "markdown",
      "source": [
        "10)How do you handle errors in Flask (e.g., 404)?"
      ],
      "metadata": {
        "id": "aYBVmSmSBeTJ"
      }
    },
    {
      "cell_type": "code",
      "source": [
        "#html\n",
        "<!DOCTYPE html>\n",
        "<html>\n",
        "<head>\n",
        "    <title>Page Not Found</title>\n",
        "</head>\n",
        "<body>\n",
        "    <h1>Oops! 404 Error</h1>\n",
        "    <p>The page you're looking for doesn't exist.</p>\n",
        "    <a href=\"{{ url_for('home') }}\">Go back home</a>\n",
        "</body>\n",
        "</html>\n",
        "\n",
        "#Python code\n",
        "from flask import Flask, render_template\n",
        "\n",
        "app = Flask(__name__)\n",
        "\n",
        "@app.route('/')\n",
        "def home():\n",
        "    return 'Welcome to the homepage!'\n",
        "\n",
        "# Handle 404 errors\n",
        "@app.errorhandler(404)\n",
        "def page_not_found(e):\n",
        "    return render_template('404.html'), 404\n",
        "\n",
        "if __name__ == '__main__':\n",
        "    app.run(debug=True)"
      ],
      "metadata": {
        "id": "np42CdQVBhAB"
      },
      "execution_count": null,
      "outputs": []
    },
    {
      "cell_type": "markdown",
      "source": [
        "11) How do you structure a Flask app using Blueprints?"
      ],
      "metadata": {
        "id": "dFis5vRUB3Rg"
      }
    },
    {
      "cell_type": "code",
      "source": [
        "#Blueprint file\n",
        "from flask import Blueprint\n",
        "\n",
        "main = Blueprint('main', __name__)\n",
        "\n",
        "@main.route('/')\n",
        "def home():\n",
        "    return 'Hello from the Blueprint!'\n",
        "\n",
        "\n",
        "#Python file\n",
        "from flask import Flask\n",
        "from main import main  # Import the Blueprint\n",
        "\n",
        "app = Flask(__name__)\n",
        "app.register_blueprint(main)  # Register it\n",
        "\n",
        "if __name__ == '__main__':\n",
        "    app.run(debug=True)"
      ],
      "metadata": {
        "id": "bqaagr4TB6Eh"
      },
      "execution_count": null,
      "outputs": []
    },
    {
      "cell_type": "markdown",
      "source": [
        "12) How do you define a custom Jinja filter in Flask?"
      ],
      "metadata": {
        "id": "F0tVLf9uDlQS"
      }
    },
    {
      "cell_type": "code",
      "source": [
        "#html\n",
        "<!DOCTYPE html>\n",
        "<html>\n",
        "<body>\n",
        "    <p>Original: {{ name }}</p>\n",
        "    <p>Reversed: {{ name | reverse }}</p>\n",
        "</body>\n",
        "</html>\n",
        "\n",
        "#Python\n",
        "from flask import Flask, render_template\n",
        "\n",
        "app = Flask(__name__)\n",
        "\n",
        "def reverse_string(s):\n",
        "    return s[::-1]\n",
        "\n",
        "app.add_template_filter(reverse_string, 'reverse')\n",
        "\n",
        "@app.route('/')\n",
        "def home():\n",
        "    return render_template('index.html', name='Flask')\n",
        "\n",
        "if __name__ == '__main__':\n",
        "    app.run(debug=True)"
      ],
      "metadata": {
        "id": "hUgzgLvRDod8"
      },
      "execution_count": null,
      "outputs": []
    },
    {
      "cell_type": "markdown",
      "source": [
        "13)How can you redirect with query parameters in Flask?"
      ],
      "metadata": {
        "id": "FcIuThnQEk-8"
      }
    },
    {
      "cell_type": "code",
      "source": [
        "from flask import Flask, redirect, url_for, request\n",
        "\n",
        "app = Flask(__name__)\n",
        "\n",
        "@app.route('/')\n",
        "def home():\n",
        "    return 'Welcome to the homepage!'\n",
        "\n",
        "@app.route('/go')\n",
        "def go():\n",
        "    return redirect(url_for('hello', name='Dibyo'))\n",
        "\n",
        "@app.route('/hello')\n",
        "def hello():\n",
        "    name = request.args.get('name', 'Guest')\n",
        "    return f'Hello, {name}!'"
      ],
      "metadata": {
        "id": "VdRbHvoBEmgj"
      },
      "execution_count": null,
      "outputs": []
    },
    {
      "cell_type": "markdown",
      "source": [
        "14)How do you return JSON responses in Flask?"
      ],
      "metadata": {
        "id": "StFy7OzwE5NV"
      }
    },
    {
      "cell_type": "code",
      "source": [
        "from flask import Flask, jsonify\n",
        "\n",
        "app = Flask(__name__)\n",
        "\n",
        "@app.route('/api')\n",
        "def api():\n",
        "    data = {'message': 'Hello, JSON!'}\n",
        "    return jsonify(data)\n",
        "\n",
        "if __name__ == '__main__':\n",
        "    app.run(debug=True)"
      ],
      "metadata": {
        "id": "y7KVcj8qE8Oy"
      },
      "execution_count": null,
      "outputs": []
    },
    {
      "cell_type": "markdown",
      "source": [
        "15)How do you capture URL parameters in Flask?"
      ],
      "metadata": {
        "id": "8-LgvaqGFeRi"
      }
    },
    {
      "cell_type": "code",
      "source": [
        "from flask import Flask\n",
        "\n",
        "app = Flask(__name__)\n",
        "\n",
        "@app.route('/hello/<name>')\n",
        "def greet(name):\n",
        "    return f'Hello, {name}!'"
      ],
      "metadata": {
        "id": "lvV5vSQpFim7"
      },
      "execution_count": null,
      "outputs": []
    }
  ]
}