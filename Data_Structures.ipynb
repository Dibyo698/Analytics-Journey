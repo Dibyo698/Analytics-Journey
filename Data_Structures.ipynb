{
  "nbformat": 4,
  "nbformat_minor": 0,
  "metadata": {
    "colab": {
      "provenance": []
    },
    "kernelspec": {
      "name": "python3",
      "display_name": "Python 3"
    },
    "language_info": {
      "name": "python"
    }
  },
  "cells": [
    {
      "cell_type": "markdown",
      "source": [
        "#Data Type and Structures:"
      ],
      "metadata": {
        "id": "adrXkqyJM1OP"
      }
    },
    {
      "cell_type": "markdown",
      "source": [
        "1. What are data structures, and why are they important?\n",
        "  - Data Stuctures are the ways of storing and organising the Data.\n",
        "  -The proper data structure depends on the purpose we are storing it, for example , if we need to store data in unique element wise which can be mutable , then we use Sets. Whenever we need to store data in Immutable way, we can use Tuple.\n",
        "  - It helps searching & sorting operations during code run.\n",
        "\n",
        "2. Explain the difference between mutable and immutable data types with examples\n",
        "  - A mutable data type is one whose values can be changed. e.g:- Lists, Sets\n",
        "  - An immutable data type is one in which the values can't be changed or altered. e.g:- Tuple, String\n",
        "3. What are the main differences between lists and tuples in Python?\n",
        "  - Main difference is the mutability. Lists are Mutable, whereas Tuples are immutable.\n",
        "  - List is comparatively better in operations , e.g- Addition, Insertion, Deletion\n",
        "4. Describe how dictionaries store data.\n",
        "  - Dictionaries use Key: Value pair format to store data. To access the stored data, we need to refer the Key first.\n",
        "5. Why might you use a set instead of a list in Python?\n",
        "  - To get the Unique value as output we use Set.\n",
        "6. What is a string in Python, and how is it different from a list?\n",
        "  - In Python, String is a data type.\n",
        "  - The main difference is the Mutability. String is Immutable, lists are Mutable.\n",
        "7. How do tuples ensure data integrity in Python?\n",
        "  - Tuples are immutable and ordered. Unlike Lists, they cant be changed after their creation.\n",
        "8. What is a hash table, and how does it relate to dictionaries in Python?\n",
        "  -\n",
        "9. Can lists contain different data types in Python?\n",
        "  -Yes, it can store different data types be it Int, Float, Stirng, etc\n",
        "10. Explain why strings are immutable in Python.\n",
        "  -Because once we enter any Data inside Strings, we can only Replace\n",
        "11. What advantages do dictionaries offer over lists for certain tasks?\n",
        "  - Dictionaries keep data in Key: Value pairs, which is easy to Data retrieval with Unique keys\n",
        "  - Immutability is there into Dictionary , which is helpful for Data privacy, but Lists are Mutable.\n",
        "  - But the Order of collections is better in Lists\n",
        "12.  Describe a scenario where using a tuple would be preferable over a list.\n",
        "  - Tuple is Immutable , whereas Lists are Mutable. Such scenarios where change or updation of data is restricted there we use Tuples. e.g:- Unique Adhaar Number collection\n",
        "13. How do sets handle duplicate values in Python?\n",
        "  -Sets inherently handle the Duplicate data by showing only the Unique values as Output not repeating the same values.\n",
        "14. How does the “in” keyword work differently for lists and dictionaries?\n",
        "  - In Lists, the \"in\" keyword looks for the Value inside the list.\n",
        "  - In Dictionary, it searches for the Key instead of Value,, which is more feasible to search\n",
        "15. Can you modify the elements of a tuple? Explain why or why not\n",
        "  - No, if a Tuple is created , there could not be any updation later because Tuples are Immutable.\n",
        "16. What is a nested dictionary, and give an example of its use case\n",
        "  - Nested Dictionary is known as a dictionary whose Values are also a Dictionary\n",
        "17. Describe the time complexity of accessing elements in a dictionary\n",
        "  -\n",
        "18. In what situations are lists preferred over dictionaries?\n",
        "  - Lists are preferred where Ordered Data storage is required. and also where Homogenous data is stored\n",
        "19.  Why are dictionaries considered unordered, and how does that affect data retrieval?\n",
        "  - Dictionaries are Unordered as this data type keeps the Data in Key:Value method, so if we want to take out any particular Indexed data, we cannot find through Indexing, however we can find it through Key.\n",
        "20.  Explain the difference between a list and a dictionary in terms of data retrieval\n",
        "  - For data retrieval, Lists use the Indexing method to access any particular data, whereas in case of Dictionary , Key are used for finding any Value corresponding to the Key."
      ],
      "metadata": {
        "id": "_BE7VhN7NUI5"
      }
    },
    {
      "cell_type": "code",
      "execution_count": null,
      "metadata": {
        "id": "sq3-4f0WMoZW"
      },
      "outputs": [],
      "source": []
    },
    {
      "cell_type": "markdown",
      "source": [
        "1) Write a code to create a string with your name and print it"
      ],
      "metadata": {
        "id": "AziBNiTWqZaZ"
      }
    },
    {
      "cell_type": "code",
      "source": [
        "s=str(\"Dibyo\")\n",
        "s"
      ],
      "metadata": {
        "colab": {
          "base_uri": "https://localhost:8080/",
          "height": 35
        },
        "id": "ycI984YbqhId",
        "outputId": "cc38d16d-27c4-4d5a-9c73-f0257a1c3c44"
      },
      "execution_count": null,
      "outputs": [
        {
          "output_type": "execute_result",
          "data": {
            "text/plain": [
              "'Dibyo'"
            ],
            "application/vnd.google.colaboratory.intrinsic+json": {
              "type": "string"
            }
          },
          "metadata": {},
          "execution_count": 15
        }
      ]
    },
    {
      "cell_type": "markdown",
      "source": [
        "2)Write a code to find the length of the string \"Hello World\""
      ],
      "metadata": {
        "id": "XrmgQ1q87AYQ"
      }
    },
    {
      "cell_type": "code",
      "source": [
        "s=\"Hello World\"\n",
        "len(s)"
      ],
      "metadata": {
        "colab": {
          "base_uri": "https://localhost:8080/"
        },
        "id": "USb-Abnh7HrV",
        "outputId": "d866c5b2-8aef-44dd-ca3b-a16473edfb26"
      },
      "execution_count": null,
      "outputs": [
        {
          "output_type": "execute_result",
          "data": {
            "text/plain": [
              "11"
            ]
          },
          "metadata": {},
          "execution_count": 16
        }
      ]
    },
    {
      "cell_type": "markdown",
      "source": [
        "3) Write a code to slice the first 3 characters from the string \"Python Programming\""
      ],
      "metadata": {
        "id": "fxmawlHr8L3V"
      }
    },
    {
      "cell_type": "code",
      "source": [
        "s=\"Python Programming\"\n",
        "s[0:3]"
      ],
      "metadata": {
        "colab": {
          "base_uri": "https://localhost:8080/",
          "height": 35
        },
        "id": "V7jZfZyv8ZeM",
        "outputId": "e2b0d2e4-f121-4a3a-f568-2a8282a75fa4"
      },
      "execution_count": null,
      "outputs": [
        {
          "output_type": "execute_result",
          "data": {
            "text/plain": [
              "'Pyt'"
            ],
            "application/vnd.google.colaboratory.intrinsic+json": {
              "type": "string"
            }
          },
          "metadata": {},
          "execution_count": 19
        }
      ]
    },
    {
      "cell_type": "markdown",
      "source": [
        "4)Write a code to convert the string \"hello\" to uppercase"
      ],
      "metadata": {
        "id": "1tIMPUs4890i"
      }
    },
    {
      "cell_type": "code",
      "source": [
        "s=\"hello\"\n",
        "s.upper()\n"
      ],
      "metadata": {
        "colab": {
          "base_uri": "https://localhost:8080/",
          "height": 35
        },
        "id": "p1fpeHe39C4T",
        "outputId": "6efe1f53-5a5b-4261-865b-319aa6f0b6f1"
      },
      "execution_count": null,
      "outputs": [
        {
          "output_type": "execute_result",
          "data": {
            "text/plain": [
              "'HELLO'"
            ],
            "application/vnd.google.colaboratory.intrinsic+json": {
              "type": "string"
            }
          },
          "metadata": {},
          "execution_count": 27
        }
      ]
    },
    {
      "cell_type": "markdown",
      "source": [
        "5)Write a code to replace the word \"apple\" with \"orange\" in the string \"I like apple\""
      ],
      "metadata": {
        "id": "1Mzxg8qcAyoT"
      }
    },
    {
      "cell_type": "code",
      "source": [
        "s=\"I like apple\"\n",
        "s1=s.replace(\"apple\",\"orange\")\n",
        "s1"
      ],
      "metadata": {
        "id": "gOlnL7PnA31T",
        "colab": {
          "base_uri": "https://localhost:8080/",
          "height": 35
        },
        "outputId": "4374c731-5b24-4844-aa1c-8dc1888490e7"
      },
      "execution_count": null,
      "outputs": [
        {
          "output_type": "execute_result",
          "data": {
            "text/plain": [
              "'I like orange'"
            ],
            "application/vnd.google.colaboratory.intrinsic+json": {
              "type": "string"
            }
          },
          "metadata": {},
          "execution_count": 3
        }
      ]
    },
    {
      "cell_type": "markdown",
      "source": [
        "6)Write a code to create a list with numbers 1 to 5 and print it"
      ],
      "metadata": {
        "id": "GbxiJlE120CH"
      }
    },
    {
      "cell_type": "code",
      "source": [
        "n=5\n",
        "i=1\n",
        "list1=[]\n",
        "while (i<=n):\n",
        "  print(i,end=' ')  #I wanted to print the o/p in one line\n",
        "  list1.append(i)\n",
        "  i=i+1\n",
        "print(\"\\nOutput list:\",list1)"
      ],
      "metadata": {
        "colab": {
          "base_uri": "https://localhost:8080/"
        },
        "id": "j45zTgIT26km",
        "outputId": "58b38e40-9083-4628-ea9a-cff4a8610823"
      },
      "execution_count": 7,
      "outputs": [
        {
          "output_type": "stream",
          "name": "stdout",
          "text": [
            "1 2 3 4 5 \n",
            "Output list: [1, 2, 3, 4, 5]\n"
          ]
        }
      ]
    },
    {
      "cell_type": "markdown",
      "source": [
        "7)Write a code to append the number 10 to the list [1, 2, 3, 4]"
      ],
      "metadata": {
        "id": "5kN4yW6j6Mj_"
      }
    },
    {
      "cell_type": "code",
      "source": [
        "list1=[1,2,3,4]\n",
        "list1.append(10)\n",
        "list1"
      ],
      "metadata": {
        "colab": {
          "base_uri": "https://localhost:8080/"
        },
        "id": "yYdt6u2N6VE8",
        "outputId": "7e32f14b-0255-4208-f80e-df9249c64450"
      },
      "execution_count": null,
      "outputs": [
        {
          "output_type": "execute_result",
          "data": {
            "text/plain": [
              "[1, 2, 3, 4, 10]"
            ]
          },
          "metadata": {},
          "execution_count": 29
        }
      ]
    },
    {
      "cell_type": "markdown",
      "source": [
        "8)Write a code to remove the number 3 from the list [1, 2, 3, 4, 5]"
      ],
      "metadata": {
        "id": "SdtBnZXt-CqP"
      }
    },
    {
      "cell_type": "code",
      "source": [
        "list1=[1,2,3,4,5]\n",
        "list1.pop(2)   #If we use Remove(2),o/p will be [1,3,4,5], as Pop uses Index to remove, but Remove use the String match\n",
        "list1"
      ],
      "metadata": {
        "colab": {
          "base_uri": "https://localhost:8080/"
        },
        "id": "_NNa626W-HtO",
        "outputId": "9c250209-06f7-4e7b-d43c-e398bedc14a8"
      },
      "execution_count": null,
      "outputs": [
        {
          "output_type": "execute_result",
          "data": {
            "text/plain": [
              "[1, 2, 4, 5]"
            ]
          },
          "metadata": {},
          "execution_count": 43
        }
      ]
    },
    {
      "cell_type": "markdown",
      "source": [
        "9)Write a code to access the second element in the list ['a', 'b', 'c', 'd']"
      ],
      "metadata": {
        "id": "-NgkHyNN-nqh"
      }
    },
    {
      "cell_type": "code",
      "source": [
        "list1=['a', 'b', 'c', 'd']\n",
        "list1[1]"
      ],
      "metadata": {
        "colab": {
          "base_uri": "https://localhost:8080/",
          "height": 35
        },
        "id": "Auj7rR8G-uJN",
        "outputId": "fcc8b596-aac0-4504-c7ce-6d88fd203128"
      },
      "execution_count": null,
      "outputs": [
        {
          "output_type": "execute_result",
          "data": {
            "text/plain": [
              "'b'"
            ],
            "application/vnd.google.colaboratory.intrinsic+json": {
              "type": "string"
            }
          },
          "metadata": {},
          "execution_count": 33
        }
      ]
    },
    {
      "cell_type": "markdown",
      "source": [
        "10) Write a code to reverse the list [10, 20, 30, 40, 50]"
      ],
      "metadata": {
        "id": "WAiWD4V2_hde"
      }
    },
    {
      "cell_type": "code",
      "source": [
        "list1=[10, 20, 30, 40, 50]\n",
        "list1.reverse()\n",
        "list1"
      ],
      "metadata": {
        "id": "4LBI_Y05_mP4",
        "colab": {
          "base_uri": "https://localhost:8080/"
        },
        "outputId": "8eafe0ac-e369-43a7-9fce-6ed9d302f86b"
      },
      "execution_count": null,
      "outputs": [
        {
          "output_type": "execute_result",
          "data": {
            "text/plain": [
              "[50, 40, 30, 20, 10]"
            ]
          },
          "metadata": {},
          "execution_count": 1
        }
      ]
    },
    {
      "cell_type": "markdown",
      "source": [
        "11)Write a code to create a tuple with the elements 100, 200, 300 and print it."
      ],
      "metadata": {
        "id": "XTlObwqb8GCh"
      }
    },
    {
      "cell_type": "code",
      "source": [
        "t=(100,200,300)\n",
        "print(t,type(t))\n"
      ],
      "metadata": {
        "id": "5_CVhcVo8UU8",
        "colab": {
          "base_uri": "https://localhost:8080/"
        },
        "outputId": "da9112d7-b3c1-41ff-fc0b-ec17b2cd0d2b"
      },
      "execution_count": null,
      "outputs": [
        {
          "output_type": "stream",
          "name": "stdout",
          "text": [
            "(100, 200, 300) <class 'tuple'>\n"
          ]
        }
      ]
    },
    {
      "cell_type": "markdown",
      "source": [
        "12) Write a code to access the second-to-last element of the tuple ('red', 'green', 'blue', 'yellow')"
      ],
      "metadata": {
        "id": "4iC9XwEU32fi"
      }
    },
    {
      "cell_type": "code",
      "source": [
        "t=('red', 'green', 'blue', 'yellow')\n",
        "t[-2]"
      ],
      "metadata": {
        "colab": {
          "base_uri": "https://localhost:8080/",
          "height": 35
        },
        "id": "5BO6NZx337p6",
        "outputId": "0c47886b-0722-4cf2-9cf8-0ca940a33721"
      },
      "execution_count": null,
      "outputs": [
        {
          "output_type": "execute_result",
          "data": {
            "text/plain": [
              "'blue'"
            ],
            "application/vnd.google.colaboratory.intrinsic+json": {
              "type": "string"
            }
          },
          "metadata": {},
          "execution_count": 13
        }
      ]
    },
    {
      "cell_type": "markdown",
      "source": [
        "13) Write a code to find the minimum number in the tuple (10, 20, 5, 15)"
      ],
      "metadata": {
        "id": "GV88JG4f5CNM"
      }
    },
    {
      "cell_type": "code",
      "source": [
        "t=(10, 20, 5, 15)\n",
        "min(t)"
      ],
      "metadata": {
        "colab": {
          "base_uri": "https://localhost:8080/"
        },
        "id": "xI2pdGm25F5d",
        "outputId": "bd727f6b-605d-4005-8bc5-d6f95ec7e49a"
      },
      "execution_count": null,
      "outputs": [
        {
          "output_type": "execute_result",
          "data": {
            "text/plain": [
              "5"
            ]
          },
          "metadata": {},
          "execution_count": 16
        }
      ]
    },
    {
      "cell_type": "markdown",
      "source": [
        "14) Write a code to find the index of the element \"cat\" in the tuple ('dog', 'cat', 'rabbit')"
      ],
      "metadata": {
        "id": "PA2GUxgx5eNd"
      }
    },
    {
      "cell_type": "code",
      "source": [
        "t=('dog', 'cat', 'rabbit')\n",
        "t.index(\"cat\")"
      ],
      "metadata": {
        "colab": {
          "base_uri": "https://localhost:8080/"
        },
        "id": "O4d4Ofof5isI",
        "outputId": "30e72ce3-0153-4074-f23f-06326a0580f9"
      },
      "execution_count": null,
      "outputs": [
        {
          "output_type": "execute_result",
          "data": {
            "text/plain": [
              "1"
            ]
          },
          "metadata": {},
          "execution_count": 22
        }
      ]
    },
    {
      "cell_type": "markdown",
      "source": [
        "15) Write a code to create a tuple containing three different fruits and check if \"kiwi\" is in it."
      ],
      "metadata": {
        "id": "V3v51dT8QO5d"
      }
    },
    {
      "cell_type": "code",
      "source": [
        "t=(\"orange\",\"banana\",\"kiwi\")\n",
        "\"kiwi\" in t"
      ],
      "metadata": {
        "colab": {
          "base_uri": "https://localhost:8080/"
        },
        "id": "TkgQf7r8Q8en",
        "outputId": "2af42dc1-6b67-4195-ba68-6ce4f0e7e8b6"
      },
      "execution_count": null,
      "outputs": [
        {
          "output_type": "execute_result",
          "data": {
            "text/plain": [
              "True"
            ]
          },
          "metadata": {},
          "execution_count": 25
        }
      ]
    },
    {
      "cell_type": "markdown",
      "source": [
        "16) Write a code to create a set with the elements 'a', 'b', 'c' and print it."
      ],
      "metadata": {
        "id": "_fXXRcyGRpuv"
      }
    },
    {
      "cell_type": "code",
      "source": [
        "s={'a','b','c'}\n",
        "print(s, type(s))"
      ],
      "metadata": {
        "colab": {
          "base_uri": "https://localhost:8080/"
        },
        "id": "K8pr7vRcRubY",
        "outputId": "512202a3-0ed2-45d0-f4e9-216855e4feb1"
      },
      "execution_count": null,
      "outputs": [
        {
          "output_type": "stream",
          "name": "stdout",
          "text": [
            "{'c', 'a', 'b'} <class 'set'>\n"
          ]
        }
      ]
    },
    {
      "cell_type": "markdown",
      "source": [
        "17)Write a code to clear all elements from the set {1, 2, 3, 4, 5}."
      ],
      "metadata": {
        "id": "4stDMTUzSeGs"
      }
    },
    {
      "cell_type": "code",
      "source": [
        "s={'a','b','c'}\n",
        "s.clear()\n",
        "s"
      ],
      "metadata": {
        "colab": {
          "base_uri": "https://localhost:8080/"
        },
        "id": "XONRq6MESiEj",
        "outputId": "efbb9502-f639-4a67-fa41-899ba6e7cfd5"
      },
      "execution_count": null,
      "outputs": [
        {
          "output_type": "execute_result",
          "data": {
            "text/plain": [
              "set()"
            ]
          },
          "metadata": {},
          "execution_count": 33
        }
      ]
    },
    {
      "cell_type": "markdown",
      "source": [
        "18)Write a code to remove the element 4 from the set {1, 2, 3, 4}."
      ],
      "metadata": {
        "id": "kT6ocmSoS7g0"
      }
    },
    {
      "cell_type": "code",
      "source": [
        "s={1, 2, 3, 4}\n",
        "s.remove(4)\n",
        "s"
      ],
      "metadata": {
        "colab": {
          "base_uri": "https://localhost:8080/"
        },
        "id": "lpFcZJCXTIX0",
        "outputId": "1966482b-d0b4-492b-dd7c-d388cb97a60b"
      },
      "execution_count": null,
      "outputs": [
        {
          "output_type": "execute_result",
          "data": {
            "text/plain": [
              "{1, 2, 3}"
            ]
          },
          "metadata": {},
          "execution_count": 35
        }
      ]
    },
    {
      "cell_type": "markdown",
      "source": [
        "19) Write a code to find the union of two sets {1, 2, 3} and {3, 4, 5}"
      ],
      "metadata": {
        "id": "4z_zaSP4TZDM"
      }
    },
    {
      "cell_type": "code",
      "source": [
        "s1={1, 2, 3}\n",
        "s2= {3, 4, 5}\n",
        "s1|s2"
      ],
      "metadata": {
        "colab": {
          "base_uri": "https://localhost:8080/"
        },
        "id": "FJeU9_DYTciH",
        "outputId": "108c069d-f681-49ba-9f64-574017f9d167"
      },
      "execution_count": null,
      "outputs": [
        {
          "output_type": "execute_result",
          "data": {
            "text/plain": [
              "{1, 2, 3, 4, 5}"
            ]
          },
          "metadata": {},
          "execution_count": 36
        }
      ]
    },
    {
      "cell_type": "markdown",
      "source": [
        "20)Write a code to find the intersection of two sets {1, 2, 3} and {2, 3, 4}"
      ],
      "metadata": {
        "id": "5dXpQMfGTt6w"
      }
    },
    {
      "cell_type": "code",
      "source": [
        "s1= {1, 2, 3}\n",
        "s2={2, 3, 4}\n",
        "s1&s2"
      ],
      "metadata": {
        "colab": {
          "base_uri": "https://localhost:8080/"
        },
        "id": "34MizlSyTxkx",
        "outputId": "b7260972-b350-4985-ef37-e4f211731272"
      },
      "execution_count": null,
      "outputs": [
        {
          "output_type": "execute_result",
          "data": {
            "text/plain": [
              "{2, 3}"
            ]
          },
          "metadata": {},
          "execution_count": 37
        }
      ]
    },
    {
      "cell_type": "markdown",
      "source": [
        "21)Write a code to create a dictionary with the keys \"name\", \"age\", and \"city\", and print it"
      ],
      "metadata": {
        "id": "rHFeXcmXUDyC"
      }
    },
    {
      "cell_type": "code",
      "source": [
        "dict= {\n",
        "    \"name\":\"Dibyo\",\n",
        "    \"age\":29,\n",
        "    \"city\":\"Kolkata\"\n",
        "    }\n",
        "for key, value in dict.items():  #modified the code to print the o/p in new line\n",
        "  print(f\"{key}:{value}\")"
      ],
      "metadata": {
        "colab": {
          "base_uri": "https://localhost:8080/"
        },
        "id": "uZuc1zsJUKu3",
        "outputId": "e3592ff6-03fb-4c7c-e6ff-7e89c4f2a33e"
      },
      "execution_count": null,
      "outputs": [
        {
          "output_type": "stream",
          "name": "stdout",
          "text": [
            "name:Dibyo\n",
            "age:29\n",
            "city:Kolkata\n"
          ]
        }
      ]
    },
    {
      "cell_type": "markdown",
      "source": [
        "22) Write a code to add a new key-value pair \"country\": \"USA\" to the dictionary {'name': 'John', 'age': 25}."
      ],
      "metadata": {
        "id": "aBz2FPL_Jupx"
      }
    },
    {
      "cell_type": "code",
      "source": [
        "dict={'name1':\"John\",\n",
        "      'age':25}\n",
        "dict['country']='USA'\n",
        "dict"
      ],
      "metadata": {
        "colab": {
          "base_uri": "https://localhost:8080/"
        },
        "id": "a8PmlJkFLdMV",
        "outputId": "986a4eb4-b39c-4d4d-c3be-5749129e041f"
      },
      "execution_count": null,
      "outputs": [
        {
          "output_type": "execute_result",
          "data": {
            "text/plain": [
              "{'name1': 'John', 'age': 25, 'country': 'USA'}"
            ]
          },
          "metadata": {},
          "execution_count": 9
        }
      ]
    },
    {
      "cell_type": "markdown",
      "source": [
        "23) Write a code to access the value associated with the key \"name\" in the dictionary {'name': 'Alice', 'age': 30}."
      ],
      "metadata": {
        "id": "GPxayNBPL--q"
      }
    },
    {
      "cell_type": "code",
      "source": [
        "dict={'name': 'Alice', 'age': 30}\n",
        "d=dict['name']\n",
        "d"
      ],
      "metadata": {
        "colab": {
          "base_uri": "https://localhost:8080/",
          "height": 35
        },
        "id": "P23feECMiR5x",
        "outputId": "f5fed88c-99e0-4c06-954e-2b69ab3cb4f3"
      },
      "execution_count": null,
      "outputs": [
        {
          "output_type": "execute_result",
          "data": {
            "text/plain": [
              "'Alice'"
            ],
            "application/vnd.google.colaboratory.intrinsic+json": {
              "type": "string"
            }
          },
          "metadata": {},
          "execution_count": 1
        }
      ]
    },
    {
      "cell_type": "markdown",
      "source": [
        "24)Write a code to remove the key \"age\" from the dictionary {'name': 'Bob', 'age': 22, 'city': 'New York'}."
      ],
      "metadata": {
        "id": "7y6CkdamihvG"
      }
    },
    {
      "cell_type": "code",
      "source": [
        "dict={'name': 'Bob', 'age': 22, 'city': 'New York'}\n",
        "dict.pop('age')\n",
        "dict"
      ],
      "metadata": {
        "colab": {
          "base_uri": "https://localhost:8080/"
        },
        "id": "wPA3Oq-wmCCr",
        "outputId": "f5149133-2f76-47e3-d7ac-43f829cd3d2c"
      },
      "execution_count": null,
      "outputs": [
        {
          "output_type": "execute_result",
          "data": {
            "text/plain": [
              "{'name': 'Bob', 'city': 'New York'}"
            ]
          },
          "metadata": {},
          "execution_count": 3
        }
      ]
    },
    {
      "cell_type": "markdown",
      "source": [
        "25) Write a code to check if the key \"city\" exists in the dictionary {'name': 'Alice', 'city': 'Paris'}"
      ],
      "metadata": {
        "id": "xmBJO9Rdez5X"
      }
    },
    {
      "cell_type": "code",
      "source": [
        "dict={'name': 'Alice', 'city': 'Paris'}\n",
        "if 'city' in dict:\n",
        "  print(\"True\")\n",
        "else:\n",
        "    print(\"false\")\n"
      ],
      "metadata": {
        "colab": {
          "base_uri": "https://localhost:8080/"
        },
        "id": "3I7cWEbTe35O",
        "outputId": "c6efdb74-d5e8-438a-87fa-70653d239117"
      },
      "execution_count": null,
      "outputs": [
        {
          "output_type": "stream",
          "name": "stdout",
          "text": [
            "True\n"
          ]
        }
      ]
    },
    {
      "cell_type": "markdown",
      "source": [
        "26) Write a code to create a list, a tuple, and a dictionary, and print them all"
      ],
      "metadata": {
        "id": "2G8pUH7XgRrH"
      }
    },
    {
      "cell_type": "code",
      "source": [
        "list1=[10,20,30]\n",
        "t1=(20,3,9)\n",
        "dict1={'name': 'Alice', 'city': 'Paris'}\n",
        "print(\"List is\",\">>\",list1)\n",
        "print(\"Tuple is\",\">>\",t1)\n",
        "print(\"Dictionary is\",\">>\",dict1)"
      ],
      "metadata": {
        "colab": {
          "base_uri": "https://localhost:8080/"
        },
        "id": "Pu4qdYwhgXG1",
        "outputId": "ccd2f896-2622-4e38-c96d-9b91ad168866"
      },
      "execution_count": null,
      "outputs": [
        {
          "output_type": "stream",
          "name": "stdout",
          "text": [
            "List is >> [10, 20, 30]\n",
            "Tuple is >> (20, 3, 9)\n",
            "Dictionary is >> {'name': 'Alice', 'city': 'Paris'}\n"
          ]
        }
      ]
    },
    {
      "cell_type": "markdown",
      "source": [
        "27) Write a code to create a list of 5 random numbers between 1 and 100, sort it in ascending order, and print the result(replaced)"
      ],
      "metadata": {
        "id": "PP38CpK5hbj1"
      }
    },
    {
      "cell_type": "code",
      "source": [
        "number= int(input(\"Please enter a number: \"))\n",
        "number.sort()     #How to take Random number? How to take multiple Random Input at once?\n"
      ],
      "metadata": {
        "colab": {
          "base_uri": "https://localhost:8080/",
          "height": 176
        },
        "id": "wlZRuSBShnov",
        "outputId": "d7b5c5df-f604-45cb-d64e-4fae3aecfd58"
      },
      "execution_count": 8,
      "outputs": [
        {
          "name": "stdout",
          "output_type": "stream",
          "text": [
            "Please enter a number: 56\n"
          ]
        },
        {
          "output_type": "error",
          "ename": "AttributeError",
          "evalue": "'int' object has no attribute 'sort'",
          "traceback": [
            "\u001b[0;31m---------------------------------------------------------------------------\u001b[0m",
            "\u001b[0;31mAttributeError\u001b[0m                            Traceback (most recent call last)",
            "\u001b[0;32m<ipython-input-8-ce5080239bbd>\u001b[0m in \u001b[0;36m<cell line: 0>\u001b[0;34m()\u001b[0m\n\u001b[1;32m      1\u001b[0m \u001b[0mnumber\u001b[0m\u001b[0;34m=\u001b[0m \u001b[0mint\u001b[0m\u001b[0;34m(\u001b[0m\u001b[0minput\u001b[0m\u001b[0;34m(\u001b[0m\u001b[0;34m\"Please enter a number: \"\u001b[0m\u001b[0;34m)\u001b[0m\u001b[0;34m)\u001b[0m\u001b[0;34m\u001b[0m\u001b[0;34m\u001b[0m\u001b[0m\n\u001b[0;32m----> 2\u001b[0;31m \u001b[0mnumber\u001b[0m\u001b[0;34m.\u001b[0m\u001b[0msort\u001b[0m\u001b[0;34m(\u001b[0m\u001b[0;34m)\u001b[0m     \u001b[0;31m#How to take Random number? How to take multiple Random Input at once?\u001b[0m\u001b[0;34m\u001b[0m\u001b[0;34m\u001b[0m\u001b[0m\n\u001b[0m",
            "\u001b[0;31mAttributeError\u001b[0m: 'int' object has no attribute 'sort'"
          ]
        }
      ]
    },
    {
      "cell_type": "markdown",
      "source": [
        "28) Write a code to create a list with strings and print the element at the third index."
      ],
      "metadata": {
        "id": "U6qe-fe0krff"
      }
    },
    {
      "cell_type": "code",
      "source": [
        "list1=['apple','banana','cherry','mango','orange']\n",
        "list1[3]"
      ],
      "metadata": {
        "colab": {
          "base_uri": "https://localhost:8080/",
          "height": 35
        },
        "id": "6NszRThSkwu-",
        "outputId": "09f889fb-85f8-46c4-f1b0-867e3a770ad7"
      },
      "execution_count": null,
      "outputs": [
        {
          "output_type": "execute_result",
          "data": {
            "text/plain": [
              "'mango'"
            ],
            "application/vnd.google.colaboratory.intrinsic+json": {
              "type": "string"
            }
          },
          "metadata": {},
          "execution_count": 18
        }
      ]
    },
    {
      "cell_type": "markdown",
      "source": [
        "29) Write a code to combine two dictionaries into one and print the result"
      ],
      "metadata": {
        "id": "4tBSMJgOmfaK"
      }
    },
    {
      "cell_type": "code",
      "source": [
        "from typing import Concatenate\n",
        "dict1={'key1':1}\n",
        "dict2={'key1':3}\n",
        "\n",
        "d=dict1 | dict2    #unpacking dict is not known\n",
        "print(d)"
      ],
      "metadata": {
        "colab": {
          "base_uri": "https://localhost:8080/"
        },
        "id": "uWLXZ0HPmi5n",
        "outputId": "6b7d0b7d-624e-43d3-bdce-a3eab400aa7b"
      },
      "execution_count": null,
      "outputs": [
        {
          "output_type": "stream",
          "name": "stdout",
          "text": [
            "{'key1': 3}\n"
          ]
        }
      ]
    },
    {
      "cell_type": "markdown",
      "source": [
        "30) Write a code to convert a list of strings into a set."
      ],
      "metadata": {
        "id": "6AFRctSB-xJ3"
      }
    },
    {
      "cell_type": "code",
      "source": [
        "list1=['apple','banana','mango']\n",
        "set1=set(list1)\n",
        "set1"
      ],
      "metadata": {
        "colab": {
          "base_uri": "https://localhost:8080/"
        },
        "id": "n0DYiNEe-1vW",
        "outputId": "6bd21b21-fc9d-486a-8630-85de5ee3a806"
      },
      "execution_count": null,
      "outputs": [
        {
          "output_type": "execute_result",
          "data": {
            "text/plain": [
              "{'apple', 'banana', 'mango'}"
            ]
          },
          "metadata": {},
          "execution_count": 13
        }
      ]
    },
    {
      "cell_type": "markdown",
      "source": [],
      "metadata": {
        "id": "KYvlH-778LtQ"
      }
    }
  ]
}