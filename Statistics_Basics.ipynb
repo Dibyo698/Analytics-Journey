{
  "nbformat": 4,
  "nbformat_minor": 0,
  "metadata": {
    "colab": {
      "provenance": []
    },
    "kernelspec": {
      "name": "python3",
      "display_name": "Python 3"
    },
    "language_info": {
      "name": "python"
    }
  },
  "cells": [
    {
      "cell_type": "markdown",
      "source": [
        "#Statistics Basics"
      ],
      "metadata": {
        "id": "7xRwjzxGP8um"
      }
    },
    {
      "cell_type": "markdown",
      "source": [
        "1)What is statistics, and why is it important?\n",
        ">Statistics is a branch of mathematics focused on the collection, organization, analysis, interpretation, and presentation of data.It provides methods for gathering data, describing its main features, and drawing conclusions or making predictions about a larger population based on a sample.\n",
        "> It is important - Informed Decision-Making, Understanding Trends and Patterns, etc\n",
        "\n",
        "2) What are the two main types of statistics?\n",
        ">Descriptive Statistics:\n",
        "Inferential Statistics:\n",
        "\n",
        "3)What are descriptive statistics?\n",
        ">Summarizes and describes the features of a dataset using measures like mean, median, mode, and standard deviation, as well as visual tools like graphs and tables.\n",
        "\n",
        "4)What is inferential statistics?\n",
        "> Uses data from a sample to make inferences or predictions about a larger population, often involving probability and hypothesis testing.\n",
        "\n",
        "5) What is sampling in statistics?\n",
        "> Sampling in statistics is the process of selecting a subset (called a sample) from a larger group (the population) to analyze and draw conclusions about the whole group. Instead of collecting data from every member of a population—which is often impractical or impossible—researchers study a smaller, manageable group that is intended to be representative of the population.\n",
        "\n",
        "6)What are the different types of sampling methods?\n",
        ">Sampling broadly classified into two categories: probability sampling and non-probability sampling.\n",
        ">Probability Sampling- Simple Random Sampling,Systematic Sampling,Stratified Sampling,Cluster Sampling\n",
        ">Non-probability sampling- Convenience Sampling,Judgmental Sampling,Snowball Sampling, etc\n",
        "\n",
        "7) What is the difference between random and non-random sampling?\n",
        ">Random sampling ensures each population member has an equal chance of selection, leading to unbiased statistical conclusions. Non-random sampling selects participants based on convenience or judgment, which can introduce bias results\n",
        "\n",
        "8)Define and give examples of qualitative and quantitative data.\n",
        ">Qualitative data describes qualities or characteristics and is typically non-numerical. It is used to categorize, label, or describe attributes, properties, or phenomena .\n",
        ">> e.g:-- Colors of cars in a parking lot (red, blue, black).\n",
        "- Customer feedback like “the service was excellent.”\n",
        "\n",
        ">Quantitative data is numerical and measures quantities, amounts, or ranges. It is countable or measurable and is used for statistical analysis.\n",
        ">> e.g:- Height, weight, length, or temperature (e.g., 170 cm, 65 kg, 30°C)\n",
        "- Age (e.g., 25 years)\n",
        "\n",
        "9) What are the different types of data in statistics?\n",
        ">- Nominal Data\n",
        "- Ordinal Data\n",
        "- Interval Data\n",
        "- Ratio Data\n",
        "\n",
        "10)Explain nominal, ordinal, interval, and ratio levels of measurement.\n",
        ">- Nominal Data – Categories without order\n",
        "Examples: Eye color, nationality, types of fruits\n",
        "- Ordinal Data – Categories with a meaningful order\n",
        "Examples: Movie ratings (★ to ★★★★★), education levels\n",
        "- Interval Data – Numeric data with equal intervals, no true zero\n",
        "Examples: Temperature in Celsius, time of day\n",
        "- Ratio Data – Numeric data with a true zero point\n",
        "Examples: Height, weight, age, income\n",
        "\n",
        "11) What is the measure of central tendency?\n",
        ">Measure of central tendency is a statistical term that refers to a single value that aims to describe a set of data by identifying the central position within that dataset.\n",
        "\n",
        "12) Define mean, median, and mode\n",
        ">- Mean – The arithmetic average of all values.\n",
        "Example: The mean of 2, 4, and 6 is (2+4+6)/3 = 4.\n",
        "- Median – The middle value when the data is arranged in order.\n",
        "Example: The median of 3, 5, 7 is 5. If the dataset is even-sized, it's the average of the two middle values.\n",
        "- Mode – The value that appears most frequently.\n",
        "Example: In 2, 3, 3, 5, 7, the mode is 3.\n",
        "\n",
        "13)What is the significance of the measure of central tendency\n",
        ">It's important because it gives us one number to understand the data better. Like the score most students got in a test, or the usual temperature in a week\n",
        "\n",
        "14)What is variance, and how is it calculated?\n",
        ">Variance is a measure of how spread out or dispersed the values in a dataset are from the mean (average). It tells us whether the data points tend to be close to the mean or far from it.\n",
        "\n",
        "-Find the Mean (Average)\n",
        "-Subtract the Mean from Each Number\n",
        "-Square Each Deviation\n",
        "-Add All the Squared Deviations\n",
        "-Divide- - For population variance: divide by the total number of values (n).\n",
        "- For sample variance: divide by one less than the total number (n - 1).\n",
        "\n",
        "15)What is standard deviation, and why is it important?\n",
        ">Standard deviation is a statistical measure that quantifies the amount of variation or dispersion in a set of values relative to their mean or average\n",
        ">Standard deviation is important because it provides a clear measure of how much data points in a dataset vary from the mean, which is essential for understanding the consistency and reliability of data.\n",
        "\n",
        "16)Define and explain the term range in statistics.\n",
        ">In statistics, range is one of the simplest measures of how spread out a dataset is. It’s defined as the difference between the highest and lowest values in a dataset\n",
        "\n",
        "17) What is the difference between variance and standard deviation?\n",
        ">Variance quantifies how much the values in a dataset differ from the mean by averaging the squared differences. Because it uses squared units, it can be less intuitive to interpret directly\n",
        ">Standard deviation is the square root of the variance, bringing the measure back to the original units of the data, which makes it easier to understand and compare with the mean or other data values\n",
        "\n",
        "18)What is skewness in a dataset?\n",
        ">Skewness is a statistical measure that describes the asymmetry of a dataset’s distribution around its mean. It indicates whether the data points are more concentrated on one side of the mean.\n",
        "\n",
        "19)What does it mean if a dataset is positively or negatively skewed?\n",
        ">When a dataset is positively or negatively skewed, it means the data isn’t symmetrically distributed—it leans to one side, creating a “tail” in that direction.\n",
        "\n",
        "20)Define and explain kurtosis.\n",
        ">Kurtosis is a statistical measure that describes the \"tailedness\" of a data distribution—basically, how heavy or light the tails are compared to a normal distribution.\n",
        ">Kurtosis helps us understand how likely our data is to produce outliers—those extreme values far from the average.\n",
        "\n",
        "21)What is the purpose of covariance?\n",
        ">The purpose of covariance is to measure how two variables change together—that is, whether increases or decreases in one variable tend to be associated with increases or decreases in another variable.\n",
        "\n",
        "22)What does correlation measure in statistics?\n",
        ">In statistics, correlation measures the strength and direction of a relationship between two variables. It tells you whether, and how strongly, changes in one variable are associated with changes in another.\n",
        "\n",
        "23)What is the difference between covariance and correlation?\n",
        ">Covariance shows whether two variables move together (direction), but its value depends on the units and isn’t easy to compare.\n",
        "\n",
        "Correlation shows both the direction and strength of the relationship, always ranges from -1 to 1, and is easy to compare because it has no units.\n",
        "\n",
        "24)What are some real-world applications of statistics?\n",
        ">Weather forecasting\n",
        "\n",
        "Medical research and healthcare\n",
        "\n",
        "Business planning and market research\n",
        "\n",
        "Education analysis\n",
        "\n",
        "Finance and investing etc.\n",
        "\n",
        "\n",
        "\n",
        "\n",
        "\n",
        "\n"
      ],
      "metadata": {
        "id": "Xxrk8XfxQAKp"
      }
    },
    {
      "cell_type": "markdown",
      "source": [
        "#Practical Questions:-"
      ],
      "metadata": {
        "id": "Y4cHhxVfW1x0"
      }
    },
    {
      "cell_type": "markdown",
      "source": [
        "1) How do you calculate the mean, median, and mode of a dataset?"
      ],
      "metadata": {
        "id": "UgYaf-QPW8pG"
      }
    },
    {
      "cell_type": "code",
      "execution_count": null,
      "metadata": {
        "id": "eV0zrmM4P442",
        "colab": {
          "base_uri": "https://localhost:8080/"
        },
        "outputId": "57a69921-f7d4-4ed1-bdf4-5e0cf4d0af6f"
      },
      "outputs": [
        {
          "output_type": "stream",
          "name": "stdout",
          "text": [
            "Mean: 5.428571428571429\n",
            "Median: 4\n",
            "Mode: 4\n"
          ]
        }
      ],
      "source": [
        "import statistics\n",
        "\n",
        "data = [2, 4, 6, 4, 8, 10, 4]\n",
        "\n",
        "mean = statistics.mean(data)\n",
        "median = statistics.median(data)\n",
        "mode = statistics.mode(data)\n",
        "\n",
        "print(\"Mean:\", mean)\n",
        "print(\"Median:\", median)\n",
        "print(\"Mode:\", mode)"
      ]
    },
    {
      "cell_type": "markdown",
      "source": [
        "2)Write a Python program to compute the variance and standard deviation of a dataset."
      ],
      "metadata": {
        "id": "OX4S_Mljct7K"
      }
    },
    {
      "cell_type": "code",
      "source": [
        "import numpy as np\n",
        "\n",
        "data = [10, 12, 23, 23, 16, 23, 21, 16]\n",
        "\n",
        "variance = np.var(data)\n",
        "stddev = np.std(data)\n",
        "\n",
        "print(\"Variance:\", variance)\n",
        "print(\"Standard Deviation:\", stddev)"
      ],
      "metadata": {
        "id": "AQR8JLtJaW0L",
        "colab": {
          "base_uri": "https://localhost:8080/"
        },
        "outputId": "e0ab77b2-e275-463e-8e2d-e5a7cb000c75"
      },
      "execution_count": null,
      "outputs": [
        {
          "output_type": "stream",
          "name": "stdout",
          "text": [
            "Variance: 24.0\n",
            "Standard Deviation: 4.898979485566356\n"
          ]
        }
      ]
    },
    {
      "cell_type": "markdown",
      "source": [
        "3)Create a dataset and classify it into nominal, ordinal, interval, and ratio types."
      ],
      "metadata": {
        "id": "tI_GwxoQI0pu"
      }
    },
    {
      "cell_type": "code",
      "source": [
        "import pandas as pd\n",
        "\n",
        "data = {\n",
        "    'Color': ['Red', 'Blue', 'Green', 'Blue', 'Red'],\n",
        "    'Size': ['Small', 'Medium', 'Large', 'Small', 'Large'],\n",
        "    'Score': [10, 20, 15, 18, 12],\n",
        "    'Age': [5, 7, 6, 8, 4]\n",
        "}\n",
        "\n",
        "df = pd.DataFrame(data)\n",
        "print(df)\n",
        "\n",
        "classification = {\n",
        "    'Color': 'Nominal',\n",
        "    'Size': 'Ordinal',\n",
        "    'Score': 'Interval',\n",
        "    'Age': 'Ratio'\n",
        "}\n",
        "\n",
        "print(\"\\nColumn Classification:\")\n",
        "for col, dtype in classification.items():\n",
        "    print(f\"{col}: {dtype}\")\n"
      ],
      "metadata": {
        "colab": {
          "base_uri": "https://localhost:8080/"
        },
        "id": "L75qP9xPIstA",
        "outputId": "31e2a870-c4c0-4fe3-b5e7-d163aa2374a4"
      },
      "execution_count": null,
      "outputs": [
        {
          "output_type": "stream",
          "name": "stdout",
          "text": [
            "   Color    Size  Score  Age\n",
            "0    Red   Small     10    5\n",
            "1   Blue  Medium     20    7\n",
            "2  Green   Large     15    6\n",
            "3   Blue   Small     18    8\n",
            "4    Red   Large     12    4\n",
            "\n",
            "Column Classification:\n",
            "Color: Nominal\n",
            "Size: Ordinal\n",
            "Score: Interval\n",
            "Age: Ratio\n"
          ]
        }
      ]
    },
    {
      "cell_type": "markdown",
      "source": [
        "4)Implement sampling techniques like random sampling and stratified sampling."
      ],
      "metadata": {
        "id": "HnnMJEbSK3D_"
      }
    },
    {
      "cell_type": "code",
      "source": [
        "import pandas as pd\n",
        "data = {\n",
        "    'ID': range(1, 11),\n",
        "    'Age': [23, 45, 31, 22, 26, 37, 29, 41, 33, 24]\n",
        "}\n",
        "df = pd.DataFrame(data)\n",
        "\n",
        "# Random sampling (e.g. 30% of the data)\n",
        "random_sample = df.sample(frac=0.3, random_state=1)\n",
        "\n",
        "print(\"Random Sample:\\n\", random_sample)"
      ],
      "metadata": {
        "colab": {
          "base_uri": "https://localhost:8080/"
        },
        "id": "Mqe1eEjKJ0zB",
        "outputId": "95455e57-3cd0-40f8-b9d0-f8754ddd98db"
      },
      "execution_count": null,
      "outputs": [
        {
          "output_type": "stream",
          "name": "stdout",
          "text": [
            "Random Sample:\n",
            "    ID  Age\n",
            "2   3   31\n",
            "9  10   24\n",
            "6   7   29\n"
          ]
        }
      ]
    },
    {
      "cell_type": "code",
      "source": [
        "import pandas as pd\n",
        "data = {\n",
        "    'Name': ['Alice', 'Bob', 'Charlie', 'David', 'Eva', 'Frank'],\n",
        "    'Group': ['A', 'A', 'B', 'B', 'B', 'A']\n",
        "}\n",
        "df = pd.DataFrame(data)\n",
        "\n",
        "# Stratified sampling: sample 1 row from each group\n",
        "stratified_sample = df.groupby('Group', group_keys=False).apply(lambda x: x.sample(n=1, random_state=1))\n",
        "\n",
        "print(stratified_sample)\n"
      ],
      "metadata": {
        "colab": {
          "base_uri": "https://localhost:8080/"
        },
        "id": "8-o50uzBMC2z",
        "outputId": "c1e52ea3-1f11-4a98-d19c-b1818b6d1840"
      },
      "execution_count": null,
      "outputs": [
        {
          "output_type": "stream",
          "name": "stdout",
          "text": [
            "      Name Group\n",
            "0    Alice     A\n",
            "2  Charlie     B\n"
          ]
        },
        {
          "output_type": "stream",
          "name": "stderr",
          "text": [
            "/tmp/ipython-input-11-2868207902.py:9: DeprecationWarning: DataFrameGroupBy.apply operated on the grouping columns. This behavior is deprecated, and in a future version of pandas the grouping columns will be excluded from the operation. Either pass `include_groups=False` to exclude the groupings or explicitly select the grouping columns after groupby to silence this warning.\n",
            "  stratified_sample = df.groupby('Group', group_keys=False).apply(lambda x: x.sample(n=1, random_state=1))\n"
          ]
        }
      ]
    },
    {
      "cell_type": "markdown",
      "source": [
        "5) Write a Python function to calculate the range of a dataset."
      ],
      "metadata": {
        "id": "ts4tFuPRNIOL"
      }
    },
    {
      "cell_type": "code",
      "source": [
        "def range(data):\n",
        "    return max(data) - min(data)\n",
        "\n",
        "numbers = [4, 7, 1, 9, 3]\n",
        "print(\"Range:\", range(numbers))"
      ],
      "metadata": {
        "colab": {
          "base_uri": "https://localhost:8080/"
        },
        "id": "oikAc5TJL8Hj",
        "outputId": "b7955207-d60a-4ab3-95f1-26e888b35979"
      },
      "execution_count": null,
      "outputs": [
        {
          "output_type": "stream",
          "name": "stdout",
          "text": [
            "Range: 8\n"
          ]
        }
      ]
    },
    {
      "cell_type": "markdown",
      "source": [
        "6) Create a dataset and plot its histogram to visualize skewness."
      ],
      "metadata": {
        "id": "XFEJ1HXLNpnF"
      }
    },
    {
      "cell_type": "code",
      "source": [
        "import pandas as pd\n",
        "import matplotlib.pyplot as plt\n",
        "\n",
        "# simple dataset with visible skewness\n",
        "data = {'values': [1, 2, 2, 3, 3, 3, 4, 4, 5, 10, 15, 20]}\n",
        "df = pd.DataFrame(data)\n",
        "\n",
        "# histogram\n",
        "plt.hist(df['values'], bins=10, edgecolor='black')\n",
        "plt.title('Histogram Example')\n",
        "plt.xlabel('Value')\n",
        "plt.ylabel('Frequency')\n",
        "plt.show()"
      ],
      "metadata": {
        "colab": {
          "base_uri": "https://localhost:8080/",
          "height": 472
        },
        "id": "NPCJkgllNjFH",
        "outputId": "2ed323cf-7e95-4b85-c586-4f064bec8391"
      },
      "execution_count": null,
      "outputs": [
        {
          "output_type": "display_data",
          "data": {
            "text/plain": [
              "<Figure size 640x480 with 1 Axes>"
            ],
            "image/png": "[encoded data removed]"
          },
          "metadata": {}
        }
      ]
    },
    {
      "cell_type": "markdown",
      "source": [
        "7)Calculate skewness and kurtosis of a dataset using Python libraries."
      ],
      "metadata": {
        "id": "Gdxf62quOn7u"
      }
    },
    {
      "cell_type": "code",
      "source": [
        "import numpy as np\n",
        "from scipy.stats import skew, kurtosis\n",
        "\n",
        "data = [2, 4, 4, 5, 7, 9, 10, 10, 12, 15]\n",
        "\n",
        "# Calculate skewness\n",
        "data_skewness = skew(data)\n",
        "\n",
        "# Calculate kurtosis\n",
        "data_kurtosis = kurtosis(data)\n",
        "\n",
        "print(f\"Dataset: {data}\")\n",
        "print(f\"Skewness: {data_skewness:.2f}\")\n",
        "print(f\"Kurtosis: {data_kurtosis:.2f}\")"
      ],
      "metadata": {
        "colab": {
          "base_uri": "https://localhost:8080/"
        },
        "id": "N0csJKk6OWsn",
        "outputId": "8d6ef28f-e38d-4a66-e9c6-ef791e6d1eed"
      },
      "execution_count": null,
      "outputs": [
        {
          "output_type": "stream",
          "name": "stdout",
          "text": [
            "Dataset: [2, 4, 4, 5, 7, 9, 10, 10, 12, 15]\n",
            "Skewness: 0.24\n",
            "Kurtosis: -0.97\n"
          ]
        }
      ]
    },
    {
      "cell_type": "markdown",
      "source": [
        "8) Generate a dataset and demonstrate positive and negative skewness."
      ],
      "metadata": {
        "id": "u3QhTJxZPvFe"
      }
    },
    {
      "cell_type": "code",
      "source": [
        "import numpy as np\n",
        "import matplotlib.pyplot as plt\n",
        "from scipy.stats import skew\n",
        "\n",
        "# Positive skew: most values are small, a few are large\n",
        "positive_skew = [1, 2, 2, 3, 3, 4, 5, 8, 12, 20]\n",
        "\n",
        "# Negative skew: most values are large, a few are small\n",
        "negative_skew = [20, 18, 17, 15, 14, 12, 10, 7, 3, 1]\n",
        "\n",
        "# histograms\n",
        "plt.figure(figsize=(10, 4))\n",
        "\n",
        "plt.subplot(1, 2, 1)\n",
        "plt.hist(positive_skew, bins=5, color='skyblue', edgecolor='black')\n",
        "plt.title('Positive Skew')\n",
        "plt.xlabel('Value')\n",
        "plt.ylabel('Frequency')\n",
        "\n",
        "plt.subplot(1, 2, 2)\n",
        "plt.hist(negative_skew, bins=5, color='salmon', edgecolor='black')\n",
        "plt.title('Negative Skew')\n",
        "plt.xlabel('Value')\n",
        "plt.ylabel('Frequency')\n",
        "\n",
        "plt.tight_layout()\n",
        "plt.show()\n",
        "\n",
        "print(\"Skewness of positive skew dataset:\", skew(positive_skew))\n",
        "print(\"Skewness of negative skew dataset:\", skew(negative_skew))\n"
      ],
      "metadata": {
        "colab": {
          "base_uri": "https://localhost:8080/",
          "height": 442
        },
        "id": "WkbKWrEBPreL",
        "outputId": "92d5c009-c557-483d-bb10-a7e6bf989e2d"
      },
      "execution_count": null,
      "outputs": [
        {
          "output_type": "display_data",
          "data": {
            "text/plain": [
              "<Figure size 1000x400 with 2 Axes>"
            ],
            "image/png": "[encoded data removed]"
          },
          "metadata": {}
        },
        {
          "output_type": "stream",
          "name": "stdout",
          "text": [
            "Skewness of positive skew dataset: 1.4929418620179609\n",
            "Skewness of negative skew dataset: -0.43587349603192727\n"
          ]
        }
      ]
    },
    {
      "cell_type": "markdown",
      "source": [
        "9) Write a Python script to calculate covariance between two datasets."
      ],
      "metadata": {
        "id": "hxFrgET9RAGQ"
      }
    },
    {
      "cell_type": "code",
      "source": [
        "import numpy as np\n",
        "\n",
        "x = [2.1, 2.5, 3.6, 4.0]\n",
        "y = [1, 4, 3, 5]\n",
        "\n",
        "# covariance matrix (diagonals are variances, off-diagonals are covariances)\n",
        "cov_matrix = np.cov(x, y)\n",
        "print(\"Covariance matrix:\\n\", cov_matrix)\n",
        "\n",
        "# covariance value between x and y\n",
        "cov_xy = cov_matrix[0, 1]\n",
        "print(\"Covariance between x and y:\", cov_xy)\n"
      ],
      "metadata": {
        "colab": {
          "base_uri": "https://localhost:8080/"
        },
        "id": "vR5r7O1rQrHn",
        "outputId": "7ced6e4d-67fa-4468-cdf5-283957fcd28c"
      },
      "execution_count": null,
      "outputs": [
        {
          "output_type": "stream",
          "name": "stdout",
          "text": [
            "Covariance matrix:\n",
            " [[0.80333333 1.08333333]\n",
            " [1.08333333 2.91666667]]\n",
            "Covariance between x and y: 1.0833333333333333\n"
          ]
        }
      ]
    },
    {
      "cell_type": "markdown",
      "source": [
        "10)Write a Python script to calculate the correlation coefficient between two datasets."
      ],
      "metadata": {
        "id": "qOGmkq7MR8vW"
      }
    },
    {
      "cell_type": "code",
      "source": [
        "x = np.array([2.1, 2.5, 3.6, 4.0])\n",
        "y = np.array([1, 4, 3, 5])\n",
        "\n",
        "corr_xy = corr_matrix[0, 1]\n",
        "print(\"Pearson correlation coefficient:\", corr_xy)\n"
      ],
      "metadata": {
        "colab": {
          "base_uri": "https://localhost:8080/"
        },
        "id": "tB6jDm8IRuSH",
        "outputId": "f342657c-65a9-4e17-e009-ef5cc1552267"
      },
      "execution_count": null,
      "outputs": [
        {
          "output_type": "stream",
          "name": "stdout",
          "text": [
            "Pearson correlation coefficient: 0.7077352275684986\n"
          ]
        }
      ]
    },
    {
      "cell_type": "markdown",
      "source": [
        "11)Create a scatter plot to visualize the relationship between two variables."
      ],
      "metadata": {
        "id": "nbnu68iCSwQB"
      }
    },
    {
      "cell_type": "code",
      "source": [
        "import matplotlib.pyplot as plt\n",
        "\n",
        "# data: x = study hours, y = test scores\n",
        "x = [1, 2, 3, 4, 5, 6, 7, 8, 9, 10]\n",
        "y = [50, 55, 56, 60, 62, 65, 70, 72, 75, 78]\n",
        "\n",
        "plt.scatter(x, y)\n",
        "plt.title(\"Scatter Plot: Study Hours vs Test Scores\")\n",
        "plt.xlabel(\"Study Hours\")\n",
        "plt.ylabel(\"Test Score\")\n",
        "plt.show()\n"
      ],
      "metadata": {
        "colab": {
          "base_uri": "https://localhost:8080/",
          "height": 472
        },
        "id": "e8jQ8xa1SVFQ",
        "outputId": "310eef7b-bb90-4272-8051-3b9abf93bc51"
      },
      "execution_count": null,
      "outputs": [
        {
          "output_type": "display_data",
          "data": {
            "text/plain": [
              "<Figure size 640x480 with 1 Axes>"
            ],
            "image/png": "[encoded data removed]"
          },
          "metadata": {}
        }
      ]
    },
    {
      "cell_type": "markdown",
      "source": [
        "12) Implement and compare simple random sampling and systematic sampling."
      ],
      "metadata": {
        "id": "HeAiNmUYTOVa"
      }
    },
    {
      "cell_type": "code",
      "source": [
        "del range\n",
        "import pandas as pd\n",
        "import random\n",
        "data = pd.DataFrame({\n",
        "    'ID': range(1, 21),\n",
        "    'Name': [f'Person_{i}' for i in range(1, 21)]\n",
        "})\n",
        "print(\"Full Dataset:\\n\", data)\n",
        "\n",
        "simple_random_sample = data.sample(n=5, random_state=42)\n",
        "print(\"\\nSimple Random Sample:\\n\", simple_random_sample)\n",
        "\n",
        "interval = 4\n",
        "start = 0\n",
        "systematic_sample = data.iloc[start::interval]\n",
        "print(\"\\nSystematic Sample:\\n\", systematic_sample)\n"
      ],
      "metadata": {
        "colab": {
          "base_uri": "https://localhost:8080/"
        },
        "id": "FIG9r-cWS_0M",
        "outputId": "ea5034e8-ca11-4bd4-98d7-474213801c7f"
      },
      "execution_count": null,
      "outputs": [
        {
          "output_type": "stream",
          "name": "stdout",
          "text": [
            "Full Dataset:\n",
            "     ID       Name\n",
            "0    1   Person_1\n",
            "1    2   Person_2\n",
            "2    3   Person_3\n",
            "3    4   Person_4\n",
            "4    5   Person_5\n",
            "5    6   Person_6\n",
            "6    7   Person_7\n",
            "7    8   Person_8\n",
            "8    9   Person_9\n",
            "9   10  Person_10\n",
            "10  11  Person_11\n",
            "11  12  Person_12\n",
            "12  13  Person_13\n",
            "13  14  Person_14\n",
            "14  15  Person_15\n",
            "15  16  Person_16\n",
            "16  17  Person_17\n",
            "17  18  Person_18\n",
            "18  19  Person_19\n",
            "19  20  Person_20\n",
            "\n",
            "Simple Random Sample:\n",
            "     ID       Name\n",
            "0    1   Person_1\n",
            "17  18  Person_18\n",
            "15  16  Person_16\n",
            "1    2   Person_2\n",
            "8    9   Person_9\n",
            "\n",
            "Systematic Sample:\n",
            "     ID       Name\n",
            "0    1   Person_1\n",
            "4    5   Person_5\n",
            "8    9   Person_9\n",
            "12  13  Person_13\n",
            "16  17  Person_17\n"
          ]
        }
      ]
    },
    {
      "cell_type": "markdown",
      "source": [
        "13) Calculate the mean, median, and mode of grouped data"
      ],
      "metadata": {
        "id": "L4KRhzO-WZju"
      }
    },
    {
      "cell_type": "code",
      "source": [
        "import statistics\n",
        "\n",
        "intervals = [(10, 20), (20, 30), (30, 40), (40, 50)]\n",
        "frequencies = [3, 8, 12, 7]\n",
        "\n",
        "# Calculate midpoints\n",
        "midpoints = [(low + high) / 2 for low, high in intervals]\n",
        "\n",
        "# Expand the data: repeat each midpoint according to its frequency\n",
        "data = []\n",
        "for midpoint, freq in zip(midpoints, frequencies):\n",
        "    data.extend([midpoint] * freq)\n",
        "\n",
        "\n",
        "mean = statistics.mean(data)\n",
        "median = statistics.median(data)\n",
        "mode = statistics.mode(data)\n",
        "\n",
        "print(\"Mean:\", mean)\n",
        "print(\"Median:\", median)\n",
        "print(\"Mode:\", mode)\n"
      ],
      "metadata": {
        "colab": {
          "base_uri": "https://localhost:8080/"
        },
        "id": "CCmoduJoUYV5",
        "outputId": "e443bc4f-77f6-48b1-82e8-989b6d9c42a1"
      },
      "execution_count": null,
      "outputs": [
        {
          "output_type": "stream",
          "name": "stdout",
          "text": [
            "Mean: 32.666666666666664\n",
            "Median: 35.0\n",
            "Mode: 35.0\n"
          ]
        }
      ]
    },
    {
      "cell_type": "markdown",
      "source": [
        "14)Simulate data using Python and calculate its central tendency and dispersion."
      ],
      "metadata": {
        "id": "U5Y6V0ljXpCN"
      }
    },
    {
      "cell_type": "code",
      "source": [
        "import statistics\n",
        "\n",
        "# exam scores\n",
        "data = [55, 60, 65, 70, 75, 80, 85, 90, 95, 100]\n",
        "\n",
        "# central tendency\n",
        "mean = statistics.mean(data)\n",
        "median = statistics.median(data)\n",
        "mode = statistics.mode(data)  # Will raise error if no repeated value\n",
        "\n",
        "# dispersion\n",
        "variance = statistics.variance(data)\n",
        "std_dev = statistics.stdev(data)\n",
        "\n",
        "print(\"Data:\", data)\n",
        "print(\"Mean:\", mean)\n",
        "print(\"Median:\", median)\n",
        "print(\"Mode:\", mode)\n",
        "print(\"Variance:\", variance)\n",
        "print(\"Standard Deviation:\", std_dev)\n"
      ],
      "metadata": {
        "colab": {
          "base_uri": "https://localhost:8080/"
        },
        "id": "rhg2Z5IPXfxJ",
        "outputId": "713020a4-3968-4a38-e6f4-78685a2d6d2c"
      },
      "execution_count": null,
      "outputs": [
        {
          "output_type": "stream",
          "name": "stdout",
          "text": [
            "Data: [55, 60, 65, 70, 75, 80, 85, 90, 95, 100]\n",
            "Mean: 77.5\n",
            "Median: 77.5\n",
            "Mode: 55\n",
            "Variance: 229.16666666666666\n",
            "Standard Deviation: 15.138251770487459\n"
          ]
        }
      ]
    },
    {
      "cell_type": "markdown",
      "source": [
        "15)Use NumPy or pandas to summarize a dataset’s descriptive statistics."
      ],
      "metadata": {
        "id": "3A5Gw3MRYHiU"
      }
    },
    {
      "cell_type": "code",
      "source": [
        "import numpy as np\n",
        "data = np.array([10, 20, 30, 40, 50])\n",
        "\n",
        "mean = np.mean(data)\n",
        "median = np.median(data)\n",
        "std_dev = np.std(data)\n",
        "minimum = np.min(data)\n",
        "maximum = np.max(data)\n",
        "\n",
        "print(f\"Mean: {mean}, Median: {median}, Std Dev: {std_dev}, Min: {minimum}, Max: {maximum}\")"
      ],
      "metadata": {
        "id": "Xx5pEPgaYAEs",
        "colab": {
          "base_uri": "https://localhost:8080/"
        },
        "outputId": "e6684277-bed9-46a2-ad4d-77e404a9ba77"
      },
      "execution_count": 1,
      "outputs": [
        {
          "output_type": "stream",
          "name": "stdout",
          "text": [
            "Mean: 30.0, Median: 30.0, Std Dev: 14.142135623730951, Min: 10, Max: 50\n"
          ]
        }
      ]
    },
    {
      "cell_type": "markdown",
      "source": [
        "16) Plot a boxplot to understand the spread and identify outliers."
      ],
      "metadata": {
        "id": "SsOu5B6Igqp3"
      }
    },
    {
      "cell_type": "code",
      "source": [
        "import pandas as pd\n",
        "import matplotlib.pyplot as plt\n",
        "\n",
        "data = {'Math': [88, 74, 96, 85, 91],\n",
        "        'Science': [92, 80, 75, 88, 90],\n",
        "        'English': [79, 84, 87, 90, 93]}\n",
        "df = pd.DataFrame(data)\n",
        "\n",
        "df.boxplot()\n",
        "plt.title(\"Boxplot of Scores\")\n",
        "plt.ylabel(\"Scores\")\n",
        "plt.show()"
      ],
      "metadata": {
        "colab": {
          "base_uri": "https://localhost:8080/",
          "height": 452
        },
        "id": "SGIjfYC_gkub",
        "outputId": "f9cd1201-c9a6-465a-d52c-1547368b968e"
      },
      "execution_count": 2,
      "outputs": [
        {
          "output_type": "display_data",
          "data": {
            "text/plain": [
              "<Figure size 640x480 with 1 Axes>"
            ],
            "image/png": "[encoded data removed]"
          },
          "metadata": {}
        }
      ]
    },
    {
      "cell_type": "markdown",
      "source": [
        "17) Calculate the interquartile range (IQR) of a dataset."
      ],
      "metadata": {
        "id": "2tbydzoMg7hf"
      }
    },
    {
      "cell_type": "code",
      "source": [
        "import numpy as np\n",
        "\n",
        "data = [14, 19, 20, 22, 24, 26, 27, 30, 30, 31, 36, 38, 44, 47]\n",
        "q1 = np.percentile(data, 25)\n",
        "q3 = np.percentile(data, 75)\n",
        "iqr = q3 - q1\n",
        "print(\"IQR:\", iqr)\n"
      ],
      "metadata": {
        "colab": {
          "base_uri": "https://localhost:8080/"
        },
        "id": "oZJzjtEig5NP",
        "outputId": "85493ff4-495f-4b14-cc43-f3776231170c"
      },
      "execution_count": 3,
      "outputs": [
        {
          "output_type": "stream",
          "name": "stdout",
          "text": [
            "IQR: 12.25\n"
          ]
        }
      ]
    },
    {
      "cell_type": "markdown",
      "source": [
        "18) Implement Z-score normalization and explain its significance."
      ],
      "metadata": {
        "id": "rNs7Hp8dhHPF"
      }
    },
    {
      "cell_type": "code",
      "source": [
        "import numpy as np\n",
        "\n",
        "data = np.array([[22, 20000],\n",
        "                 [25, 30000],\n",
        "                 [30, 40000],\n",
        "                 [35, 50000],\n",
        "                 [40, 60000]])\n",
        "\n",
        "mean = np.mean(data, axis=0)\n",
        "std_dev = np.std(data, axis=0)\n",
        "\n",
        "# Apply Z-score normalization\n",
        "normalized_data = (data - mean) / std_dev\n",
        "\n",
        "print(\"Normalized Data:\")\n",
        "print(normalized_data)\n"
      ],
      "metadata": {
        "colab": {
          "base_uri": "https://localhost:8080/"
        },
        "id": "YD9nA2BfhF4F",
        "outputId": "f0b6eb0b-02f8-4c3e-9e89-1aa6329d2179"
      },
      "execution_count": 4,
      "outputs": [
        {
          "output_type": "stream",
          "name": "stdout",
          "text": [
            "Normalized Data:\n",
            "[[-1.28638417 -1.41421356]\n",
            " [-0.82696125 -0.70710678]\n",
            " [-0.06125639  0.        ]\n",
            " [ 0.70444848  0.70710678]\n",
            " [ 1.47015334  1.41421356]]\n"
          ]
        }
      ]
    },
    {
      "cell_type": "markdown",
      "source": [
        "19)Compare two datasets using their standard deviations."
      ],
      "metadata": {
        "id": "aMI0saj8hpeA"
      }
    },
    {
      "cell_type": "code",
      "source": [
        "import statistics\n",
        "\n",
        "dataset_a = [2, 4, 4, 4, 5, 5, 7, 9]\n",
        "dataset_b = [10, 12, 23, 23, 16, 23, 21, 16]\n",
        "\n",
        "std_a = statistics.stdev(dataset_a)\n",
        "std_b = statistics.stdev(dataset_b)\n",
        "\n",
        "print(\"Standard deviation of Dataset A:\", std_a)\n",
        "print(\"Standard deviation of Dataset B:\", std_b)\n",
        "\n",
        "# Interpretation\n",
        "if std_a < std_b:\n",
        "    print(\"Dataset A is less spread out than Dataset B.\")\n",
        "else:\n",
        "    print(\"Dataset B is less spread out than Dataset A.\")\n"
      ],
      "metadata": {
        "colab": {
          "base_uri": "https://localhost:8080/"
        },
        "id": "_SYIzTFKhkMq",
        "outputId": "1217a211-cc4a-4b49-e182-ba972a72a201"
      },
      "execution_count": 5,
      "outputs": [
        {
          "output_type": "stream",
          "name": "stdout",
          "text": [
            "Standard deviation of Dataset A: 2.138089935299395\n",
            "Standard deviation of Dataset B: 5.237229365663818\n",
            "Dataset A is less spread out than Dataset B.\n"
          ]
        }
      ]
    },
    {
      "cell_type": "markdown",
      "source": [
        "20) Write a Python program to visualize covariance using a heatmap."
      ],
      "metadata": {
        "id": "CFC3kw5siNM1"
      }
    },
    {
      "cell_type": "code",
      "source": [
        "import pandas as pd\n",
        "import numpy as np\n",
        "import seaborn as sns\n",
        "import matplotlib.pyplot as plt\n",
        "\n",
        "data = {\n",
        "    'A': [1, 2, 3, 4, 5],\n",
        "    'B': [5, 4, 3, 2, 1],\n",
        "    'C': [2, 3, 4, 5, 6]\n",
        "}\n",
        "df = pd.DataFrame(data)\n",
        "cov_matrix = df.cov()\n",
        "\n",
        "sns.heatmap(cov_matrix, annot=True, cmap=\"YlGnBu\")\n",
        "plt.title(\"Covariance Matrix Heatmap\")\n",
        "plt.show()\n"
      ],
      "metadata": {
        "colab": {
          "base_uri": "https://localhost:8080/",
          "height": 452
        },
        "id": "vaBtnHaOiLaH",
        "outputId": "74aa826d-ec13-4d6c-eeb9-31aeb2132066"
      },
      "execution_count": 6,
      "outputs": [
        {
          "output_type": "display_data",
          "data": {
            "text/plain": [
              "<Figure size 640x480 with 2 Axes>"
            ],
            "image/png": "[encoded data removed]"
          },
          "metadata": {}
        }
      ]
    },
    {
      "cell_type": "markdown",
      "source": [
        "21) Use seaborn to create a correlation matrix for a dataset."
      ],
      "metadata": {
        "id": "ZK5U0ET2iyHz"
      }
    },
    {
      "cell_type": "code",
      "source": [
        "import seaborn as sns\n",
        "import matplotlib.pyplot as plt\n",
        "\n",
        "df = sns.load_dataset('iris')\n",
        "\n",
        "corr_matrix = df.corr(numeric_only=True)\n",
        "\n",
        "sns.heatmap(corr_matrix, cmap='coolwarm', annot=True)\n",
        "\n",
        "plt.title(\"Correlation Matrix Heatmap\")\n",
        "plt.show()\n"
      ],
      "metadata": {
        "colab": {
          "base_uri": "https://localhost:8080/",
          "height": 452
        },
        "id": "-0EkadZQit8R",
        "outputId": "59eb087e-4323-4d1f-b0dc-c3c4033b2f42"
      },
      "execution_count": 7,
      "outputs": [
        {
          "output_type": "display_data",
          "data": {
            "text/plain": [
              "<Figure size 640x480 with 2 Axes>"
            ],
            "image/png": "[encoded data removed]"
          },
          "metadata": {}
        }
      ]
    },
    {
      "cell_type": "markdown",
      "source": [
        "22) Generate a dataset and implement both variance and standard deviation computations."
      ],
      "metadata": {
        "id": "aEm_QlVajFSu"
      }
    },
    {
      "cell_type": "code",
      "source": [
        "import numpy as np\n",
        "\n",
        "#np.random.seed(0)  # For reproducibility\n",
        "data = np.random.randint(1, 101, size=10)\n",
        "print(\"Dataset:\", data)\n",
        "\n",
        "variance = np.var(data, ddof=1)\n",
        "print(\"Variance:\", variance)\n",
        "\n",
        "std_dev = np.std(data, ddof=1)\n",
        "print(\"Standard Deviation:\", std_dev)\n"
      ],
      "metadata": {
        "colab": {
          "base_uri": "https://localhost:8080/"
        },
        "id": "sSelqKD7jDcD",
        "outputId": "e5a752d1-8abf-4b7a-e61f-6ddf17daec8b"
      },
      "execution_count": 10,
      "outputs": [
        {
          "output_type": "stream",
          "name": "stdout",
          "text": [
            "Dataset: [82 38 26 78 73 10 21 81 70 80]\n",
            "Variance: 823.4333333333334\n",
            "Standard Deviation: 28.69552810689034\n"
          ]
        }
      ]
    },
    {
      "cell_type": "markdown",
      "source": [
        "23) Visualize skewness and kurtosis using Python libraries like matplotlib or seaborn."
      ],
      "metadata": {
        "id": "fdtgZogxjbRb"
      }
    },
    {
      "cell_type": "code",
      "source": [
        "import seaborn as sns\n",
        "import matplotlib.pyplot as plt\n",
        "import numpy as np\n",
        "\n",
        "data = np.random.exponential(scale=2, size=500)  # This will look skewed\n",
        "\n",
        "#histogram with a smooth curve (KDE)\n",
        "sns.histplot(data, bins=30, kde=True, color='skyblue')\n",
        "plt.title(\"Visualizing Skewness and Kurtosis\")\n",
        "plt.xlabel(\"Value\")\n",
        "plt.ylabel(\"Frequency\")\n",
        "plt.show()\n"
      ],
      "metadata": {
        "colab": {
          "base_uri": "https://localhost:8080/",
          "height": 472
        },
        "id": "4ZFw4zPKjVJC",
        "outputId": "b973ad12-1b84-4761-a8d5-89e50712e961"
      },
      "execution_count": 11,
      "outputs": [
        {
          "output_type": "display_data",
          "data": {
            "text/plain": [
              "<Figure size 640x480 with 1 Axes>"
            ],
            "image/png": "[encoded data removed]"
          },
          "metadata": {}
        }
      ]
    },
    {
      "cell_type": "markdown",
      "source": [
        "24) Implement the Pearson and Spearman correlation coefficients for a dataset."
      ],
      "metadata": {
        "id": "uSPPYRmFj4SN"
      }
    },
    {
      "cell_type": "code",
      "source": [
        "from scipy.stats import pearsonr, spearmanr\n",
        "\n",
        "x = [1, 2, 3, 4, 5]\n",
        "y = [5, 4, 3, 2, 1]\n",
        "\n",
        "corr_coef, p_value = pearsonr(x, y)\n",
        "\n",
        "print(\"Pearson correlation coefficient:\", corr_coef)\n",
        "print(\"p-value:\", p_value)\n",
        "\n",
        "corr_coef, p_value = spearmanr(x, y)\n",
        "\n",
        "print(\"Spearman correlation coefficient:\", corr_coef)\n",
        "print(\"p-value:\", p_value)"
      ],
      "metadata": {
        "colab": {
          "base_uri": "https://localhost:8080/"
        },
        "id": "LNbhD1kLj2J2",
        "outputId": "ceb3be8e-8983-4466-c358-d62755602152"
      },
      "execution_count": 15,
      "outputs": [
        {
          "output_type": "stream",
          "name": "stdout",
          "text": [
            "Pearson correlation coefficient: -1.0\n",
            "p-value: 0.0\n",
            "Spearman correlation coefficient: -0.9999999999999999\n",
            "p-value: 1.4042654220543672e-24\n"
          ]
        }
      ]
    },
    {
      "cell_type": "code",
      "source": [],
      "metadata": {
        "id": "xtbKFpe0lCED"
      },
      "execution_count": null,
      "outputs": []
    }
  ]
}